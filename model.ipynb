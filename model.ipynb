{
 "cells": [
  {
   "cell_type": "markdown",
   "id": "cea2096c",
   "metadata": {},
   "source": [
    "## AirBnB Project\n",
    "In this project we are going to make a model for giving us insights on the price of an AirBnB in New York **(NY)** in America, with this dataset from kaggle.\n",
    "\n",
    "For the Column that we will be using is as follows:\n",
    "- neighbourhood\n",
    "- neighbourhood group\n",
    "- room type \n",
    "- price\n",
    "- construction year\n",
    "- availability 365\n",
    "- minimum nights\n",
    "\n",
    "\n",
    "By making the model we can make an interactive dashboard for user to interact with via streamlit.\n",
    "\n",
    "\n",
    "Here is the Dataset Link: https://www.kaggle.com/datasets/arianazmoudeh/airbnbopendata?resource=download\n"
   ]
  },
  {
   "cell_type": "code",
   "execution_count": 1,
   "id": "f17709a1",
   "metadata": {},
   "outputs": [],
   "source": [
    "# importing the necesarry libraries\n",
    "\n",
    "# Data manipulation\n",
    "import numpy as np\n",
    "import pandas as pd\n",
    "\n",
    "# Data visualization\n",
    "import matplotlib.pyplot as plt\n",
    "import seaborn as sns\n",
    "import random #this is for the visual color\n",
    "\n",
    "# Preprocessing and model utilities\n",
    "from sklearn.model_selection import train_test_split, cross_val_score, GridSearchCV\n",
    "from sklearn.preprocessing import StandardScaler, MinMaxScaler, LabelEncoder, OneHotEncoder\n",
    "from sklearn.metrics import mean_squared_error, r2_score\n",
    "\n",
    "# Models\n",
    "from sklearn.ensemble import RandomForestRegressor  # Changed from Classifier to Regressor\n",
    "import xgboost as xgb"
   ]
  },
  {
   "cell_type": "markdown",
   "id": "d5cf6ff1",
   "metadata": {},
   "source": [
    "### Knowing the Dataset"
   ]
  },
  {
   "cell_type": "code",
   "execution_count": 2,
   "id": "a1bffe62",
   "metadata": {},
   "outputs": [
    {
     "name": "stderr",
     "output_type": "stream",
     "text": [
      "/tmp/ipykernel_20105/1113942449.py:1: DtypeWarning: Columns (25) have mixed types. Specify dtype option on import or set low_memory=False.\n",
      "  data = pd.read_csv(\"Airbnb_Open_Data.csv\")\n"
     ]
    },
    {
     "data": {
      "text/html": [
       "<div>\n",
       "<style scoped>\n",
       "    .dataframe tbody tr th:only-of-type {\n",
       "        vertical-align: middle;\n",
       "    }\n",
       "\n",
       "    .dataframe tbody tr th {\n",
       "        vertical-align: top;\n",
       "    }\n",
       "\n",
       "    .dataframe thead th {\n",
       "        text-align: right;\n",
       "    }\n",
       "</style>\n",
       "<table border=\"1\" class=\"dataframe\">\n",
       "  <thead>\n",
       "    <tr style=\"text-align: right;\">\n",
       "      <th></th>\n",
       "      <th>id</th>\n",
       "      <th>NAME</th>\n",
       "      <th>host id</th>\n",
       "      <th>host_identity_verified</th>\n",
       "      <th>host name</th>\n",
       "      <th>neighbourhood group</th>\n",
       "      <th>neighbourhood</th>\n",
       "      <th>lat</th>\n",
       "      <th>long</th>\n",
       "      <th>country</th>\n",
       "      <th>...</th>\n",
       "      <th>service fee</th>\n",
       "      <th>minimum nights</th>\n",
       "      <th>number of reviews</th>\n",
       "      <th>last review</th>\n",
       "      <th>reviews per month</th>\n",
       "      <th>review rate number</th>\n",
       "      <th>calculated host listings count</th>\n",
       "      <th>availability 365</th>\n",
       "      <th>house_rules</th>\n",
       "      <th>license</th>\n",
       "    </tr>\n",
       "  </thead>\n",
       "  <tbody>\n",
       "    <tr>\n",
       "      <th>0</th>\n",
       "      <td>1001254</td>\n",
       "      <td>Clean &amp; quiet apt home by the park</td>\n",
       "      <td>80014485718</td>\n",
       "      <td>unconfirmed</td>\n",
       "      <td>Madaline</td>\n",
       "      <td>Brooklyn</td>\n",
       "      <td>Kensington</td>\n",
       "      <td>40.64749</td>\n",
       "      <td>-73.97237</td>\n",
       "      <td>United States</td>\n",
       "      <td>...</td>\n",
       "      <td>$193</td>\n",
       "      <td>10.0</td>\n",
       "      <td>9.0</td>\n",
       "      <td>10/19/2021</td>\n",
       "      <td>0.21</td>\n",
       "      <td>4.0</td>\n",
       "      <td>6.0</td>\n",
       "      <td>286.0</td>\n",
       "      <td>Clean up and treat the home the way you'd like...</td>\n",
       "      <td>NaN</td>\n",
       "    </tr>\n",
       "    <tr>\n",
       "      <th>1</th>\n",
       "      <td>1002102</td>\n",
       "      <td>Skylit Midtown Castle</td>\n",
       "      <td>52335172823</td>\n",
       "      <td>verified</td>\n",
       "      <td>Jenna</td>\n",
       "      <td>Manhattan</td>\n",
       "      <td>Midtown</td>\n",
       "      <td>40.75362</td>\n",
       "      <td>-73.98377</td>\n",
       "      <td>United States</td>\n",
       "      <td>...</td>\n",
       "      <td>$28</td>\n",
       "      <td>30.0</td>\n",
       "      <td>45.0</td>\n",
       "      <td>5/21/2022</td>\n",
       "      <td>0.38</td>\n",
       "      <td>4.0</td>\n",
       "      <td>2.0</td>\n",
       "      <td>228.0</td>\n",
       "      <td>Pet friendly but please confirm with me if the...</td>\n",
       "      <td>NaN</td>\n",
       "    </tr>\n",
       "    <tr>\n",
       "      <th>2</th>\n",
       "      <td>1002403</td>\n",
       "      <td>THE VILLAGE OF HARLEM....NEW YORK !</td>\n",
       "      <td>78829239556</td>\n",
       "      <td>NaN</td>\n",
       "      <td>Elise</td>\n",
       "      <td>Manhattan</td>\n",
       "      <td>Harlem</td>\n",
       "      <td>40.80902</td>\n",
       "      <td>-73.94190</td>\n",
       "      <td>United States</td>\n",
       "      <td>...</td>\n",
       "      <td>$124</td>\n",
       "      <td>3.0</td>\n",
       "      <td>0.0</td>\n",
       "      <td>NaN</td>\n",
       "      <td>NaN</td>\n",
       "      <td>5.0</td>\n",
       "      <td>1.0</td>\n",
       "      <td>352.0</td>\n",
       "      <td>I encourage you to use my kitchen, cooking and...</td>\n",
       "      <td>NaN</td>\n",
       "    </tr>\n",
       "    <tr>\n",
       "      <th>3</th>\n",
       "      <td>1002755</td>\n",
       "      <td>NaN</td>\n",
       "      <td>85098326012</td>\n",
       "      <td>unconfirmed</td>\n",
       "      <td>Garry</td>\n",
       "      <td>Brooklyn</td>\n",
       "      <td>Clinton Hill</td>\n",
       "      <td>40.68514</td>\n",
       "      <td>-73.95976</td>\n",
       "      <td>United States</td>\n",
       "      <td>...</td>\n",
       "      <td>$74</td>\n",
       "      <td>30.0</td>\n",
       "      <td>270.0</td>\n",
       "      <td>7/5/2019</td>\n",
       "      <td>4.64</td>\n",
       "      <td>4.0</td>\n",
       "      <td>1.0</td>\n",
       "      <td>322.0</td>\n",
       "      <td>NaN</td>\n",
       "      <td>NaN</td>\n",
       "    </tr>\n",
       "    <tr>\n",
       "      <th>4</th>\n",
       "      <td>1003689</td>\n",
       "      <td>Entire Apt: Spacious Studio/Loft by central park</td>\n",
       "      <td>92037596077</td>\n",
       "      <td>verified</td>\n",
       "      <td>Lyndon</td>\n",
       "      <td>Manhattan</td>\n",
       "      <td>East Harlem</td>\n",
       "      <td>40.79851</td>\n",
       "      <td>-73.94399</td>\n",
       "      <td>United States</td>\n",
       "      <td>...</td>\n",
       "      <td>$41</td>\n",
       "      <td>10.0</td>\n",
       "      <td>9.0</td>\n",
       "      <td>11/19/2018</td>\n",
       "      <td>0.10</td>\n",
       "      <td>3.0</td>\n",
       "      <td>1.0</td>\n",
       "      <td>289.0</td>\n",
       "      <td>Please no smoking in the house, porch or on th...</td>\n",
       "      <td>NaN</td>\n",
       "    </tr>\n",
       "  </tbody>\n",
       "</table>\n",
       "<p>5 rows × 26 columns</p>\n",
       "</div>"
      ],
      "text/plain": [
       "        id                                              NAME      host id  \\\n",
       "0  1001254                Clean & quiet apt home by the park  80014485718   \n",
       "1  1002102                             Skylit Midtown Castle  52335172823   \n",
       "2  1002403               THE VILLAGE OF HARLEM....NEW YORK !  78829239556   \n",
       "3  1002755                                               NaN  85098326012   \n",
       "4  1003689  Entire Apt: Spacious Studio/Loft by central park  92037596077   \n",
       "\n",
       "  host_identity_verified host name neighbourhood group neighbourhood  \\\n",
       "0            unconfirmed  Madaline            Brooklyn    Kensington   \n",
       "1               verified     Jenna           Manhattan       Midtown   \n",
       "2                    NaN     Elise           Manhattan        Harlem   \n",
       "3            unconfirmed     Garry            Brooklyn  Clinton Hill   \n",
       "4               verified    Lyndon           Manhattan   East Harlem   \n",
       "\n",
       "        lat      long        country  ... service fee minimum nights  \\\n",
       "0  40.64749 -73.97237  United States  ...       $193            10.0   \n",
       "1  40.75362 -73.98377  United States  ...        $28            30.0   \n",
       "2  40.80902 -73.94190  United States  ...       $124             3.0   \n",
       "3  40.68514 -73.95976  United States  ...        $74            30.0   \n",
       "4  40.79851 -73.94399  United States  ...        $41            10.0   \n",
       "\n",
       "  number of reviews last review  reviews per month review rate number  \\\n",
       "0               9.0  10/19/2021               0.21                4.0   \n",
       "1              45.0   5/21/2022               0.38                4.0   \n",
       "2               0.0         NaN                NaN                5.0   \n",
       "3             270.0    7/5/2019               4.64                4.0   \n",
       "4               9.0  11/19/2018               0.10                3.0   \n",
       "\n",
       "  calculated host listings count  availability 365  \\\n",
       "0                            6.0             286.0   \n",
       "1                            2.0             228.0   \n",
       "2                            1.0             352.0   \n",
       "3                            1.0             322.0   \n",
       "4                            1.0             289.0   \n",
       "\n",
       "                                         house_rules license  \n",
       "0  Clean up and treat the home the way you'd like...     NaN  \n",
       "1  Pet friendly but please confirm with me if the...     NaN  \n",
       "2  I encourage you to use my kitchen, cooking and...     NaN  \n",
       "3                                                NaN     NaN  \n",
       "4  Please no smoking in the house, porch or on th...     NaN  \n",
       "\n",
       "[5 rows x 26 columns]"
      ]
     },
     "execution_count": 2,
     "metadata": {},
     "output_type": "execute_result"
    }
   ],
   "source": [
    "data = pd.read_csv(\"Airbnb_Open_Data.csv\")\n",
    "data.head()"
   ]
  },
  {
   "cell_type": "code",
   "execution_count": 3,
   "id": "690a2f47",
   "metadata": {},
   "outputs": [
    {
     "name": "stdout",
     "output_type": "stream",
     "text": [
      "<class 'pandas.core.frame.DataFrame'>\n",
      "RangeIndex: 102599 entries, 0 to 102598\n",
      "Data columns (total 26 columns):\n",
      " #   Column                          Non-Null Count   Dtype  \n",
      "---  ------                          --------------   -----  \n",
      " 0   id                              102599 non-null  int64  \n",
      " 1   NAME                            102349 non-null  object \n",
      " 2   host id                         102599 non-null  int64  \n",
      " 3   host_identity_verified          102310 non-null  object \n",
      " 4   host name                       102193 non-null  object \n",
      " 5   neighbourhood group             102570 non-null  object \n",
      " 6   neighbourhood                   102583 non-null  object \n",
      " 7   lat                             102591 non-null  float64\n",
      " 8   long                            102591 non-null  float64\n",
      " 9   country                         102067 non-null  object \n",
      " 10  country code                    102468 non-null  object \n",
      " 11  instant_bookable                102494 non-null  object \n",
      " 12  cancellation_policy             102523 non-null  object \n",
      " 13  room type                       102599 non-null  object \n",
      " 14  Construction year               102385 non-null  float64\n",
      " 15  price                           102352 non-null  object \n",
      " 16  service fee                     102326 non-null  object \n",
      " 17  minimum nights                  102190 non-null  float64\n",
      " 18  number of reviews               102416 non-null  float64\n",
      " 19  last review                     86706 non-null   object \n",
      " 20  reviews per month               86720 non-null   float64\n",
      " 21  review rate number              102273 non-null  float64\n",
      " 22  calculated host listings count  102280 non-null  float64\n",
      " 23  availability 365                102151 non-null  float64\n",
      " 24  house_rules                     50468 non-null   object \n",
      " 25  license                         2 non-null       object \n",
      "dtypes: float64(9), int64(2), object(15)\n",
      "memory usage: 20.4+ MB\n"
     ]
    }
   ],
   "source": [
    "data.info()"
   ]
  },
  {
   "cell_type": "code",
   "execution_count": 4,
   "id": "c4f272a9",
   "metadata": {},
   "outputs": [
    {
     "name": "stdout",
     "output_type": "stream",
     "text": [
      "Missing Values Summary:\n",
      "                                                        Column  Missing Count  \\\n",
      "license                                                license         102597   \n",
      "house_rules                                        house_rules          52131   \n",
      "last review                                        last review          15893   \n",
      "reviews per month                            reviews per month          15879   \n",
      "country                                                country            532   \n",
      "availability 365                              availability 365            448   \n",
      "minimum nights                                  minimum nights            409   \n",
      "host name                                            host name            406   \n",
      "review rate number                          review rate number            326   \n",
      "calculated host listings count  calculated host listings count            319   \n",
      "host_identity_verified                  host_identity_verified            289   \n",
      "service fee                                        service fee            273   \n",
      "NAME                                                      NAME            250   \n",
      "price                                                    price            247   \n",
      "Construction year                            Construction year            214   \n",
      "number of reviews                            number of reviews            183   \n",
      "country code                                      country code            131   \n",
      "instant_bookable                              instant_bookable            105   \n",
      "cancellation_policy                        cancellation_policy             76   \n",
      "neighbourhood group                        neighbourhood group             29   \n",
      "neighbourhood                                    neighbourhood             16   \n",
      "long                                                      long              8   \n",
      "lat                                                        lat              8   \n",
      "\n",
      "                                Missing Percentage  \n",
      "license                                  99.998051  \n",
      "house_rules                              50.810437  \n",
      "last review                              15.490404  \n",
      "reviews per month                        15.476759  \n",
      "country                                   0.518524  \n",
      "availability 365                          0.436651  \n",
      "minimum nights                            0.398639  \n",
      "host name                                 0.395715  \n",
      "review rate number                        0.317742  \n",
      "calculated host listings count            0.310919  \n",
      "host_identity_verified                    0.281679  \n",
      "service fee                               0.266084  \n",
      "NAME                                      0.243667  \n",
      "price                                     0.240743  \n",
      "Construction year                         0.208579  \n",
      "number of reviews                         0.178364  \n",
      "country code                              0.127682  \n",
      "instant_bookable                          0.102340  \n",
      "cancellation_policy                       0.074075  \n",
      "neighbourhood group                       0.028265  \n",
      "neighbourhood                             0.015595  \n",
      "long                                      0.007797  \n",
      "lat                                       0.007797  \n"
     ]
    }
   ],
   "source": [
    "# Now we're going to see if theres any null/missing values and duplicate \n",
    "missing_percentage = (data.isnull().sum() / len(data)) * 100\n",
    "missing_summary = pd.DataFrame({\n",
    "    'Column': data.columns,\n",
    "    'Missing Count': data.isnull().sum(),\n",
    "    'Missing Percentage': missing_percentage\n",
    "}).sort_values('Missing Percentage', ascending=False)\n",
    "\n",
    "print(\"Missing Values Summary:\")\n",
    "print(missing_summary[missing_summary['Missing Percentage'] > 0])"
   ]
  },
  {
   "cell_type": "code",
   "execution_count": 5,
   "id": "db8a7e77",
   "metadata": {},
   "outputs": [
    {
     "name": "stderr",
     "output_type": "stream",
     "text": [
      "<>:3: SyntaxWarning: invalid escape sequence '\\$'\n",
      "<>:3: SyntaxWarning: invalid escape sequence '\\$'\n",
      "/tmp/ipykernel_20105/1206382065.py:3: SyntaxWarning: invalid escape sequence '\\$'\n",
      "  data['price'] = data['price'].replace('[\\$,]', '', regex=True).astype(float)\n",
      "/tmp/ipykernel_20105/1206382065.py:8: FutureWarning: A value is trying to be set on a copy of a DataFrame or Series through chained assignment using an inplace method.\n",
      "The behavior will change in pandas 3.0. This inplace method will never work because the intermediate object on which we are setting values always behaves as a copy.\n",
      "\n",
      "For example, when doing 'df[col].method(value, inplace=True)', try using 'df.method({col: value}, inplace=True)' or df[col] = df[col].method(value) instead, to perform the operation inplace on the original object.\n",
      "\n",
      "\n",
      "  data[col].fillna(data[col].median(), inplace=True)\n"
     ]
    }
   ],
   "source": [
    "# Clean 'price' column before filling missing values\n",
    "if 'price' in data.columns:\n",
    "    data['price'] = data['price'].replace('[\\$,]', '', regex=True).astype(float)\n",
    "    \n",
    "# Fill numeric missing values with median\n",
    "for col in ['price', 'Construction year', 'availability 365', 'minimum nights']:\n",
    "    data[col] = pd.to_numeric(data[col], errors='coerce')  # Convert price if it's object\n",
    "    data[col].fillna(data[col].median(), inplace=True)"
   ]
  },
  {
   "cell_type": "code",
   "execution_count": 6,
   "id": "9ab8ce0b",
   "metadata": {},
   "outputs": [],
   "source": [
    "# Drop rows with missing categorical values\n",
    "data.dropna(subset=['neighbourhood', 'neighbourhood group', 'room type'], inplace=True)"
   ]
  },
  {
   "cell_type": "code",
   "execution_count": 7,
   "id": "3f04a7fa",
   "metadata": {},
   "outputs": [
    {
     "data": {
      "text/plain": [
       "id                                     0\n",
       "NAME                                 248\n",
       "host id                                0\n",
       "host_identity_verified               281\n",
       "host name                            405\n",
       "neighbourhood group                    0\n",
       "neighbourhood                          0\n",
       "lat                                    8\n",
       "long                                   8\n",
       "country                              529\n",
       "country code                         128\n",
       "instant_bookable                     102\n",
       "cancellation_policy                   73\n",
       "room type                              0\n",
       "Construction year                      0\n",
       "price                                  0\n",
       "service fee                          273\n",
       "minimum nights                         0\n",
       "number of reviews                    183\n",
       "last review                        15889\n",
       "reviews per month                  15877\n",
       "review rate number                   324\n",
       "calculated host listings count       319\n",
       "availability 365                       0\n",
       "house_rules                        52118\n",
       "license                           102552\n",
       "dtype: int64"
      ]
     },
     "execution_count": 7,
     "metadata": {},
     "output_type": "execute_result"
    }
   ],
   "source": [
    "data.isna().sum()"
   ]
  },
  {
   "cell_type": "markdown",
   "id": "e7ccb54f",
   "metadata": {},
   "source": [
    "I'll just drop the Categorical missing values of the relevant columns, and fill the Numerical missing values with **median**. The missing data itself is under 1%, so i thought the categorical data can be drop same with the numerical but i would rather fill it in (*personal preference btw*). "
   ]
  },
  {
   "cell_type": "code",
   "execution_count": 8,
   "id": "75e17970",
   "metadata": {},
   "outputs": [
    {
     "name": "stdout",
     "output_type": "stream",
     "text": [
      "Full duplicates (all columns):\n",
      "             id                                               NAME  \\\n",
      "9098    6026161     Upper East Side 2 bedroom- close to Hospitals-   \n",
      "9099    6026714  Close to East Side Hospitals- Modern 2 Bedroom...   \n",
      "9100    6027266  ACADIA Spacious 2 Bedroom Apt - Close to Hospi...   \n",
      "9101    6027818    *ENCHANTMENT* Upper East Side 2 bedroom- Sunny!   \n",
      "9102    6028371        *JAMES* Amazing Spacious 2 Bedroom- Bright!   \n",
      "...         ...                                                ...   \n",
      "102594  6092437                         Spare room in Williamsburg   \n",
      "102595  6092990                      Best Location near Columbia U   \n",
      "102596  6093542                     Comfy, bright room in Brooklyn   \n",
      "102597  6094094                   Big Studio-One Stop from Midtown   \n",
      "102598  6094647                               585 sf Luxury Studio   \n",
      "\n",
      "            host id host_identity_verified    host name neighbourhood group  \\\n",
      "9098    65193709566               verified      Juliana           Manhattan   \n",
      "9099    31072202372               verified      Juliana           Manhattan   \n",
      "9100    95854111798               verified      Juliana           Manhattan   \n",
      "9101    73401481508            unconfirmed      Juliana           Manhattan   \n",
      "9102    37678424985               verified      Juliana           Manhattan   \n",
      "...             ...                    ...          ...                 ...   \n",
      "102594  12312296767               verified         Krik            Brooklyn   \n",
      "102595  77864383453            unconfirmed        Mifan           Manhattan   \n",
      "102596  69050334417            unconfirmed        Megan            Brooklyn   \n",
      "102597  11160591270            unconfirmed  Christopher              Queens   \n",
      "102598  68170633372            unconfirmed      Rebecca           Manhattan   \n",
      "\n",
      "              neighbourhood       lat      long        country  ...  \\\n",
      "9098        Upper East Side  40.76222 -73.96030  United States  ...   \n",
      "9099        Upper East Side  40.76249 -73.96217  United States  ...   \n",
      "9100        Upper East Side  40.76021 -73.96157  United States  ...   \n",
      "9101        Upper East Side  40.76244 -73.96031  United States  ...   \n",
      "9102        Upper East Side  40.76035 -73.96133  United States  ...   \n",
      "...                     ...       ...       ...            ...  ...   \n",
      "102594         Williamsburg  40.70862 -73.94651  United States  ...   \n",
      "102595  Morningside Heights  40.80460 -73.96545  United States  ...   \n",
      "102596           Park Slope  40.67505 -73.98045  United States  ...   \n",
      "102597     Long Island City  40.74989 -73.93777  United States  ...   \n",
      "102598      Upper West Side  40.76807 -73.98342  United States  ...   \n",
      "\n",
      "       service fee minimum nights number of reviews last review  \\\n",
      "9098          $21            30.0               2.0    6/8/2019   \n",
      "9099          $57            30.0               6.0   1/31/2019   \n",
      "9100         $117            30.0              10.0  11/18/2018   \n",
      "9101         $108            30.0               9.0   9/30/2018   \n",
      "9102         $161            30.0               8.0   6/11/2019   \n",
      "...            ...            ...               ...         ...   \n",
      "102594       $169             1.0               0.0         NaN   \n",
      "102595       $167             1.0               1.0    7/6/2015   \n",
      "102596       $198             3.0               0.0         NaN   \n",
      "102597       $109             2.0               5.0  10/11/2015   \n",
      "102598       $206             1.0               0.0         NaN   \n",
      "\n",
      "        reviews per month  review rate number calculated host listings count  \\\n",
      "9098                 0.21                 3.0                           34.0   \n",
      "9099                 0.14                 3.0                           34.0   \n",
      "9100                 0.22                 5.0                           34.0   \n",
      "9101                 0.20                 5.0                           34.0   \n",
      "9102                 0.27                 4.0                           34.0   \n",
      "...                   ...                 ...                            ...   \n",
      "102594                NaN                 3.0                            1.0   \n",
      "102595               0.02                 2.0                            2.0   \n",
      "102596                NaN                 5.0                            1.0   \n",
      "102597               0.10                 3.0                            1.0   \n",
      "102598                NaN                 3.0                            1.0   \n",
      "\n",
      "        availability 365                                        house_rules  \\\n",
      "9098               157.0                                                NaN   \n",
      "9099                67.0  The quieter the better, but otherwise make you...   \n",
      "9100               211.0                                 No Smoking No Pets   \n",
      "9101               411.0  Please treat it as it were your own home and b...   \n",
      "9102               411.0  Be courteous and respectful to people in the h...   \n",
      "...                  ...                                                ...   \n",
      "102594             227.0  No Smoking No Parties or Events of any kind Pl...   \n",
      "102595             395.0  House rules: Guests agree to the following ter...   \n",
      "102596             342.0                                                NaN   \n",
      "102597             386.0                                                NaN   \n",
      "102598              69.0                                                NaN   \n",
      "\n",
      "       license  \n",
      "9098       NaN  \n",
      "9099       NaN  \n",
      "9100       NaN  \n",
      "9101       NaN  \n",
      "9102       NaN  \n",
      "...        ...  \n",
      "102594     NaN  \n",
      "102595     NaN  \n",
      "102596     NaN  \n",
      "102597     NaN  \n",
      "102598     NaN  \n",
      "\n",
      "[1082 rows x 26 columns]\n",
      "Duplicates ignoring 'id':\n",
      "             id                                               NAME  \\\n",
      "9098    6026161     Upper East Side 2 bedroom- close to Hospitals-   \n",
      "9099    6026714  Close to East Side Hospitals- Modern 2 Bedroom...   \n",
      "9100    6027266  ACADIA Spacious 2 Bedroom Apt - Close to Hospi...   \n",
      "9101    6027818    *ENCHANTMENT* Upper East Side 2 bedroom- Sunny!   \n",
      "9102    6028371        *JAMES* Amazing Spacious 2 Bedroom- Bright!   \n",
      "...         ...                                                ...   \n",
      "102594  6092437                         Spare room in Williamsburg   \n",
      "102595  6092990                      Best Location near Columbia U   \n",
      "102596  6093542                     Comfy, bright room in Brooklyn   \n",
      "102597  6094094                   Big Studio-One Stop from Midtown   \n",
      "102598  6094647                               585 sf Luxury Studio   \n",
      "\n",
      "            host id host_identity_verified    host name neighbourhood group  \\\n",
      "9098    65193709566               verified      Juliana           Manhattan   \n",
      "9099    31072202372               verified      Juliana           Manhattan   \n",
      "9100    95854111798               verified      Juliana           Manhattan   \n",
      "9101    73401481508            unconfirmed      Juliana           Manhattan   \n",
      "9102    37678424985               verified      Juliana           Manhattan   \n",
      "...             ...                    ...          ...                 ...   \n",
      "102594  12312296767               verified         Krik            Brooklyn   \n",
      "102595  77864383453            unconfirmed        Mifan           Manhattan   \n",
      "102596  69050334417            unconfirmed        Megan            Brooklyn   \n",
      "102597  11160591270            unconfirmed  Christopher              Queens   \n",
      "102598  68170633372            unconfirmed      Rebecca           Manhattan   \n",
      "\n",
      "              neighbourhood       lat      long        country  ...  \\\n",
      "9098        Upper East Side  40.76222 -73.96030  United States  ...   \n",
      "9099        Upper East Side  40.76249 -73.96217  United States  ...   \n",
      "9100        Upper East Side  40.76021 -73.96157  United States  ...   \n",
      "9101        Upper East Side  40.76244 -73.96031  United States  ...   \n",
      "9102        Upper East Side  40.76035 -73.96133  United States  ...   \n",
      "...                     ...       ...       ...            ...  ...   \n",
      "102594         Williamsburg  40.70862 -73.94651  United States  ...   \n",
      "102595  Morningside Heights  40.80460 -73.96545  United States  ...   \n",
      "102596           Park Slope  40.67505 -73.98045  United States  ...   \n",
      "102597     Long Island City  40.74989 -73.93777  United States  ...   \n",
      "102598      Upper West Side  40.76807 -73.98342  United States  ...   \n",
      "\n",
      "       service fee minimum nights number of reviews last review  \\\n",
      "9098          $21            30.0               2.0    6/8/2019   \n",
      "9099          $57            30.0               6.0   1/31/2019   \n",
      "9100         $117            30.0              10.0  11/18/2018   \n",
      "9101         $108            30.0               9.0   9/30/2018   \n",
      "9102         $161            30.0               8.0   6/11/2019   \n",
      "...            ...            ...               ...         ...   \n",
      "102594       $169             1.0               0.0         NaN   \n",
      "102595       $167             1.0               1.0    7/6/2015   \n",
      "102596       $198             3.0               0.0         NaN   \n",
      "102597       $109             2.0               5.0  10/11/2015   \n",
      "102598       $206             1.0               0.0         NaN   \n",
      "\n",
      "        reviews per month  review rate number calculated host listings count  \\\n",
      "9098                 0.21                 3.0                           34.0   \n",
      "9099                 0.14                 3.0                           34.0   \n",
      "9100                 0.22                 5.0                           34.0   \n",
      "9101                 0.20                 5.0                           34.0   \n",
      "9102                 0.27                 4.0                           34.0   \n",
      "...                   ...                 ...                            ...   \n",
      "102594                NaN                 3.0                            1.0   \n",
      "102595               0.02                 2.0                            2.0   \n",
      "102596                NaN                 5.0                            1.0   \n",
      "102597               0.10                 3.0                            1.0   \n",
      "102598                NaN                 3.0                            1.0   \n",
      "\n",
      "        availability 365                                        house_rules  \\\n",
      "9098               157.0                                                NaN   \n",
      "9099                67.0  The quieter the better, but otherwise make you...   \n",
      "9100               211.0                                 No Smoking No Pets   \n",
      "9101               411.0  Please treat it as it were your own home and b...   \n",
      "9102               411.0  Be courteous and respectful to people in the h...   \n",
      "...                  ...                                                ...   \n",
      "102594             227.0  No Smoking No Parties or Events of any kind Pl...   \n",
      "102595             395.0  House rules: Guests agree to the following ter...   \n",
      "102596             342.0                                                NaN   \n",
      "102597             386.0                                                NaN   \n",
      "102598              69.0                                                NaN   \n",
      "\n",
      "       license  \n",
      "9098       NaN  \n",
      "9099       NaN  \n",
      "9100       NaN  \n",
      "9101       NaN  \n",
      "9102       NaN  \n",
      "...        ...  \n",
      "102594     NaN  \n",
      "102595     NaN  \n",
      "102596     NaN  \n",
      "102597     NaN  \n",
      "102598     NaN  \n",
      "\n",
      "[1082 rows x 26 columns]\n",
      "         host id                                               NAME  count\n",
      "0      150519910  ★☆Sunnyside☆-Locals' favorite neighbor for liv...      2\n",
      "1      176369804                 Private Bedroom in Upper East Side      2\n",
      "2      538762830                spacious 2 beds in the LES w garden      2\n",
      "3      635525656              Nice and Cozy room close to Manhattan      2\n",
      "4      651454903          Private Room in Lower East Side Apartment      2\n",
      "..           ...                                                ...    ...\n",
      "536  97606085736                Near LGA, Citifield, US Open Tennis      2\n",
      "537  98245243479  Great room #1, good location, 20 mins to Manha...      2\n",
      "538  98280718071    COZY BED ROOM 10 MIN FR JFK&TRAIN WITH PVT BATH      2\n",
      "539  98342871281                                 New York Apartment      2\n",
      "540  98402835539                     2 bedroom family luxury modern      2\n",
      "\n",
      "[541 rows x 3 columns]\n"
     ]
    }
   ],
   "source": [
    "# Find duplicates based on all columns\n",
    "full_duplicates = data[data.duplicated(keep=False)]\n",
    "print(\"Full duplicates (all columns):\")\n",
    "print(full_duplicates)\n",
    "\n",
    "# Find duplicates ignoring the 'id' column\n",
    "duplicates_no_id = data[data.duplicated(subset=data.columns.difference(['id']), keep=False)]\n",
    "print(\"Duplicates ignoring 'id':\")\n",
    "print(duplicates_no_id)\n",
    "\n",
    "# Optional: see a summary count by host or listing\n",
    "summary = duplicates_no_id.groupby(['host id', 'NAME']).size().reset_index(name='count')\n",
    "summary = summary[summary['count'] > 1]\n",
    "print(summary)\n"
   ]
  },
  {
   "cell_type": "markdown",
   "id": "e4947a1c",
   "metadata": {},
   "source": [
    "Since this type of duplicates aren't true duplicates of the same listing, I thought I should just leave it as is"
   ]
  },
  {
   "cell_type": "markdown",
   "id": "77744221",
   "metadata": {},
   "source": [
    "### Splitting Data into Numerical and Categorical"
   ]
  },
  {
   "cell_type": "code",
   "execution_count": 9,
   "id": "e557ec40",
   "metadata": {},
   "outputs": [],
   "source": [
    "numeric_data = data.select_dtypes(include=[np.number])\n",
    "categorical_data = data.select_dtypes(exclude=[np.number])"
   ]
  },
  {
   "cell_type": "code",
   "execution_count": 10,
   "id": "6448dc3a",
   "metadata": {},
   "outputs": [
    {
     "data": {
      "text/html": [
       "<div>\n",
       "<style scoped>\n",
       "    .dataframe tbody tr th:only-of-type {\n",
       "        vertical-align: middle;\n",
       "    }\n",
       "\n",
       "    .dataframe tbody tr th {\n",
       "        vertical-align: top;\n",
       "    }\n",
       "\n",
       "    .dataframe thead th {\n",
       "        text-align: right;\n",
       "    }\n",
       "</style>\n",
       "<table border=\"1\" class=\"dataframe\">\n",
       "  <thead>\n",
       "    <tr style=\"text-align: right;\">\n",
       "      <th></th>\n",
       "      <th>id</th>\n",
       "      <th>host id</th>\n",
       "      <th>lat</th>\n",
       "      <th>long</th>\n",
       "      <th>Construction year</th>\n",
       "      <th>price</th>\n",
       "      <th>minimum nights</th>\n",
       "      <th>number of reviews</th>\n",
       "      <th>reviews per month</th>\n",
       "      <th>review rate number</th>\n",
       "      <th>calculated host listings count</th>\n",
       "      <th>availability 365</th>\n",
       "    </tr>\n",
       "  </thead>\n",
       "  <tbody>\n",
       "    <tr>\n",
       "      <th>0</th>\n",
       "      <td>1001254</td>\n",
       "      <td>80014485718</td>\n",
       "      <td>40.64749</td>\n",
       "      <td>-73.97237</td>\n",
       "      <td>2020.0</td>\n",
       "      <td>966.0</td>\n",
       "      <td>10.0</td>\n",
       "      <td>9.0</td>\n",
       "      <td>0.21</td>\n",
       "      <td>4.0</td>\n",
       "      <td>6.0</td>\n",
       "      <td>286.0</td>\n",
       "    </tr>\n",
       "    <tr>\n",
       "      <th>1</th>\n",
       "      <td>1002102</td>\n",
       "      <td>52335172823</td>\n",
       "      <td>40.75362</td>\n",
       "      <td>-73.98377</td>\n",
       "      <td>2007.0</td>\n",
       "      <td>142.0</td>\n",
       "      <td>30.0</td>\n",
       "      <td>45.0</td>\n",
       "      <td>0.38</td>\n",
       "      <td>4.0</td>\n",
       "      <td>2.0</td>\n",
       "      <td>228.0</td>\n",
       "    </tr>\n",
       "    <tr>\n",
       "      <th>2</th>\n",
       "      <td>1002403</td>\n",
       "      <td>78829239556</td>\n",
       "      <td>40.80902</td>\n",
       "      <td>-73.94190</td>\n",
       "      <td>2005.0</td>\n",
       "      <td>620.0</td>\n",
       "      <td>3.0</td>\n",
       "      <td>0.0</td>\n",
       "      <td>NaN</td>\n",
       "      <td>5.0</td>\n",
       "      <td>1.0</td>\n",
       "      <td>352.0</td>\n",
       "    </tr>\n",
       "    <tr>\n",
       "      <th>3</th>\n",
       "      <td>1002755</td>\n",
       "      <td>85098326012</td>\n",
       "      <td>40.68514</td>\n",
       "      <td>-73.95976</td>\n",
       "      <td>2005.0</td>\n",
       "      <td>368.0</td>\n",
       "      <td>30.0</td>\n",
       "      <td>270.0</td>\n",
       "      <td>4.64</td>\n",
       "      <td>4.0</td>\n",
       "      <td>1.0</td>\n",
       "      <td>322.0</td>\n",
       "    </tr>\n",
       "    <tr>\n",
       "      <th>4</th>\n",
       "      <td>1003689</td>\n",
       "      <td>92037596077</td>\n",
       "      <td>40.79851</td>\n",
       "      <td>-73.94399</td>\n",
       "      <td>2009.0</td>\n",
       "      <td>204.0</td>\n",
       "      <td>10.0</td>\n",
       "      <td>9.0</td>\n",
       "      <td>0.10</td>\n",
       "      <td>3.0</td>\n",
       "      <td>1.0</td>\n",
       "      <td>289.0</td>\n",
       "    </tr>\n",
       "    <tr>\n",
       "      <th>...</th>\n",
       "      <td>...</td>\n",
       "      <td>...</td>\n",
       "      <td>...</td>\n",
       "      <td>...</td>\n",
       "      <td>...</td>\n",
       "      <td>...</td>\n",
       "      <td>...</td>\n",
       "      <td>...</td>\n",
       "      <td>...</td>\n",
       "      <td>...</td>\n",
       "      <td>...</td>\n",
       "      <td>...</td>\n",
       "    </tr>\n",
       "    <tr>\n",
       "      <th>102594</th>\n",
       "      <td>6092437</td>\n",
       "      <td>12312296767</td>\n",
       "      <td>40.70862</td>\n",
       "      <td>-73.94651</td>\n",
       "      <td>2003.0</td>\n",
       "      <td>844.0</td>\n",
       "      <td>1.0</td>\n",
       "      <td>0.0</td>\n",
       "      <td>NaN</td>\n",
       "      <td>3.0</td>\n",
       "      <td>1.0</td>\n",
       "      <td>227.0</td>\n",
       "    </tr>\n",
       "    <tr>\n",
       "      <th>102595</th>\n",
       "      <td>6092990</td>\n",
       "      <td>77864383453</td>\n",
       "      <td>40.80460</td>\n",
       "      <td>-73.96545</td>\n",
       "      <td>2016.0</td>\n",
       "      <td>837.0</td>\n",
       "      <td>1.0</td>\n",
       "      <td>1.0</td>\n",
       "      <td>0.02</td>\n",
       "      <td>2.0</td>\n",
       "      <td>2.0</td>\n",
       "      <td>395.0</td>\n",
       "    </tr>\n",
       "    <tr>\n",
       "      <th>102596</th>\n",
       "      <td>6093542</td>\n",
       "      <td>69050334417</td>\n",
       "      <td>40.67505</td>\n",
       "      <td>-73.98045</td>\n",
       "      <td>2009.0</td>\n",
       "      <td>988.0</td>\n",
       "      <td>3.0</td>\n",
       "      <td>0.0</td>\n",
       "      <td>NaN</td>\n",
       "      <td>5.0</td>\n",
       "      <td>1.0</td>\n",
       "      <td>342.0</td>\n",
       "    </tr>\n",
       "    <tr>\n",
       "      <th>102597</th>\n",
       "      <td>6094094</td>\n",
       "      <td>11160591270</td>\n",
       "      <td>40.74989</td>\n",
       "      <td>-73.93777</td>\n",
       "      <td>2015.0</td>\n",
       "      <td>546.0</td>\n",
       "      <td>2.0</td>\n",
       "      <td>5.0</td>\n",
       "      <td>0.10</td>\n",
       "      <td>3.0</td>\n",
       "      <td>1.0</td>\n",
       "      <td>386.0</td>\n",
       "    </tr>\n",
       "    <tr>\n",
       "      <th>102598</th>\n",
       "      <td>6094647</td>\n",
       "      <td>68170633372</td>\n",
       "      <td>40.76807</td>\n",
       "      <td>-73.98342</td>\n",
       "      <td>2010.0</td>\n",
       "      <td>1032.0</td>\n",
       "      <td>1.0</td>\n",
       "      <td>0.0</td>\n",
       "      <td>NaN</td>\n",
       "      <td>3.0</td>\n",
       "      <td>1.0</td>\n",
       "      <td>69.0</td>\n",
       "    </tr>\n",
       "  </tbody>\n",
       "</table>\n",
       "<p>102554 rows × 12 columns</p>\n",
       "</div>"
      ],
      "text/plain": [
       "             id      host id       lat      long  Construction year   price  \\\n",
       "0       1001254  80014485718  40.64749 -73.97237             2020.0   966.0   \n",
       "1       1002102  52335172823  40.75362 -73.98377             2007.0   142.0   \n",
       "2       1002403  78829239556  40.80902 -73.94190             2005.0   620.0   \n",
       "3       1002755  85098326012  40.68514 -73.95976             2005.0   368.0   \n",
       "4       1003689  92037596077  40.79851 -73.94399             2009.0   204.0   \n",
       "...         ...          ...       ...       ...                ...     ...   \n",
       "102594  6092437  12312296767  40.70862 -73.94651             2003.0   844.0   \n",
       "102595  6092990  77864383453  40.80460 -73.96545             2016.0   837.0   \n",
       "102596  6093542  69050334417  40.67505 -73.98045             2009.0   988.0   \n",
       "102597  6094094  11160591270  40.74989 -73.93777             2015.0   546.0   \n",
       "102598  6094647  68170633372  40.76807 -73.98342             2010.0  1032.0   \n",
       "\n",
       "        minimum nights  number of reviews  reviews per month  \\\n",
       "0                 10.0                9.0               0.21   \n",
       "1                 30.0               45.0               0.38   \n",
       "2                  3.0                0.0                NaN   \n",
       "3                 30.0              270.0               4.64   \n",
       "4                 10.0                9.0               0.10   \n",
       "...                ...                ...                ...   \n",
       "102594             1.0                0.0                NaN   \n",
       "102595             1.0                1.0               0.02   \n",
       "102596             3.0                0.0                NaN   \n",
       "102597             2.0                5.0               0.10   \n",
       "102598             1.0                0.0                NaN   \n",
       "\n",
       "        review rate number  calculated host listings count  availability 365  \n",
       "0                      4.0                             6.0             286.0  \n",
       "1                      4.0                             2.0             228.0  \n",
       "2                      5.0                             1.0             352.0  \n",
       "3                      4.0                             1.0             322.0  \n",
       "4                      3.0                             1.0             289.0  \n",
       "...                    ...                             ...               ...  \n",
       "102594                 3.0                             1.0             227.0  \n",
       "102595                 2.0                             2.0             395.0  \n",
       "102596                 5.0                             1.0             342.0  \n",
       "102597                 3.0                             1.0             386.0  \n",
       "102598                 3.0                             1.0              69.0  \n",
       "\n",
       "[102554 rows x 12 columns]"
      ]
     },
     "execution_count": 10,
     "metadata": {},
     "output_type": "execute_result"
    }
   ],
   "source": [
    "numeric_data"
   ]
  },
  {
   "cell_type": "code",
   "execution_count": 11,
   "id": "33fbc979",
   "metadata": {},
   "outputs": [
    {
     "data": {
      "text/html": [
       "<div>\n",
       "<style scoped>\n",
       "    .dataframe tbody tr th:only-of-type {\n",
       "        vertical-align: middle;\n",
       "    }\n",
       "\n",
       "    .dataframe tbody tr th {\n",
       "        vertical-align: top;\n",
       "    }\n",
       "\n",
       "    .dataframe thead th {\n",
       "        text-align: right;\n",
       "    }\n",
       "</style>\n",
       "<table border=\"1\" class=\"dataframe\">\n",
       "  <thead>\n",
       "    <tr style=\"text-align: right;\">\n",
       "      <th></th>\n",
       "      <th>NAME</th>\n",
       "      <th>host_identity_verified</th>\n",
       "      <th>host name</th>\n",
       "      <th>neighbourhood group</th>\n",
       "      <th>neighbourhood</th>\n",
       "      <th>country</th>\n",
       "      <th>country code</th>\n",
       "      <th>instant_bookable</th>\n",
       "      <th>cancellation_policy</th>\n",
       "      <th>room type</th>\n",
       "      <th>service fee</th>\n",
       "      <th>last review</th>\n",
       "      <th>house_rules</th>\n",
       "      <th>license</th>\n",
       "    </tr>\n",
       "  </thead>\n",
       "  <tbody>\n",
       "    <tr>\n",
       "      <th>0</th>\n",
       "      <td>Clean &amp; quiet apt home by the park</td>\n",
       "      <td>unconfirmed</td>\n",
       "      <td>Madaline</td>\n",
       "      <td>Brooklyn</td>\n",
       "      <td>Kensington</td>\n",
       "      <td>United States</td>\n",
       "      <td>US</td>\n",
       "      <td>False</td>\n",
       "      <td>strict</td>\n",
       "      <td>Private room</td>\n",
       "      <td>$193</td>\n",
       "      <td>10/19/2021</td>\n",
       "      <td>Clean up and treat the home the way you'd like...</td>\n",
       "      <td>NaN</td>\n",
       "    </tr>\n",
       "    <tr>\n",
       "      <th>1</th>\n",
       "      <td>Skylit Midtown Castle</td>\n",
       "      <td>verified</td>\n",
       "      <td>Jenna</td>\n",
       "      <td>Manhattan</td>\n",
       "      <td>Midtown</td>\n",
       "      <td>United States</td>\n",
       "      <td>US</td>\n",
       "      <td>False</td>\n",
       "      <td>moderate</td>\n",
       "      <td>Entire home/apt</td>\n",
       "      <td>$28</td>\n",
       "      <td>5/21/2022</td>\n",
       "      <td>Pet friendly but please confirm with me if the...</td>\n",
       "      <td>NaN</td>\n",
       "    </tr>\n",
       "    <tr>\n",
       "      <th>2</th>\n",
       "      <td>THE VILLAGE OF HARLEM....NEW YORK !</td>\n",
       "      <td>NaN</td>\n",
       "      <td>Elise</td>\n",
       "      <td>Manhattan</td>\n",
       "      <td>Harlem</td>\n",
       "      <td>United States</td>\n",
       "      <td>US</td>\n",
       "      <td>True</td>\n",
       "      <td>flexible</td>\n",
       "      <td>Private room</td>\n",
       "      <td>$124</td>\n",
       "      <td>NaN</td>\n",
       "      <td>I encourage you to use my kitchen, cooking and...</td>\n",
       "      <td>NaN</td>\n",
       "    </tr>\n",
       "    <tr>\n",
       "      <th>3</th>\n",
       "      <td>NaN</td>\n",
       "      <td>unconfirmed</td>\n",
       "      <td>Garry</td>\n",
       "      <td>Brooklyn</td>\n",
       "      <td>Clinton Hill</td>\n",
       "      <td>United States</td>\n",
       "      <td>US</td>\n",
       "      <td>True</td>\n",
       "      <td>moderate</td>\n",
       "      <td>Entire home/apt</td>\n",
       "      <td>$74</td>\n",
       "      <td>7/5/2019</td>\n",
       "      <td>NaN</td>\n",
       "      <td>NaN</td>\n",
       "    </tr>\n",
       "    <tr>\n",
       "      <th>4</th>\n",
       "      <td>Entire Apt: Spacious Studio/Loft by central park</td>\n",
       "      <td>verified</td>\n",
       "      <td>Lyndon</td>\n",
       "      <td>Manhattan</td>\n",
       "      <td>East Harlem</td>\n",
       "      <td>United States</td>\n",
       "      <td>US</td>\n",
       "      <td>False</td>\n",
       "      <td>moderate</td>\n",
       "      <td>Entire home/apt</td>\n",
       "      <td>$41</td>\n",
       "      <td>11/19/2018</td>\n",
       "      <td>Please no smoking in the house, porch or on th...</td>\n",
       "      <td>NaN</td>\n",
       "    </tr>\n",
       "    <tr>\n",
       "      <th>...</th>\n",
       "      <td>...</td>\n",
       "      <td>...</td>\n",
       "      <td>...</td>\n",
       "      <td>...</td>\n",
       "      <td>...</td>\n",
       "      <td>...</td>\n",
       "      <td>...</td>\n",
       "      <td>...</td>\n",
       "      <td>...</td>\n",
       "      <td>...</td>\n",
       "      <td>...</td>\n",
       "      <td>...</td>\n",
       "      <td>...</td>\n",
       "      <td>...</td>\n",
       "    </tr>\n",
       "    <tr>\n",
       "      <th>102594</th>\n",
       "      <td>Spare room in Williamsburg</td>\n",
       "      <td>verified</td>\n",
       "      <td>Krik</td>\n",
       "      <td>Brooklyn</td>\n",
       "      <td>Williamsburg</td>\n",
       "      <td>United States</td>\n",
       "      <td>US</td>\n",
       "      <td>False</td>\n",
       "      <td>flexible</td>\n",
       "      <td>Private room</td>\n",
       "      <td>$169</td>\n",
       "      <td>NaN</td>\n",
       "      <td>No Smoking No Parties or Events of any kind Pl...</td>\n",
       "      <td>NaN</td>\n",
       "    </tr>\n",
       "    <tr>\n",
       "      <th>102595</th>\n",
       "      <td>Best Location near Columbia U</td>\n",
       "      <td>unconfirmed</td>\n",
       "      <td>Mifan</td>\n",
       "      <td>Manhattan</td>\n",
       "      <td>Morningside Heights</td>\n",
       "      <td>United States</td>\n",
       "      <td>US</td>\n",
       "      <td>True</td>\n",
       "      <td>moderate</td>\n",
       "      <td>Private room</td>\n",
       "      <td>$167</td>\n",
       "      <td>7/6/2015</td>\n",
       "      <td>House rules: Guests agree to the following ter...</td>\n",
       "      <td>NaN</td>\n",
       "    </tr>\n",
       "    <tr>\n",
       "      <th>102596</th>\n",
       "      <td>Comfy, bright room in Brooklyn</td>\n",
       "      <td>unconfirmed</td>\n",
       "      <td>Megan</td>\n",
       "      <td>Brooklyn</td>\n",
       "      <td>Park Slope</td>\n",
       "      <td>United States</td>\n",
       "      <td>US</td>\n",
       "      <td>True</td>\n",
       "      <td>moderate</td>\n",
       "      <td>Private room</td>\n",
       "      <td>$198</td>\n",
       "      <td>NaN</td>\n",
       "      <td>NaN</td>\n",
       "      <td>NaN</td>\n",
       "    </tr>\n",
       "    <tr>\n",
       "      <th>102597</th>\n",
       "      <td>Big Studio-One Stop from Midtown</td>\n",
       "      <td>unconfirmed</td>\n",
       "      <td>Christopher</td>\n",
       "      <td>Queens</td>\n",
       "      <td>Long Island City</td>\n",
       "      <td>United States</td>\n",
       "      <td>US</td>\n",
       "      <td>True</td>\n",
       "      <td>strict</td>\n",
       "      <td>Entire home/apt</td>\n",
       "      <td>$109</td>\n",
       "      <td>10/11/2015</td>\n",
       "      <td>NaN</td>\n",
       "      <td>NaN</td>\n",
       "    </tr>\n",
       "    <tr>\n",
       "      <th>102598</th>\n",
       "      <td>585 sf Luxury Studio</td>\n",
       "      <td>unconfirmed</td>\n",
       "      <td>Rebecca</td>\n",
       "      <td>Manhattan</td>\n",
       "      <td>Upper West Side</td>\n",
       "      <td>United States</td>\n",
       "      <td>US</td>\n",
       "      <td>False</td>\n",
       "      <td>flexible</td>\n",
       "      <td>Entire home/apt</td>\n",
       "      <td>$206</td>\n",
       "      <td>NaN</td>\n",
       "      <td>NaN</td>\n",
       "      <td>NaN</td>\n",
       "    </tr>\n",
       "  </tbody>\n",
       "</table>\n",
       "<p>102554 rows × 14 columns</p>\n",
       "</div>"
      ],
      "text/plain": [
       "                                                    NAME  \\\n",
       "0                     Clean & quiet apt home by the park   \n",
       "1                                  Skylit Midtown Castle   \n",
       "2                    THE VILLAGE OF HARLEM....NEW YORK !   \n",
       "3                                                    NaN   \n",
       "4       Entire Apt: Spacious Studio/Loft by central park   \n",
       "...                                                  ...   \n",
       "102594                        Spare room in Williamsburg   \n",
       "102595                     Best Location near Columbia U   \n",
       "102596                    Comfy, bright room in Brooklyn   \n",
       "102597                  Big Studio-One Stop from Midtown   \n",
       "102598                              585 sf Luxury Studio   \n",
       "\n",
       "       host_identity_verified    host name neighbourhood group  \\\n",
       "0                 unconfirmed     Madaline            Brooklyn   \n",
       "1                    verified        Jenna           Manhattan   \n",
       "2                         NaN        Elise           Manhattan   \n",
       "3                 unconfirmed        Garry            Brooklyn   \n",
       "4                    verified       Lyndon           Manhattan   \n",
       "...                       ...          ...                 ...   \n",
       "102594               verified         Krik            Brooklyn   \n",
       "102595            unconfirmed        Mifan           Manhattan   \n",
       "102596            unconfirmed        Megan            Brooklyn   \n",
       "102597            unconfirmed  Christopher              Queens   \n",
       "102598            unconfirmed      Rebecca           Manhattan   \n",
       "\n",
       "              neighbourhood        country country code instant_bookable  \\\n",
       "0                Kensington  United States           US            False   \n",
       "1                   Midtown  United States           US            False   \n",
       "2                    Harlem  United States           US             True   \n",
       "3              Clinton Hill  United States           US             True   \n",
       "4               East Harlem  United States           US            False   \n",
       "...                     ...            ...          ...              ...   \n",
       "102594         Williamsburg  United States           US            False   \n",
       "102595  Morningside Heights  United States           US             True   \n",
       "102596           Park Slope  United States           US             True   \n",
       "102597     Long Island City  United States           US             True   \n",
       "102598      Upper West Side  United States           US            False   \n",
       "\n",
       "       cancellation_policy        room type service fee last review  \\\n",
       "0                   strict     Private room       $193   10/19/2021   \n",
       "1                 moderate  Entire home/apt        $28    5/21/2022   \n",
       "2                 flexible     Private room       $124          NaN   \n",
       "3                 moderate  Entire home/apt        $74     7/5/2019   \n",
       "4                 moderate  Entire home/apt        $41   11/19/2018   \n",
       "...                    ...              ...         ...         ...   \n",
       "102594            flexible     Private room       $169          NaN   \n",
       "102595            moderate     Private room       $167     7/6/2015   \n",
       "102596            moderate     Private room       $198          NaN   \n",
       "102597              strict  Entire home/apt       $109   10/11/2015   \n",
       "102598            flexible  Entire home/apt       $206          NaN   \n",
       "\n",
       "                                              house_rules license  \n",
       "0       Clean up and treat the home the way you'd like...     NaN  \n",
       "1       Pet friendly but please confirm with me if the...     NaN  \n",
       "2       I encourage you to use my kitchen, cooking and...     NaN  \n",
       "3                                                     NaN     NaN  \n",
       "4       Please no smoking in the house, porch or on th...     NaN  \n",
       "...                                                   ...     ...  \n",
       "102594  No Smoking No Parties or Events of any kind Pl...     NaN  \n",
       "102595  House rules: Guests agree to the following ter...     NaN  \n",
       "102596                                                NaN     NaN  \n",
       "102597                                                NaN     NaN  \n",
       "102598                                                NaN     NaN  \n",
       "\n",
       "[102554 rows x 14 columns]"
      ]
     },
     "execution_count": 11,
     "metadata": {},
     "output_type": "execute_result"
    }
   ],
   "source": [
    "categorical_data"
   ]
  },
  {
   "cell_type": "markdown",
   "id": "d3768305",
   "metadata": {},
   "source": [
    "### Visualization of Categorical and Numerical Data"
   ]
  },
  {
   "cell_type": "code",
   "execution_count": 12,
   "id": "bab23c63",
   "metadata": {},
   "outputs": [
    {
     "name": "stderr",
     "output_type": "stream",
     "text": [
      "<>:4: SyntaxWarning: invalid escape sequence '\\$'\n",
      "<>:4: SyntaxWarning: invalid escape sequence '\\$'\n",
      "/tmp/ipykernel_20105/4219077024.py:4: SyntaxWarning: invalid escape sequence '\\$'\n",
      "  data[col] = data[col].replace('[\\$,]', '', regex=True).astype(float)\n"
     ]
    },
    {
     "data": {
      "image/png": "[encoded data removed]",
      "text/plain": [
       "<Figure size 1200x1200 with 8 Axes>"
      ]
     },
     "metadata": {},
     "output_type": "display_data"
    }
   ],
   "source": [
    "# Convert price and service fee to numeric\n",
    "for col in ['price', 'service fee']:\n",
    "    if col in data.columns:\n",
    "        data[col] = data[col].replace('[\\$,]', '', regex=True).astype(float)\n",
    "\n",
    "# Relevant numeric columns\n",
    "numeric_cols = ['price', 'Construction year', 'availability 365', 'minimum nights']\n",
    "\n",
    "# Function to generate random color\n",
    "def fill_color_generator():\n",
    "    r = random.randint(0, 255)\n",
    "    g = random.randint(0, 255)\n",
    "    b = random.randint(0, 255)\n",
    "    return (r/255, g/255, b/255)\n",
    "\n",
    "fill_color_dict = {col: fill_color_generator() for col in numeric_cols}\n",
    "\n",
    "# Subplots\n",
    "num_rows = len(numeric_cols)\n",
    "fig, axes = plt.subplots(nrows=num_rows, ncols=2, figsize=(12, num_rows * 3))\n",
    "axes = axes if num_rows > 1 else [axes]\n",
    "\n",
    "for i, column in enumerate(numeric_cols):\n",
    "    color = fill_color_dict[column]\n",
    "\n",
    "    # Boxplot\n",
    "    axes[i][0].boxplot(data[column].dropna(), vert=False, patch_artist=True,\n",
    "                        boxprops=dict(facecolor=color, color=color),\n",
    "                        medianprops=dict(color=\"black\"))\n",
    "    axes[i][0].set_title(f\"Boxplot of {column}\")\n",
    "    axes[i][0].set_xlabel(column)\n",
    "\n",
    "    # Histogram\n",
    "    axes[i][1].hist(data[column].dropna(), bins=20, color=color, alpha=0.7, edgecolor='black')\n",
    "    axes[i][1].set_title(f\"Histogram of {column}\")\n",
    "    axes[i][1].set_xlabel(column)\n",
    "\n",
    "# Overall layout\n",
    "fig.suptitle(\"Boxplot and Distribution Visualization for Each Numeric Column\", fontsize=16)\n",
    "fig.tight_layout(rect=[0, 0, 1, 0.97])\n",
    "plt.show()"
   ]
  },
  {
   "cell_type": "markdown",
   "id": "f1ed79c2",
   "metadata": {},
   "source": [
    "Here's what I observe about the visualizations:\n",
    "\n",
    "For Overview what this plot is about:\n",
    "1. **Boxplots** show the spread, median, and potential outliers of each variable. \n",
    "\n",
    "2. **Histograms** on the right side of each boxplot give more granular insight into the frequency of the values for each attribute, showing how they are distributed across the dataset.\n",
    "\n",
    "### Key observations:\n",
    "\n",
    "* **Price**: Appears to show a fairly distribution with uniform distribution, means the price range is relaticely consistent.\n",
    "* **Construction Year**: Appears to show a fairly uniform distribution with a slight preference for more recent constructions.\n",
    "* **Minimum Nights**: There are clear outliers with many listings requiring very few nights, while others have extreme values in the thousands.\n",
    "* **Availability 365**: This shows a highly skewed distribution, with many properties having low availability (close to 0), while some have very high availability (close to 365).\n",
    "\n"
   ]
  },
  {
   "cell_type": "code",
   "execution_count": 13,
   "id": "a08db44c",
   "metadata": {},
   "outputs": [
    {
     "name": "stdout",
     "output_type": "stream",
     "text": [
      "Unique values in NAME: ['Clean & quiet apt home by the park' 'Skylit Midtown Castle'\n",
      " 'THE VILLAGE OF HARLEM....NEW YORK !' ...\n",
      " 'Elmhurst 1st Fl Rightl Bedroom'\n",
      " 'Elmhurst 1st Floor BR w/ Pvt. Bath&Balcony'\n",
      " 'Parisian Style Apartment in Heart of Brooklyn']\n",
      "Unique values in host_identity_verified: ['unconfirmed' 'verified' nan]\n",
      "Unique values in host name: ['Madaline' 'Jenna' 'Elise' ... 'Anna B' 'Natalie And Dan' 'Apostle John']\n",
      "Unique values in neighbourhood group: ['Brooklyn' 'Manhattan' 'brookln' 'manhatan' 'Queens' 'Staten Island'\n",
      " 'Bronx']\n",
      "Unique values in neighbourhood: ['Kensington' 'Midtown' 'Harlem' 'Clinton Hill' 'East Harlem'\n",
      " 'Murray Hill' 'Bedford-Stuyvesant' \"Hell's Kitchen\" 'Upper West Side'\n",
      " 'Chinatown' 'South Slope' 'West Village' 'Williamsburg' 'Fort Greene'\n",
      " 'Chelsea' 'Crown Heights' 'Park Slope' 'Windsor Terrace' 'Inwood'\n",
      " 'East Village' 'Greenpoint' 'Bushwick' 'Flatbush' 'Lower East Side'\n",
      " 'Prospect-Lefferts Gardens' 'Long Island City' 'Kips Bay' 'SoHo'\n",
      " 'Upper East Side' 'Prospect Heights' 'Brooklyn Heights' 'Carroll Gardens'\n",
      " 'Washington Heights' 'Gowanus' 'Flatlands' 'Cobble Hill' 'Flushing'\n",
      " 'Boerum Hill' 'Sunnyside' 'DUMBO' 'St. George' 'Highbridge'\n",
      " 'Financial District' 'Ridgewood' 'Morningside Heights' 'Jamaica'\n",
      " 'Middle Village' 'NoHo' 'Ditmars Steinway' 'Flatiron District'\n",
      " 'Roosevelt Island' 'Greenwich Village' 'Little Italy' 'East Flatbush'\n",
      " 'Tompkinsville' 'Astoria' 'Clason Point' 'Kingsbridge' 'Two Bridges'\n",
      " 'Rockaway Beach' 'Forest Hills' 'Nolita' 'Woodlawn' 'University Heights'\n",
      " 'Gravesend' 'Gramercy' 'Allerton' 'East New York' 'Theater District'\n",
      " 'Concourse Village' 'Sheepshead Bay' 'Emerson Hill' 'Fort Hamilton'\n",
      " 'Bensonhurst' 'Tribeca' 'Shore Acres' 'Sunset Park' 'Concourse'\n",
      " 'Elmhurst' 'Brighton Beach' 'Jackson Heights' 'Cypress Hills'\n",
      " 'St. Albans' 'Arrochar' 'Rego Park' 'Wakefield' 'Woodside' 'Clifton'\n",
      " 'Bay Ridge' 'Graniteville' 'Spuyten Duyvil' 'Stapleton' 'Briarwood'\n",
      " 'Ozone Park' 'Columbia St' 'Vinegar Hill' 'Mott Haven' 'Longwood'\n",
      " 'Canarsie' 'Battery Park City' 'Civic Center' 'East Elmhurst'\n",
      " 'New Springville' 'Morris Heights' 'Arverne' 'Cambria Heights'\n",
      " 'Tottenville' 'Mariners Harbor' 'Concord' 'Borough Park' 'Bayside'\n",
      " 'Downtown Brooklyn' 'Port Morris' 'Fieldston' 'Kew Gardens' 'Midwood'\n",
      " 'College Point' 'Mount Eden' 'City Island' 'Glendale' 'Port Richmond'\n",
      " 'Red Hook' 'Richmond Hill' 'Queens Village' 'Bellerose' 'Maspeth'\n",
      " 'Williamsbridge' 'Soundview' 'Woodhaven' 'Woodrow' 'Co-op City'\n",
      " 'Stuyvesant Town' 'Parkchester' 'North Riverdale' 'Dyker Heights'\n",
      " 'Bronxdale' 'Sea Gate' 'Riverdale' 'Kew Gardens Hills' 'Bay Terrace'\n",
      " 'Norwood' 'Claremont Village' 'Whitestone' 'Fordham' 'Bayswater'\n",
      " 'Navy Yard' 'Brownsville' 'Eltingville' 'Fresh Meadows' 'Mount Hope'\n",
      " 'Lighthouse Hill' 'Springfield Gardens' 'Eastchester' 'Howard Beach'\n",
      " 'Belle Harbor' 'Jamaica Estates' 'Van Nest' 'Morris Park' 'West Brighton'\n",
      " 'Far Rockaway' 'South Ozone Park' 'Tremont' 'Corona' 'Great Kills'\n",
      " 'Manhattan Beach' 'Marble Hill' 'Dongan Hills' 'Castleton Corners'\n",
      " 'East Morrisania' 'Hunts Point' 'Neponsit' 'Pelham Bay' 'Randall Manor'\n",
      " 'Throgs Neck' 'Todt Hill' 'West Farms' 'Silver Lake' 'Morrisania'\n",
      " 'Laurelton' 'Grymes Hill' 'Holliswood' 'Pelham Gardens' 'Belmont'\n",
      " 'Rosedale' 'Edgemere' 'New Brighton' 'Midland Beach' 'Baychester'\n",
      " 'Melrose' 'Bergen Beach' 'Richmondtown' 'Howland Hook' 'Schuylerville'\n",
      " 'Coney Island' 'New Dorp Beach' \"Prince's Bay\" 'South Beach' 'Bath Beach'\n",
      " 'Jamaica Hills' 'Oakwood' 'Castle Hill' 'Hollis' 'Douglaston' 'Huguenot'\n",
      " 'Olinville' 'Edenwald' 'Grant City' 'Westerleigh'\n",
      " 'Bay Terrace, Staten Island' 'Westchester Square' 'Little Neck'\n",
      " 'Fort Wadsworth' 'Rosebank' 'Unionport' 'Mill Basin' 'Arden Heights'\n",
      " \"Bull's Head\" 'New Dorp' 'Rossville' 'Breezy Point' 'Willowbrook'\n",
      " 'Glen Oaks' 'Gerritsen Beach' 'Chelsea, Staten Island']\n",
      "Unique values in country: ['United States' nan]\n",
      "Unique values in country code: ['US' nan]\n",
      "Unique values in instant_bookable: [False True nan]\n",
      "Unique values in cancellation_policy: ['strict' 'moderate' 'flexible' nan]\n",
      "Unique values in room type: ['Private room' 'Entire home/apt' 'Shared room' 'Hotel room']\n",
      "Unique values in service fee: ['$193 ' '$28 ' '$124 ' '$74 ' '$41 ' '$115 ' '$14 ' '$212 ' '$204 '\n",
      " '$58 ' '$64 ' '$121 ' '$143 ' '$116 ' '$30 ' nan '$56 ' '$95 ' '$27 '\n",
      " '$210 ' '$163 ' '$235 ' '$106 ' '$55 ' '$42 ' '$86 ' '$133 ' '$154 '\n",
      " '$102 ' '$172 ' '$109 ' '$38 ' '$222 ' '$219 ' '$202 ' '$113 ' '$137 '\n",
      " '$171 ' '$12 ' '$87 ' '$183 ' '$92 ' '$73 ' '$146 ' '$180 ' '$67 ' '$51 '\n",
      " '$181 ' '$88 ' '$205 ' '$132 ' '$59 ' '$156 ' '$131 ' '$61 ' '$165 '\n",
      " '$129 ' '$207 ' '$17 ' '$63 ' '$147 ' '$105 ' '$48 ' '$149 ' '$213 '\n",
      " '$211 ' '$182 ' '$117 ' '$39 ' '$25 ' '$216 ' '$10 ' '$118 ' '$72 '\n",
      " '$76 ' '$69 ' '$32 ' '$148 ' '$101 ' '$177 ' '$49 ' '$100 ' '$168 '\n",
      " '$13 ' '$152 ' '$126 ' '$135 ' '$46 ' '$231 ' '$91 ' '$199 ' '$158 '\n",
      " '$221 ' '$114 ' '$189 ' '$90 ' '$186 ' '$66 ' '$225 ' '$220 ' '$53 '\n",
      " '$19 ' '$238 ' '$119 ' '$98 ' '$34 ' '$227 ' '$23 ' '$162 ' '$203 '\n",
      " '$93 ' '$153 ' '$71 ' '$77 ' '$190 ' '$75 ' '$97 ' '$35 ' '$37 ' '$82 '\n",
      " '$120 ' '$21 ' '$145 ' '$65 ' '$144 ' '$108 ' '$194 ' '$16 ' '$217 '\n",
      " '$80 ' '$188 ' '$81 ' '$139 ' '$22 ' '$150 ' '$50 ' '$176 ' '$151 '\n",
      " '$26 ' '$89 ' '$218 ' '$104 ' '$44 ' '$79 ' '$11 ' '$240 ' '$175 '\n",
      " '$192 ' '$215 ' '$191 ' '$94 ' '$157 ' '$159 ' '$233 ' '$206 ' '$15 '\n",
      " '$229 ' '$179 ' '$85 ' '$136 ' '$170 ' '$201 ' '$141 ' '$123 ' '$36 '\n",
      " '$187 ' '$198 ' '$54 ' '$122 ' '$184 ' '$208 ' '$140 ' '$68 ' '$196 '\n",
      " '$70 ' '$228 ' '$209 ' '$230 ' '$134 ' '$20 ' '$110 ' '$234 ' '$107 '\n",
      " '$138 ' '$45 ' '$24 ' '$31 ' '$29 ' '$232 ' '$47 ' '$239 ' '$161 ' '$33 '\n",
      " '$83 ' '$128 ' '$166 ' '$125 ' '$43 ' '$18 ' '$167 ' '$174 ' '$236 '\n",
      " '$185 ' '$111 ' '$130 ' '$142 ' '$223 ' '$169 ' '$195 ' '$40 ' '$52 '\n",
      " '$96 ' '$224 ' '$197 ' '$164 ' '$127 ' '$62 ' '$99 ' '$84 ' '$237 '\n",
      " '$178 ' '$103 ' '$155 ' '$57 ' '$226 ' '$160 ' '$173 ' '$60 ' '$214 '\n",
      " '$78 ' '$112 ' '$200 ']\n",
      "Unique values in last review: ['10/19/2021' '5/21/2022' nan ... '2/26/2020' '2/25/2020' '2/24/2020']\n",
      "Unique values in house_rules: [\"Clean up and treat the home the way you'd like your home to be treated.  No smoking.\"\n",
      " 'Pet friendly but please confirm with me if the pet you are planning on bringing with you is OK. I have a cute and quiet mixed chihuahua. I could accept more guests (for an extra fee) but this also needs to be confirmed beforehand. Also friends traveling together could sleep in separate beds for an extra fee (the second bed is either a sofa bed or inflatable bed). Smoking is only allowed on the porch.'\n",
      " \"I encourage you to use my kitchen, cooking and laundry facilities. There is no additional charge to use the washer/dryer in the basement.  No smoking, inside or outside. Come home as late as you want.  If you come home stumbling drunk, it's OK the first time. If you do it again, and you wake up me or the neighbors downstairs, we will be annoyed.  (Just so you know . . . )\"\n",
      " ...\n",
      " '15 nights minimum stay No pets at any time No smoking Please be mindful of the furniture and personal belongings, it was all furnished with designer pieces and hard to replace things.'\n",
      " 'House rules: Guests agree to the following terms and conditions 1.Guest(s) agree to NO PARTIES anywhere on the property. Legal action will be taken for parties that cause damages to the unit, property, reputation, or relationship with building staff or other residents.  2.Smoking of any kind is not permitted in the unit or on the premises.  3.Guests agree to abide by maximum occupancy of unit, and observe quiet hours between 9pm and 9am 4.Guests are responsible for action of ALL GUESTS occupying their unit at all times.  5.Guests agree to return all keys, remotes, and parking passes. Replacement fees may apply for unreturned items 6.Guests understand that onsite building staff (maintenance and concierge) are not affiliated with Jordan or AIRBNB. Please contact me directly for any needed items. 7.Guests understand that no pets are to be in the unit.  8.Guests agree to pay replacement cost for any unreturned items, and $125 per hour fee for unauthorized early checkin or late checkout.  22'\n",
      " '16 nights minimum stay, no smoking or pets.']\n",
      "Unique values in license: [nan '41662/AL']\n"
     ]
    }
   ],
   "source": [
    "# Before we plot the categorical data, we need to tinker it a bit.\n",
    "for col in categorical_data.columns:        \n",
    "    print(f\"Unique values in {col}: {categorical_data[col].unique()}\")"
   ]
  },
  {
   "cell_type": "code",
   "execution_count": 14,
   "id": "81c10deb",
   "metadata": {},
   "outputs": [
    {
     "name": "stderr",
     "output_type": "stream",
     "text": [
      "/tmp/ipykernel_20105/665714459.py:18: FutureWarning: \n",
      "\n",
      "Passing `palette` without assigning `hue` is deprecated and will be removed in v0.14.0. Assign the `y` variable to `hue` and set `legend=False` for the same effect.\n",
      "\n",
      "  sns.countplot(y=col, data=data, order=data[col].value_counts().index, palette=\"viridis\")\n"
     ]
    },
    {
     "data": {
      "image/png": "[encoded data removed]",
      "text/plain": [
       "<Figure size 1000x500 with 1 Axes>"
      ]
     },
     "metadata": {},
     "output_type": "display_data"
    },
    {
     "name": "stderr",
     "output_type": "stream",
     "text": [
      "/tmp/ipykernel_20105/665714459.py:14: FutureWarning: \n",
      "\n",
      "Passing `palette` without assigning `hue` is deprecated and will be removed in v0.14.0. Assign the `y` variable to `hue` and set `legend=False` for the same effect.\n",
      "\n",
      "  sns.barplot(x=top_values.values, y=top_values.index, palette=\"viridis\")\n"
     ]
    },
    {
     "data": {
      "image/png": "[encoded data removed]",
      "text/plain": [
       "<Figure size 1000x500 with 1 Axes>"
      ]
     },
     "metadata": {},
     "output_type": "display_data"
    },
    {
     "name": "stderr",
     "output_type": "stream",
     "text": [
      "/tmp/ipykernel_20105/665714459.py:18: FutureWarning: \n",
      "\n",
      "Passing `palette` without assigning `hue` is deprecated and will be removed in v0.14.0. Assign the `y` variable to `hue` and set `legend=False` for the same effect.\n",
      "\n",
      "  sns.countplot(y=col, data=data, order=data[col].value_counts().index, palette=\"viridis\")\n"
     ]
    },
    {
     "data": {
      "image/png": "[encoded data removed]",
      "text/plain": [
       "<Figure size 1000x500 with 1 Axes>"
      ]
     },
     "metadata": {},
     "output_type": "display_data"
    }
   ],
   "source": [
    "# Relevant categorical columns\n",
    "categorical_cols = ['neighbourhood group', 'neighbourhood', 'room type']\n",
    "\n",
    "# Set seaborn style\n",
    "sns.set(style=\"whitegrid\")\n",
    "\n",
    "#now plot\n",
    "for col in categorical_cols:\n",
    "    plt.figure(figsize=(10,5))\n",
    "    \n",
    "    if col == 'neighbourhood':\n",
    "        # For neighbourhood, show top 15 most frequent\n",
    "        top_values = data[col].value_counts().nlargest(15)\n",
    "        sns.barplot(x=top_values.values, y=top_values.index, palette=\"viridis\")\n",
    "        plt.title(f\"Top 15 {col} counts\")\n",
    "    else:\n",
    "        # For other categorical columns\n",
    "        sns.countplot(y=col, data=data, order=data[col].value_counts().index, palette=\"viridis\")\n",
    "        plt.title(f\"{col} counts\")\n",
    "    \n",
    "    plt.xlabel(\"Count\")\n",
    "    plt.ylabel(col)\n",
    "    plt.tight_layout()\n",
    "    plt.show()"
   ]
  },
  {
   "cell_type": "markdown",
   "id": "79886a59",
   "metadata": {},
   "source": [
    "Here's what I observe from this visualization:\n",
    "\n",
    "### Keypoints:\n",
    "* **Neighborhood Group Counts**: The first chart shows the distribution of listings across neighborhoods, with Manhattan having the most listings, followed by Brooklyn and Queens.\n",
    "* **Top 15 Neighborhood Counts**: This chart displays the top neighborhoods by the number of listings, with Bedford-Stuyvesant leading, followed by Williamsburg, Harlem, and others.\n",
    "* **Room Type Counts**: The chart displays the distribution of room types, with \"Entire home/apt\" having the highest count, followed by \"Private room.\"\n"
   ]
  },
  {
   "cell_type": "markdown",
   "id": "ab6df8fd",
   "metadata": {},
   "source": [
    "### Save the new dataset into a new one"
   ]
  },
  {
   "cell_type": "code",
   "execution_count": 15,
   "id": "53bfd54d",
   "metadata": {},
   "outputs": [],
   "source": [
    "data.to_csv(\"airbnb_cleaned.csv\", index=False)\n"
   ]
  },
  {
   "cell_type": "markdown",
   "id": "a5179f00",
   "metadata": {},
   "source": [
    "### Modeling"
   ]
  },
  {
   "cell_type": "code",
   "execution_count": 16,
   "id": "12140582",
   "metadata": {},
   "outputs": [
    {
     "name": "stderr",
     "output_type": "stream",
     "text": [
      "/tmp/ipykernel_20105/3322547958.py:1: DtypeWarning: Columns (25) have mixed types. Specify dtype option on import or set low_memory=False.\n",
      "  data = pd.read_csv(\"airbnb_cleaned.csv\")\n"
     ]
    },
    {
     "data": {
      "text/html": [
       "<div>\n",
       "<style scoped>\n",
       "    .dataframe tbody tr th:only-of-type {\n",
       "        vertical-align: middle;\n",
       "    }\n",
       "\n",
       "    .dataframe tbody tr th {\n",
       "        vertical-align: top;\n",
       "    }\n",
       "\n",
       "    .dataframe thead th {\n",
       "        text-align: right;\n",
       "    }\n",
       "</style>\n",
       "<table border=\"1\" class=\"dataframe\">\n",
       "  <thead>\n",
       "    <tr style=\"text-align: right;\">\n",
       "      <th></th>\n",
       "      <th>id</th>\n",
       "      <th>NAME</th>\n",
       "      <th>host id</th>\n",
       "      <th>host_identity_verified</th>\n",
       "      <th>host name</th>\n",
       "      <th>neighbourhood group</th>\n",
       "      <th>neighbourhood</th>\n",
       "      <th>lat</th>\n",
       "      <th>long</th>\n",
       "      <th>country</th>\n",
       "      <th>...</th>\n",
       "      <th>service fee</th>\n",
       "      <th>minimum nights</th>\n",
       "      <th>number of reviews</th>\n",
       "      <th>last review</th>\n",
       "      <th>reviews per month</th>\n",
       "      <th>review rate number</th>\n",
       "      <th>calculated host listings count</th>\n",
       "      <th>availability 365</th>\n",
       "      <th>house_rules</th>\n",
       "      <th>license</th>\n",
       "    </tr>\n",
       "  </thead>\n",
       "  <tbody>\n",
       "    <tr>\n",
       "      <th>0</th>\n",
       "      <td>1001254</td>\n",
       "      <td>Clean &amp; quiet apt home by the park</td>\n",
       "      <td>80014485718</td>\n",
       "      <td>unconfirmed</td>\n",
       "      <td>Madaline</td>\n",
       "      <td>Brooklyn</td>\n",
       "      <td>Kensington</td>\n",
       "      <td>40.64749</td>\n",
       "      <td>-73.97237</td>\n",
       "      <td>United States</td>\n",
       "      <td>...</td>\n",
       "      <td>193.0</td>\n",
       "      <td>10.0</td>\n",
       "      <td>9.0</td>\n",
       "      <td>10/19/2021</td>\n",
       "      <td>0.21</td>\n",
       "      <td>4.0</td>\n",
       "      <td>6.0</td>\n",
       "      <td>286.0</td>\n",
       "      <td>Clean up and treat the home the way you'd like...</td>\n",
       "      <td>NaN</td>\n",
       "    </tr>\n",
       "    <tr>\n",
       "      <th>1</th>\n",
       "      <td>1002102</td>\n",
       "      <td>Skylit Midtown Castle</td>\n",
       "      <td>52335172823</td>\n",
       "      <td>verified</td>\n",
       "      <td>Jenna</td>\n",
       "      <td>Manhattan</td>\n",
       "      <td>Midtown</td>\n",
       "      <td>40.75362</td>\n",
       "      <td>-73.98377</td>\n",
       "      <td>United States</td>\n",
       "      <td>...</td>\n",
       "      <td>28.0</td>\n",
       "      <td>30.0</td>\n",
       "      <td>45.0</td>\n",
       "      <td>5/21/2022</td>\n",
       "      <td>0.38</td>\n",
       "      <td>4.0</td>\n",
       "      <td>2.0</td>\n",
       "      <td>228.0</td>\n",
       "      <td>Pet friendly but please confirm with me if the...</td>\n",
       "      <td>NaN</td>\n",
       "    </tr>\n",
       "    <tr>\n",
       "      <th>2</th>\n",
       "      <td>1002403</td>\n",
       "      <td>THE VILLAGE OF HARLEM....NEW YORK !</td>\n",
       "      <td>78829239556</td>\n",
       "      <td>NaN</td>\n",
       "      <td>Elise</td>\n",
       "      <td>Manhattan</td>\n",
       "      <td>Harlem</td>\n",
       "      <td>40.80902</td>\n",
       "      <td>-73.94190</td>\n",
       "      <td>United States</td>\n",
       "      <td>...</td>\n",
       "      <td>124.0</td>\n",
       "      <td>3.0</td>\n",
       "      <td>0.0</td>\n",
       "      <td>NaN</td>\n",
       "      <td>NaN</td>\n",
       "      <td>5.0</td>\n",
       "      <td>1.0</td>\n",
       "      <td>352.0</td>\n",
       "      <td>I encourage you to use my kitchen, cooking and...</td>\n",
       "      <td>NaN</td>\n",
       "    </tr>\n",
       "    <tr>\n",
       "      <th>3</th>\n",
       "      <td>1002755</td>\n",
       "      <td>NaN</td>\n",
       "      <td>85098326012</td>\n",
       "      <td>unconfirmed</td>\n",
       "      <td>Garry</td>\n",
       "      <td>Brooklyn</td>\n",
       "      <td>Clinton Hill</td>\n",
       "      <td>40.68514</td>\n",
       "      <td>-73.95976</td>\n",
       "      <td>United States</td>\n",
       "      <td>...</td>\n",
       "      <td>74.0</td>\n",
       "      <td>30.0</td>\n",
       "      <td>270.0</td>\n",
       "      <td>7/5/2019</td>\n",
       "      <td>4.64</td>\n",
       "      <td>4.0</td>\n",
       "      <td>1.0</td>\n",
       "      <td>322.0</td>\n",
       "      <td>NaN</td>\n",
       "      <td>NaN</td>\n",
       "    </tr>\n",
       "    <tr>\n",
       "      <th>4</th>\n",
       "      <td>1003689</td>\n",
       "      <td>Entire Apt: Spacious Studio/Loft by central park</td>\n",
       "      <td>92037596077</td>\n",
       "      <td>verified</td>\n",
       "      <td>Lyndon</td>\n",
       "      <td>Manhattan</td>\n",
       "      <td>East Harlem</td>\n",
       "      <td>40.79851</td>\n",
       "      <td>-73.94399</td>\n",
       "      <td>United States</td>\n",
       "      <td>...</td>\n",
       "      <td>41.0</td>\n",
       "      <td>10.0</td>\n",
       "      <td>9.0</td>\n",
       "      <td>11/19/2018</td>\n",
       "      <td>0.10</td>\n",
       "      <td>3.0</td>\n",
       "      <td>1.0</td>\n",
       "      <td>289.0</td>\n",
       "      <td>Please no smoking in the house, porch or on th...</td>\n",
       "      <td>NaN</td>\n",
       "    </tr>\n",
       "  </tbody>\n",
       "</table>\n",
       "<p>5 rows × 26 columns</p>\n",
       "</div>"
      ],
      "text/plain": [
       "        id                                              NAME      host id  \\\n",
       "0  1001254                Clean & quiet apt home by the park  80014485718   \n",
       "1  1002102                             Skylit Midtown Castle  52335172823   \n",
       "2  1002403               THE VILLAGE OF HARLEM....NEW YORK !  78829239556   \n",
       "3  1002755                                               NaN  85098326012   \n",
       "4  1003689  Entire Apt: Spacious Studio/Loft by central park  92037596077   \n",
       "\n",
       "  host_identity_verified host name neighbourhood group neighbourhood  \\\n",
       "0            unconfirmed  Madaline            Brooklyn    Kensington   \n",
       "1               verified     Jenna           Manhattan       Midtown   \n",
       "2                    NaN     Elise           Manhattan        Harlem   \n",
       "3            unconfirmed     Garry            Brooklyn  Clinton Hill   \n",
       "4               verified    Lyndon           Manhattan   East Harlem   \n",
       "\n",
       "        lat      long        country  ... service fee minimum nights  \\\n",
       "0  40.64749 -73.97237  United States  ...       193.0           10.0   \n",
       "1  40.75362 -73.98377  United States  ...        28.0           30.0   \n",
       "2  40.80902 -73.94190  United States  ...       124.0            3.0   \n",
       "3  40.68514 -73.95976  United States  ...        74.0           30.0   \n",
       "4  40.79851 -73.94399  United States  ...        41.0           10.0   \n",
       "\n",
       "  number of reviews last review  reviews per month  review rate number  \\\n",
       "0               9.0  10/19/2021               0.21                 4.0   \n",
       "1              45.0   5/21/2022               0.38                 4.0   \n",
       "2               0.0         NaN                NaN                 5.0   \n",
       "3             270.0    7/5/2019               4.64                 4.0   \n",
       "4               9.0  11/19/2018               0.10                 3.0   \n",
       "\n",
       "   calculated host listings count  availability 365  \\\n",
       "0                             6.0             286.0   \n",
       "1                             2.0             228.0   \n",
       "2                             1.0             352.0   \n",
       "3                             1.0             322.0   \n",
       "4                             1.0             289.0   \n",
       "\n",
       "                                         house_rules license  \n",
       "0  Clean up and treat the home the way you'd like...     NaN  \n",
       "1  Pet friendly but please confirm with me if the...     NaN  \n",
       "2  I encourage you to use my kitchen, cooking and...     NaN  \n",
       "3                                                NaN     NaN  \n",
       "4  Please no smoking in the house, porch or on th...     NaN  \n",
       "\n",
       "[5 rows x 26 columns]"
      ]
     },
     "execution_count": 16,
     "metadata": {},
     "output_type": "execute_result"
    }
   ],
   "source": [
    "data = pd.read_csv(\"airbnb_cleaned.csv\")\n",
    "\n",
    "data.head()"
   ]
  },
  {
   "cell_type": "markdown",
   "id": "58e9e268",
   "metadata": {},
   "source": [
    "# Time Series Forecasting for Seasonal Demand Prediction\n",
    "\n",
    "In this section, we'll create a comprehensive time series forecasting model to predict seasonal demand patterns for Airbnb bookings and occupancy rates. We'll implement:\n",
    "\n",
    "1. **Time Series Data Preparation** - Create synthetic time series data based on review patterns\n",
    "2. **Seasonal Decomposition** - Analyze trend, seasonal, and residual components\n",
    "3. **Multiple Forecasting Models** - ARIMA, SARIMA, and Prophet models\n",
    "4. **Seasonal Filters** - Separate analysis for Spring, Summer, Fall, and Winter\n",
    "5. **Forecasting Visualization** - Interactive charts for demand prediction\n"
   ]
  },
  {
   "cell_type": "code",
   "execution_count": 17,
   "id": "ffb29f7a",
   "metadata": {},
   "outputs": [
    {
     "name": "stdout",
     "output_type": "stream",
     "text": [
      "✅ Time series libraries imported successfully!\n"
     ]
    }
   ],
   "source": [
    "# Import additional libraries for time series analysis\n",
    "import warnings\n",
    "warnings.filterwarnings('ignore')\n",
    "\n",
    "# Time series specific libraries\n",
    "from datetime import datetime, timedelta\n",
    "import plotly.graph_objects as go\n",
    "from plotly.subplots import make_subplots\n",
    "from statsmodels.tsa.seasonal import seasonal_decompose\n",
    "from statsmodels.tsa.arima.model import ARIMA\n",
    "from statsmodels.tsa.statespace.sarimax import SARIMAX\n",
    "from statsmodels.graphics.tsaplots import plot_acf, plot_pacf\n",
    "from statsmodels.tsa.stattools import adfuller\n",
    "from sklearn.metrics import mean_absolute_error, mean_squared_error\n",
    "import itertools\n",
    "\n",
    "# For Prophet model (if available)\n",
    "try:\n",
    "    from prophet import Prophet\n",
    "    PROPHET_AVAILABLE = True\n",
    "except ImportError:\n",
    "    PROPHET_AVAILABLE = False\n",
    "    print(\"Prophet not available. Install with: pip install prophet\")\n",
    "\n",
    "print(\"✅ Time series libraries imported successfully!\")\n"
   ]
  },
  {
   "cell_type": "code",
   "execution_count": 18,
   "id": "43e51052",
   "metadata": {},
   "outputs": [
    {
     "name": "stdout",
     "output_type": "stream",
     "text": [
      "🔄 Creating time series data...\n",
      "✅ Time series data created with 2191 data points\n",
      "📅 Date range: 2017-01-01 00:00:00 to 2022-12-31 00:00:00\n",
      "📊 Columns: ['date', 'year', 'month', 'day', 'day_of_week', 'quarter', 'season', 'bookings', 'occupancy_rate', 'avg_price']\n"
     ]
    },
    {
     "data": {
      "text/html": [
       "<div>\n",
       "<style scoped>\n",
       "    .dataframe tbody tr th:only-of-type {\n",
       "        vertical-align: middle;\n",
       "    }\n",
       "\n",
       "    .dataframe tbody tr th {\n",
       "        vertical-align: top;\n",
       "    }\n",
       "\n",
       "    .dataframe thead th {\n",
       "        text-align: right;\n",
       "    }\n",
       "</style>\n",
       "<table border=\"1\" class=\"dataframe\">\n",
       "  <thead>\n",
       "    <tr style=\"text-align: right;\">\n",
       "      <th></th>\n",
       "      <th>date</th>\n",
       "      <th>year</th>\n",
       "      <th>month</th>\n",
       "      <th>day</th>\n",
       "      <th>day_of_week</th>\n",
       "      <th>quarter</th>\n",
       "      <th>season</th>\n",
       "      <th>bookings</th>\n",
       "      <th>occupancy_rate</th>\n",
       "      <th>avg_price</th>\n",
       "    </tr>\n",
       "  </thead>\n",
       "  <tbody>\n",
       "    <tr>\n",
       "      <th>0</th>\n",
       "      <td>2017-01-01</td>\n",
       "      <td>2017</td>\n",
       "      <td>1</td>\n",
       "      <td>1</td>\n",
       "      <td>6</td>\n",
       "      <td>1</td>\n",
       "      <td>Winter</td>\n",
       "      <td>82</td>\n",
       "      <td>87.584339</td>\n",
       "      <td>309.371450</td>\n",
       "    </tr>\n",
       "    <tr>\n",
       "      <th>1</th>\n",
       "      <td>2017-01-02</td>\n",
       "      <td>2017</td>\n",
       "      <td>1</td>\n",
       "      <td>2</td>\n",
       "      <td>0</td>\n",
       "      <td>1</td>\n",
       "      <td>Winter</td>\n",
       "      <td>46</td>\n",
       "      <td>93.035117</td>\n",
       "      <td>340.682711</td>\n",
       "    </tr>\n",
       "    <tr>\n",
       "      <th>2</th>\n",
       "      <td>2017-01-03</td>\n",
       "      <td>2017</td>\n",
       "      <td>1</td>\n",
       "      <td>3</td>\n",
       "      <td>1</td>\n",
       "      <td>1</td>\n",
       "      <td>Winter</td>\n",
       "      <td>54</td>\n",
       "      <td>91.823833</td>\n",
       "      <td>273.001561</td>\n",
       "    </tr>\n",
       "    <tr>\n",
       "      <th>3</th>\n",
       "      <td>2017-01-04</td>\n",
       "      <td>2017</td>\n",
       "      <td>1</td>\n",
       "      <td>4</td>\n",
       "      <td>2</td>\n",
       "      <td>1</td>\n",
       "      <td>Winter</td>\n",
       "      <td>63</td>\n",
       "      <td>90.461138</td>\n",
       "      <td>304.127687</td>\n",
       "    </tr>\n",
       "    <tr>\n",
       "      <th>4</th>\n",
       "      <td>2017-01-05</td>\n",
       "      <td>2017</td>\n",
       "      <td>1</td>\n",
       "      <td>5</td>\n",
       "      <td>3</td>\n",
       "      <td>1</td>\n",
       "      <td>Winter</td>\n",
       "      <td>45</td>\n",
       "      <td>93.186527</td>\n",
       "      <td>287.162443</td>\n",
       "    </tr>\n",
       "  </tbody>\n",
       "</table>\n",
       "</div>"
      ],
      "text/plain": [
       "        date  year  month  day  day_of_week  quarter  season  bookings  \\\n",
       "0 2017-01-01  2017      1    1            6        1  Winter        82   \n",
       "1 2017-01-02  2017      1    2            0        1  Winter        46   \n",
       "2 2017-01-03  2017      1    3            1        1  Winter        54   \n",
       "3 2017-01-04  2017      1    4            2        1  Winter        63   \n",
       "4 2017-01-05  2017      1    5            3        1  Winter        45   \n",
       "\n",
       "   occupancy_rate   avg_price  \n",
       "0       87.584339  309.371450  \n",
       "1       93.035117  340.682711  \n",
       "2       91.823833  273.001561  \n",
       "3       90.461138  304.127687  \n",
       "4       93.186527  287.162443  "
      ]
     },
     "execution_count": 18,
     "metadata": {},
     "output_type": "execute_result"
    }
   ],
   "source": [
    "# Time Series Data Preparation\n",
    "# Since we don't have actual booking dates, we'll create synthetic time series data\n",
    "# based on review patterns and availability data\n",
    "\n",
    "def create_time_series_data(df):\n",
    "    \"\"\"\n",
    "    Create synthetic time series data for forecasting based on:\n",
    "    1. Review dates (last review column)\n",
    "    2. Availability patterns (availability 365)\n",
    "    3. Price trends\n",
    "    4. Seasonal patterns\n",
    "    \"\"\"\n",
    "    \n",
    "    # Convert last review dates to datetime\n",
    "    df['last_review_date'] = pd.to_datetime(df['last review'], errors='coerce')\n",
    "    \n",
    "    # Create date range for time series (2017-2022 based on review dates)\n",
    "    start_date = datetime(2017, 1, 1)\n",
    "    end_date = datetime(2022, 12, 31)\n",
    "    date_range = pd.date_range(start=start_date, end=end_date, freq='D')\n",
    "    \n",
    "    # Initialize time series dataframe\n",
    "    ts_data = pd.DataFrame({'date': date_range})\n",
    "    ts_data['year'] = ts_data['date'].dt.year\n",
    "    ts_data['month'] = ts_data['date'].dt.month\n",
    "    ts_data['day'] = ts_data['date'].dt.day\n",
    "    ts_data['day_of_week'] = ts_data['date'].dt.dayofweek\n",
    "    ts_data['quarter'] = ts_data['date'].dt.quarter\n",
    "    \n",
    "    # Create seasonal features\n",
    "    ts_data['season'] = ts_data['month'].map({\n",
    "        12: 'Winter', 1: 'Winter', 2: 'Winter',\n",
    "        3: 'Spring', 4: 'Spring', 5: 'Spring',\n",
    "        6: 'Summer', 7: 'Summer', 8: 'Summer',\n",
    "        9: 'Fall', 10: 'Fall', 11: 'Fall'\n",
    "    })\n",
    "    \n",
    "    # Create synthetic demand patterns based on real Airbnb trends\n",
    "    np.random.seed(42)\n",
    "    \n",
    "    # Base demand (higher in summer, lower in winter)\n",
    "    seasonal_multiplier = ts_data['month'].map({\n",
    "        1: 0.6, 2: 0.7, 3: 0.8, 4: 0.9, 5: 1.0, 6: 1.2,\n",
    "        7: 1.3, 8: 1.2, 9: 1.0, 10: 0.9, 11: 0.7, 12: 0.6\n",
    "    })\n",
    "    \n",
    "    # Weekend effect (higher demand on weekends)\n",
    "    weekend_multiplier = ts_data['day_of_week'].map({\n",
    "        0: 0.8, 1: 0.8, 2: 0.8, 3: 0.8, 4: 0.9, 5: 1.2, 6: 1.3\n",
    "    })\n",
    "    \n",
    "    # Trend component (gradual increase over time)\n",
    "    trend = np.linspace(100, 150, len(ts_data))\n",
    "    \n",
    "    # Random noise\n",
    "    noise = np.random.normal(0, 10, len(ts_data))\n",
    "    \n",
    "    # Calculate synthetic bookings/demand\n",
    "    ts_data['bookings'] = (\n",
    "        trend * seasonal_multiplier * weekend_multiplier + noise\n",
    "    ).astype(int)\n",
    "    \n",
    "    # Calculate occupancy rate (inverse relationship with availability)\n",
    "    # Higher availability = lower occupancy\n",
    "    avg_availability = df['availability 365'].mean()\n",
    "    ts_data['occupancy_rate'] = np.clip(\n",
    "        100 - (ts_data['bookings'] / ts_data['bookings'].max()) * avg_availability / 3.65,\n",
    "        0, 100\n",
    "    )\n",
    "    \n",
    "    # Calculate average price trends\n",
    "    base_price = df['price'].mean()\n",
    "    price_trend = np.linspace(base_price * 0.8, base_price * 1.2, len(ts_data))\n",
    "    ts_data['avg_price'] = price_trend * seasonal_multiplier + np.random.normal(0, 20, len(ts_data))\n",
    "    \n",
    "    return ts_data\n",
    "\n",
    "# Create the time series data\n",
    "print(\"🔄 Creating time series data...\")\n",
    "ts_data = create_time_series_data(data)\n",
    "print(f\"✅ Time series data created with {len(ts_data)} data points\")\n",
    "print(f\"📅 Date range: {ts_data['date'].min()} to {ts_data['date'].max()}\")\n",
    "print(f\"📊 Columns: {list(ts_data.columns)}\")\n",
    "\n",
    "# Display sample data\n",
    "ts_data.head()\n"
   ]
  },
  {
   "cell_type": "code",
   "execution_count": 19,
   "id": "f5731444",
   "metadata": {},
   "outputs": [
    {
     "name": "stdout",
     "output_type": "stream",
     "text": [
      "📊 Analyzing seasonal patterns...\n",
      "📈 Seasonal Statistics:\n",
      "       bookings                 occupancy_rate       avg_price        \n",
      "           mean    std min  max           mean   std      mean     std\n",
      "season                                                                \n",
      "Fall     103.96  31.28  41  199          84.26  4.74    552.89  101.08\n",
      "Spring   103.97  29.50  38  191          84.26  4.47    554.92   85.16\n",
      "Summer   145.92  36.55  82  255          77.91  5.53    771.11   93.99\n",
      "Winter    73.75  21.63  30  141          88.83  3.27    391.73   55.60\n"
     ]
    },
    {
     "data": {
      "application/vnd.plotly.v1+json": {
       "config": {
        "plotlyServerURL": "https://plot.ly"
       },
       "data": [
        {
         "marker": {
          "color": [
           "#FF6B6B",
           "#4ECDC4",
           "#45B7D1",
           "#96CEB4"
          ]
         },
         "name": "Avg Bookings",
         "type": "bar",
         "x": [
          "Fall",
          "Spring",
          "Summer",
          "Winter"
         ],
         "xaxis": "x",
         "y": {
          "bdata": "2Ymd2In9WUDbgbl2YP5ZQGwH5tqBPWJAyy8X2yVwUkA=",
          "dtype": "f8"
         },
         "yaxis": "y"
        },
        {
         "marker": {
          "color": [
           "#FF6B6B",
           "#4ECDC4",
           "#45B7D1",
           "#96CEB4"
          ]
         },
         "name": "Avg Occupancy %",
         "type": "bar",
         "x": [
          "Fall",
          "Spring",
          "Summer",
          "Winter"
         ],
         "xaxis": "x2",
         "y": {
          "bdata": "N7w0mpUQVUAxvWQbdRBVQCC9XqD5eVNAFlpl7VE1VkA=",
          "dtype": "f8"
         },
         "yaxis": "y2"
        },
        {
         "marker": {
          "color": [
           "#FF6B6B",
           "#4ECDC4",
           "#45B7D1",
           "#96CEB4"
          ]
         },
         "name": "Avg Price $",
         "type": "bar",
         "x": [
          "Fall",
          "Spring",
          "Summer",
          "Winter"
         ],
         "xaxis": "x3",
         "y": {
          "bdata": "D83yvR9HgUBFGBzIV1eBQDUrnoTcGIhA7qmqz5l7eEA=",
          "dtype": "f8"
         },
         "yaxis": "y3"
        },
        {
         "line": {
          "color": "#FF6B6B"
         },
         "mode": "lines+markers",
         "name": "Monthly Bookings",
         "type": "scatter",
         "x": [
          "2017-01-01T00:00:00.000000000",
          "2017-02-01T00:00:00.000000000",
          "2017-03-01T00:00:00.000000000",
          "2017-04-01T00:00:00.000000000",
          "2017-05-01T00:00:00.000000000",
          "2017-06-01T00:00:00.000000000",
          "2017-07-01T00:00:00.000000000",
          "2017-08-01T00:00:00.000000000",
          "2017-09-01T00:00:00.000000000",
          "2017-10-01T00:00:00.000000000",
          "2017-11-01T00:00:00.000000000",
          "2017-12-01T00:00:00.000000000",
          "2018-01-01T00:00:00.000000000",
          "2018-02-01T00:00:00.000000000",
          "2018-03-01T00:00:00.000000000",
          "2018-04-01T00:00:00.000000000",
          "2018-05-01T00:00:00.000000000",
          "2018-06-01T00:00:00.000000000",
          "2018-07-01T00:00:00.000000000",
          "2018-08-01T00:00:00.000000000",
          "2018-09-01T00:00:00.000000000",
          "2018-10-01T00:00:00.000000000",
          "2018-11-01T00:00:00.000000000",
          "2018-12-01T00:00:00.000000000",
          "2019-01-01T00:00:00.000000000",
          "2019-02-01T00:00:00.000000000",
          "2019-03-01T00:00:00.000000000",
          "2019-04-01T00:00:00.000000000",
          "2019-05-01T00:00:00.000000000",
          "2019-06-01T00:00:00.000000000",
          "2019-07-01T00:00:00.000000000",
          "2019-08-01T00:00:00.000000000",
          "2019-09-01T00:00:00.000000000",
          "2019-10-01T00:00:00.000000000",
          "2019-11-01T00:00:00.000000000",
          "2019-12-01T00:00:00.000000000",
          "2020-01-01T00:00:00.000000000",
          "2020-02-01T00:00:00.000000000",
          "2020-03-01T00:00:00.000000000",
          "2020-04-01T00:00:00.000000000",
          "2020-05-01T00:00:00.000000000",
          "2020-06-01T00:00:00.000000000",
          "2020-07-01T00:00:00.000000000",
          "2020-08-01T00:00:00.000000000",
          "2020-09-01T00:00:00.000000000",
          "2020-10-01T00:00:00.000000000",
          "2020-11-01T00:00:00.000000000",
          "2020-12-01T00:00:00.000000000",
          "2021-01-01T00:00:00.000000000",
          "2021-02-01T00:00:00.000000000",
          "2021-03-01T00:00:00.000000000",
          "2021-04-01T00:00:00.000000000",
          "2021-05-01T00:00:00.000000000",
          "2021-06-01T00:00:00.000000000",
          "2021-07-01T00:00:00.000000000",
          "2021-08-01T00:00:00.000000000",
          "2021-09-01T00:00:00.000000000",
          "2021-10-01T00:00:00.000000000",
          "2021-11-01T00:00:00.000000000",
          "2021-12-01T00:00:00.000000000",
          "2022-01-01T00:00:00.000000000",
          "2022-02-01T00:00:00.000000000",
          "2022-03-01T00:00:00.000000000",
          "2022-04-01T00:00:00.000000000",
          "2022-05-01T00:00:00.000000000",
          "2022-06-01T00:00:00.000000000",
          "2022-07-01T00:00:00.000000000",
          "2022-08-01T00:00:00.000000000",
          "2022-09-01T00:00:00.000000000",
          "2022-10-01T00:00:00.000000000",
          "2022-11-01T00:00:00.000000000",
          "2022-12-01T00:00:00.000000000"
         ],
         "xaxis": "x4",
         "y": {
          "bdata": "ttZaa601S0CSJEmSJClQQHTOOeec81JAIiIiIiICVkBba6211ppXQERERERExF1A11prrbVWYEBjjDHGGCNdQKuqqqqqylhAMsYYY4yxVkC8u7u7u/tRQCmllFJKqU5ASimllFLKTkAAAAAAAFBSQGOMMcYYI1RARERERERkV0A655xzznlZQKuqqqqq6l5Avvfee+89YUD43nvvvfdfQM3MzMzMzFtAOuecc855V0C8u7u7u9tSQHTOOeecM1BAvvfee++9T0C3bdu2bRtUQLbWWmuttVZA7+7u7u4uWUAIIYQQQkhcQKuqqqqq6mFA11prrbU2YkC+9957731hQHd3d3d3l1xAa6211lprWkDNzMzMzKxUQL733nvvvVFACCGEEEIIUkCoEZZ7GuFUQKWUUkopJVhAMzMzMzNTWkDGGGOMMQZfQGZmZmZmBmJApZRSSimFY0CMMcYYY6xiQBERERERsV1ASimllFJKXEDe3d3d3V1WQKWUUkopZVNAY4wxxhgjU0Dbtm3btt1WQO+9995771hAzczMzMzsW0CttdZaaw1gQEREREREhGNAlVJKKaVUZUDXWmuttdZjQDMzMzMzY2BAQgghhBCCXkAREREREXFWQEIIIYQQAlNAdM4555xzVEAAAAAAAGBXQOecc845p1pAVVVVVVWVXkDXWmuttTZhQCIiIiIiUmRAvvfee++9ZkDnnHPOOSdkQDMzMzMzI2FAnXPOOefcX0BVVVVVVRVYQEIIIYQQAlVA",
          "dtype": "f8"
         },
         "yaxis": "y4"
        }
       ],
       "layout": {
        "annotations": [
         {
          "font": {
           "size": 16
          },
          "showarrow": false,
          "text": "Average Bookings by Season",
          "x": 0.225,
          "xanchor": "center",
          "xref": "paper",
          "y": 1,
          "yanchor": "bottom",
          "yref": "paper"
         },
         {
          "font": {
           "size": 16
          },
          "showarrow": false,
          "text": "Average Occupancy Rate by Season",
          "x": 0.775,
          "xanchor": "center",
          "xref": "paper",
          "y": 1,
          "yanchor": "bottom",
          "yref": "paper"
         },
         {
          "font": {
           "size": 16
          },
          "showarrow": false,
          "text": "Average Price by Season",
          "x": 0.225,
          "xanchor": "center",
          "xref": "paper",
          "y": 0.375,
          "yanchor": "bottom",
          "yref": "paper"
         },
         {
          "font": {
           "size": 16
          },
          "showarrow": false,
          "text": "Seasonal Demand Pattern",
          "x": 0.775,
          "xanchor": "center",
          "xref": "paper",
          "y": 0.375,
          "yanchor": "bottom",
          "yref": "paper"
         }
        ],
        "height": 800,
        "showlegend": false,
        "template": {
         "data": {
          "bar": [
           {
            "error_x": {
             "color": "#2a3f5f"
            },
            "error_y": {
             "color": "#2a3f5f"
            },
            "marker": {
             "line": {
              "color": "white",
              "width": 0.5
             },
             "pattern": {
              "fillmode": "overlay",
              "size": 10,
              "solidity": 0.2
             }
            },
            "type": "bar"
           }
          ],
          "barpolar": [
           {
            "marker": {
             "line": {
              "color": "white",
              "width": 0.5
             },
             "pattern": {
              "fillmode": "overlay",
              "size": 10,
              "solidity": 0.2
             }
            },
            "type": "barpolar"
           }
          ],
          "carpet": [
           {
            "aaxis": {
             "endlinecolor": "#2a3f5f",
             "gridcolor": "#C8D4E3",
             "linecolor": "#C8D4E3",
             "minorgridcolor": "#C8D4E3",
             "startlinecolor": "#2a3f5f"
            },
            "baxis": {
             "endlinecolor": "#2a3f5f",
             "gridcolor": "#C8D4E3",
             "linecolor": "#C8D4E3",
             "minorgridcolor": "#C8D4E3",
             "startlinecolor": "#2a3f5f"
            },
            "type": "carpet"
           }
          ],
          "choropleth": [
           {
            "colorbar": {
             "outlinewidth": 0,
             "ticks": ""
            },
            "type": "choropleth"
           }
          ],
          "contour": [
           {
            "colorbar": {
             "outlinewidth": 0,
             "ticks": ""
            },
            "colorscale": [
             [
              0,
              "#0d0887"
             ],
             [
              0.1111111111111111,
              "#46039f"
             ],
             [
              0.2222222222222222,
              "#7201a8"
             ],
             [
              0.3333333333333333,
              "#9c179e"
             ],
             [
              0.4444444444444444,
              "#bd3786"
             ],
             [
              0.5555555555555556,
              "#d8576b"
             ],
             [
              0.6666666666666666,
              "#ed7953"
             ],
             [
              0.7777777777777778,
              "#fb9f3a"
             ],
             [
              0.8888888888888888,
              "#fdca26"
             ],
             [
              1,
              "#f0f921"
             ]
            ],
            "type": "contour"
           }
          ],
          "contourcarpet": [
           {
            "colorbar": {
             "outlinewidth": 0,
             "ticks": ""
            },
            "type": "contourcarpet"
           }
          ],
          "heatmap": [
           {
            "colorbar": {
             "outlinewidth": 0,
             "ticks": ""
            },
            "colorscale": [
             [
              0,
              "#0d0887"
             ],
             [
              0.1111111111111111,
              "#46039f"
             ],
             [
              0.2222222222222222,
              "#7201a8"
             ],
             [
              0.3333333333333333,
              "#9c179e"
             ],
             [
              0.4444444444444444,
              "#bd3786"
             ],
             [
              0.5555555555555556,
              "#d8576b"
             ],
             [
              0.6666666666666666,
              "#ed7953"
             ],
             [
              0.7777777777777778,
              "#fb9f3a"
             ],
             [
              0.8888888888888888,
              "#fdca26"
             ],
             [
              1,
              "#f0f921"
             ]
            ],
            "type": "heatmap"
           }
          ],
          "histogram": [
           {
            "marker": {
             "pattern": {
              "fillmode": "overlay",
              "size": 10,
              "solidity": 0.2
             }
            },
            "type": "histogram"
           }
          ],
          "histogram2d": [
           {
            "colorbar": {
             "outlinewidth": 0,
             "ticks": ""
            },
            "colorscale": [
             [
              0,
              "#0d0887"
             ],
             [
              0.1111111111111111,
              "#46039f"
             ],
             [
              0.2222222222222222,
              "#7201a8"
             ],
             [
              0.3333333333333333,
              "#9c179e"
             ],
             [
              0.4444444444444444,
              "#bd3786"
             ],
             [
              0.5555555555555556,
              "#d8576b"
             ],
             [
              0.6666666666666666,
              "#ed7953"
             ],
             [
              0.7777777777777778,
              "#fb9f3a"
             ],
             [
              0.8888888888888888,
              "#fdca26"
             ],
             [
              1,
              "#f0f921"
             ]
            ],
            "type": "histogram2d"
           }
          ],
          "histogram2dcontour": [
           {
            "colorbar": {
             "outlinewidth": 0,
             "ticks": ""
            },
            "colorscale": [
             [
              0,
              "#0d0887"
             ],
             [
              0.1111111111111111,
              "#46039f"
             ],
             [
              0.2222222222222222,
              "#7201a8"
             ],
             [
              0.3333333333333333,
              "#9c179e"
             ],
             [
              0.4444444444444444,
              "#bd3786"
             ],
             [
              0.5555555555555556,
              "#d8576b"
             ],
             [
              0.6666666666666666,
              "#ed7953"
             ],
             [
              0.7777777777777778,
              "#fb9f3a"
             ],
             [
              0.8888888888888888,
              "#fdca26"
             ],
             [
              1,
              "#f0f921"
             ]
            ],
            "type": "histogram2dcontour"
           }
          ],
          "mesh3d": [
           {
            "colorbar": {
             "outlinewidth": 0,
             "ticks": ""
            },
            "type": "mesh3d"
           }
          ],
          "parcoords": [
           {
            "line": {
             "colorbar": {
              "outlinewidth": 0,
              "ticks": ""
             }
            },
            "type": "parcoords"
           }
          ],
          "pie": [
           {
            "automargin": true,
            "type": "pie"
           }
          ],
          "scatter": [
           {
            "fillpattern": {
             "fillmode": "overlay",
             "size": 10,
             "solidity": 0.2
            },
            "type": "scatter"
           }
          ],
          "scatter3d": [
           {
            "line": {
             "colorbar": {
              "outlinewidth": 0,
              "ticks": ""
             }
            },
            "marker": {
             "colorbar": {
              "outlinewidth": 0,
              "ticks": ""
             }
            },
            "type": "scatter3d"
           }
          ],
          "scattercarpet": [
           {
            "marker": {
             "colorbar": {
              "outlinewidth": 0,
              "ticks": ""
             }
            },
            "type": "scattercarpet"
           }
          ],
          "scattergeo": [
           {
            "marker": {
             "colorbar": {
              "outlinewidth": 0,
              "ticks": ""
             }
            },
            "type": "scattergeo"
           }
          ],
          "scattergl": [
           {
            "marker": {
             "colorbar": {
              "outlinewidth": 0,
              "ticks": ""
             }
            },
            "type": "scattergl"
           }
          ],
          "scattermap": [
           {
            "marker": {
             "colorbar": {
              "outlinewidth": 0,
              "ticks": ""
             }
            },
            "type": "scattermap"
           }
          ],
          "scattermapbox": [
           {
            "marker": {
             "colorbar": {
              "outlinewidth": 0,
              "ticks": ""
             }
            },
            "type": "scattermapbox"
           }
          ],
          "scatterpolar": [
           {
            "marker": {
             "colorbar": {
              "outlinewidth": 0,
              "ticks": ""
             }
            },
            "type": "scatterpolar"
           }
          ],
          "scatterpolargl": [
           {
            "marker": {
             "colorbar": {
              "outlinewidth": 0,
              "ticks": ""
             }
            },
            "type": "scatterpolargl"
           }
          ],
          "scatterternary": [
           {
            "marker": {
             "colorbar": {
              "outlinewidth": 0,
              "ticks": ""
             }
            },
            "type": "scatterternary"
           }
          ],
          "surface": [
           {
            "colorbar": {
             "outlinewidth": 0,
             "ticks": ""
            },
            "colorscale": [
             [
              0,
              "#0d0887"
             ],
             [
              0.1111111111111111,
              "#46039f"
             ],
             [
              0.2222222222222222,
              "#7201a8"
             ],
             [
              0.3333333333333333,
              "#9c179e"
             ],
             [
              0.4444444444444444,
              "#bd3786"
             ],
             [
              0.5555555555555556,
              "#d8576b"
             ],
             [
              0.6666666666666666,
              "#ed7953"
             ],
             [
              0.7777777777777778,
              "#fb9f3a"
             ],
             [
              0.8888888888888888,
              "#fdca26"
             ],
             [
              1,
              "#f0f921"
             ]
            ],
            "type": "surface"
           }
          ],
          "table": [
           {
            "cells": {
             "fill": {
              "color": "#EBF0F8"
             },
             "line": {
              "color": "white"
             }
            },
            "header": {
             "fill": {
              "color": "#C8D4E3"
             },
             "line": {
              "color": "white"
             }
            },
            "type": "table"
           }
          ]
         },
         "layout": {
          "annotationdefaults": {
           "arrowcolor": "#2a3f5f",
           "arrowhead": 0,
           "arrowwidth": 1
          },
          "autotypenumbers": "strict",
          "coloraxis": {
           "colorbar": {
            "outlinewidth": 0,
            "ticks": ""
           }
          },
          "colorscale": {
           "diverging": [
            [
             0,
             "#8e0152"
            ],
            [
             0.1,
             "#c51b7d"
            ],
            [
             0.2,
             "#de77ae"
            ],
            [
             0.3,
             "#f1b6da"
            ],
            [
             0.4,
             "#fde0ef"
            ],
            [
             0.5,
             "#f7f7f7"
            ],
            [
             0.6,
             "#e6f5d0"
            ],
            [
             0.7,
             "#b8e186"
            ],
            [
             0.8,
             "#7fbc41"
            ],
            [
             0.9,
             "#4d9221"
            ],
            [
             1,
             "#276419"
            ]
           ],
           "sequential": [
            [
             0,
             "#0d0887"
            ],
            [
             0.1111111111111111,
             "#46039f"
            ],
            [
             0.2222222222222222,
             "#7201a8"
            ],
            [
             0.3333333333333333,
             "#9c179e"
            ],
            [
             0.4444444444444444,
             "#bd3786"
            ],
            [
             0.5555555555555556,
             "#d8576b"
            ],
            [
             0.6666666666666666,
             "#ed7953"
            ],
            [
             0.7777777777777778,
             "#fb9f3a"
            ],
            [
             0.8888888888888888,
             "#fdca26"
            ],
            [
             1,
             "#f0f921"
            ]
           ],
           "sequentialminus": [
            [
             0,
             "#0d0887"
            ],
            [
             0.1111111111111111,
             "#46039f"
            ],
            [
             0.2222222222222222,
             "#7201a8"
            ],
            [
             0.3333333333333333,
             "#9c179e"
            ],
            [
             0.4444444444444444,
             "#bd3786"
            ],
            [
             0.5555555555555556,
             "#d8576b"
            ],
            [
             0.6666666666666666,
             "#ed7953"
            ],
            [
             0.7777777777777778,
             "#fb9f3a"
            ],
            [
             0.8888888888888888,
             "#fdca26"
            ],
            [
             1,
             "#f0f921"
            ]
           ]
          },
          "colorway": [
           "#636efa",
           "#EF553B",
           "#00cc96",
           "#ab63fa",
           "#FFA15A",
           "#19d3f3",
           "#FF6692",
           "#B6E880",
           "#FF97FF",
           "#FECB52"
          ],
          "font": {
           "color": "#2a3f5f"
          },
          "geo": {
           "bgcolor": "white",
           "lakecolor": "white",
           "landcolor": "white",
           "showlakes": true,
           "showland": true,
           "subunitcolor": "#C8D4E3"
          },
          "hoverlabel": {
           "align": "left"
          },
          "hovermode": "closest",
          "mapbox": {
           "style": "light"
          },
          "paper_bgcolor": "white",
          "plot_bgcolor": "white",
          "polar": {
           "angularaxis": {
            "gridcolor": "#EBF0F8",
            "linecolor": "#EBF0F8",
            "ticks": ""
           },
           "bgcolor": "white",
           "radialaxis": {
            "gridcolor": "#EBF0F8",
            "linecolor": "#EBF0F8",
            "ticks": ""
           }
          },
          "scene": {
           "xaxis": {
            "backgroundcolor": "white",
            "gridcolor": "#DFE8F3",
            "gridwidth": 2,
            "linecolor": "#EBF0F8",
            "showbackground": true,
            "ticks": "",
            "zerolinecolor": "#EBF0F8"
           },
           "yaxis": {
            "backgroundcolor": "white",
            "gridcolor": "#DFE8F3",
            "gridwidth": 2,
            "linecolor": "#EBF0F8",
            "showbackground": true,
            "ticks": "",
            "zerolinecolor": "#EBF0F8"
           },
           "zaxis": {
            "backgroundcolor": "white",
            "gridcolor": "#DFE8F3",
            "gridwidth": 2,
            "linecolor": "#EBF0F8",
            "showbackground": true,
            "ticks": "",
            "zerolinecolor": "#EBF0F8"
           }
          },
          "shapedefaults": {
           "line": {
            "color": "#2a3f5f"
           }
          },
          "ternary": {
           "aaxis": {
            "gridcolor": "#DFE8F3",
            "linecolor": "#A2B1C6",
            "ticks": ""
           },
           "baxis": {
            "gridcolor": "#DFE8F3",
            "linecolor": "#A2B1C6",
            "ticks": ""
           },
           "bgcolor": "white",
           "caxis": {
            "gridcolor": "#DFE8F3",
            "linecolor": "#A2B1C6",
            "ticks": ""
           }
          },
          "title": {
           "x": 0.05
          },
          "xaxis": {
           "automargin": true,
           "gridcolor": "#EBF0F8",
           "linecolor": "#EBF0F8",
           "ticks": "",
           "title": {
            "standoff": 15
           },
           "zerolinecolor": "#EBF0F8",
           "zerolinewidth": 2
          },
          "yaxis": {
           "automargin": true,
           "gridcolor": "#EBF0F8",
           "linecolor": "#EBF0F8",
           "ticks": "",
           "title": {
            "standoff": 15
           },
           "zerolinecolor": "#EBF0F8",
           "zerolinewidth": 2
          }
         }
        },
        "title": {
         "text": "Seasonal Demand Analysis for Airbnb Bookings"
        },
        "xaxis": {
         "anchor": "y",
         "domain": [
          0,
          0.45
         ],
         "title": {
          "text": "Season"
         }
        },
        "xaxis2": {
         "anchor": "y2",
         "domain": [
          0.55,
          1
         ],
         "title": {
          "text": "Season"
         }
        },
        "xaxis3": {
         "anchor": "y3",
         "domain": [
          0,
          0.45
         ],
         "title": {
          "text": "Season"
         }
        },
        "xaxis4": {
         "anchor": "y4",
         "domain": [
          0.55,
          1
         ],
         "title": {
          "text": "Date"
         }
        },
        "yaxis": {
         "anchor": "x",
         "domain": [
          0.625,
          1
         ],
         "title": {
          "text": "Average Bookings"
         }
        },
        "yaxis2": {
         "anchor": "x2",
         "domain": [
          0.625,
          1
         ],
         "title": {
          "text": "Occupancy Rate %"
         }
        },
        "yaxis3": {
         "anchor": "x3",
         "domain": [
          0,
          0.375
         ],
         "title": {
          "text": "Average Price $"
         }
        },
        "yaxis4": {
         "anchor": "x4",
         "domain": [
          0,
          0.375
         ],
         "title": {
          "text": "Bookings"
         }
        }
       }
      }
     },
     "metadata": {},
     "output_type": "display_data"
    },
    {
     "name": "stdout",
     "output_type": "stream",
     "text": [
      "✅ Seasonal analysis completed!\n"
     ]
    }
   ],
   "source": [
    "# Seasonal Analysis and Visualization\n",
    "print(\"📊 Analyzing seasonal patterns...\")\n",
    "\n",
    "# Group by season and calculate statistics\n",
    "seasonal_stats = ts_data.groupby('season').agg({\n",
    "    'bookings': ['mean', 'std', 'min', 'max'],\n",
    "    'occupancy_rate': ['mean', 'std'],\n",
    "    'avg_price': ['mean', 'std']\n",
    "}).round(2)\n",
    "\n",
    "print(\"📈 Seasonal Statistics:\")\n",
    "print(seasonal_stats)\n",
    "\n",
    "# Create seasonal comparison visualization\n",
    "fig = make_subplots(\n",
    "    rows=2, cols=2,\n",
    "    subplot_titles=('Average Bookings by Season', 'Average Occupancy Rate by Season', \n",
    "                   'Average Price by Season', 'Seasonal Demand Pattern'),\n",
    "    specs=[[{\"secondary_y\": False}, {\"secondary_y\": False}],\n",
    "           [{\"secondary_y\": False}, {\"secondary_y\": False}]]\n",
    ")\n",
    "\n",
    "# 1. Average bookings by season\n",
    "seasonal_bookings = ts_data.groupby('season')['bookings'].mean()\n",
    "fig.add_trace(\n",
    "    go.Bar(x=seasonal_bookings.index, y=seasonal_bookings.values, \n",
    "           name='Avg Bookings', marker_color=['#FF6B6B', '#4ECDC4', '#45B7D1', '#96CEB4']),\n",
    "    row=1, col=1\n",
    ")\n",
    "\n",
    "# 2. Average occupancy rate by season\n",
    "seasonal_occupancy = ts_data.groupby('season')['occupancy_rate'].mean()\n",
    "fig.add_trace(\n",
    "    go.Bar(x=seasonal_occupancy.index, y=seasonal_occupancy.values, \n",
    "           name='Avg Occupancy %', marker_color=['#FF6B6B', '#4ECDC4', '#45B7D1', '#96CEB4']),\n",
    "    row=1, col=2\n",
    ")\n",
    "\n",
    "# 3. Average price by season\n",
    "seasonal_price = ts_data.groupby('season')['avg_price'].mean()\n",
    "fig.add_trace(\n",
    "    go.Bar(x=seasonal_price.index, y=seasonal_price.values, \n",
    "           name='Avg Price $', marker_color=['#FF6B6B', '#4ECDC4', '#45B7D1', '#96CEB4']),\n",
    "    row=2, col=1\n",
    ")\n",
    "\n",
    "# 4. Time series plot showing seasonal pattern\n",
    "monthly_data = ts_data.groupby(['year', 'month']).agg({\n",
    "    'bookings': 'mean',\n",
    "    'occupancy_rate': 'mean',\n",
    "    'avg_price': 'mean'\n",
    "}).reset_index()\n",
    "monthly_data['date'] = pd.to_datetime(monthly_data[['year', 'month']].assign(day=1))\n",
    "\n",
    "fig.add_trace(\n",
    "    go.Scatter(x=monthly_data['date'], y=monthly_data['bookings'], \n",
    "               mode='lines+markers', name='Monthly Bookings', line=dict(color='#FF6B6B')),\n",
    "    row=2, col=2\n",
    ")\n",
    "\n",
    "# Update layout\n",
    "fig.update_layout(\n",
    "    height=800,\n",
    "    title_text=\"Seasonal Demand Analysis for Airbnb Bookings\",\n",
    "    showlegend=False,\n",
    "    template=\"plotly_white\"\n",
    ")\n",
    "\n",
    "# Update axes labels\n",
    "fig.update_xaxes(title_text=\"Season\", row=1, col=1)\n",
    "fig.update_xaxes(title_text=\"Season\", row=1, col=2)\n",
    "fig.update_xaxes(title_text=\"Season\", row=2, col=1)\n",
    "fig.update_xaxes(title_text=\"Date\", row=2, col=2)\n",
    "\n",
    "fig.update_yaxes(title_text=\"Average Bookings\", row=1, col=1)\n",
    "fig.update_yaxes(title_text=\"Occupancy Rate %\", row=1, col=2)\n",
    "fig.update_yaxes(title_text=\"Average Price $\", row=2, col=1)\n",
    "fig.update_yaxes(title_text=\"Bookings\", row=2, col=2)\n",
    "\n",
    "fig.show()\n",
    "\n",
    "print(\"✅ Seasonal analysis completed!\")\n"
   ]
  },
  {
   "cell_type": "code",
   "execution_count": 20,
   "id": "d3c032e4",
   "metadata": {},
   "outputs": [
    {
     "name": "stdout",
     "output_type": "stream",
     "text": [
      "🔍 Performing time series decomposition...\n"
     ]
    },
    {
     "data": {
      "application/vnd.plotly.v1+json": {
       "config": {
        "plotlyServerURL": "https://plot.ly"
       },
       "data": [
        {
         "line": {
          "color": "blue"
         },
         "mode": "lines",
         "name": "Original",
         "type": "scatter",
         "x": [
          "2017-01-01T00:00:00.000000000",
          "2017-02-01T00:00:00.000000000",
          "2017-03-01T00:00:00.000000000",
          "2017-04-01T00:00:00.000000000",
          "2017-05-01T00:00:00.000000000",
          "2017-06-01T00:00:00.000000000",
          "2017-07-01T00:00:00.000000000",
          "2017-08-01T00:00:00.000000000",
          "2017-09-01T00:00:00.000000000",
          "2017-10-01T00:00:00.000000000",
          "2017-11-01T00:00:00.000000000",
          "2017-12-01T00:00:00.000000000",
          "2018-01-01T00:00:00.000000000",
          "2018-02-01T00:00:00.000000000",
          "2018-03-01T00:00:00.000000000",
          "2018-04-01T00:00:00.000000000",
          "2018-05-01T00:00:00.000000000",
          "2018-06-01T00:00:00.000000000",
          "2018-07-01T00:00:00.000000000",
          "2018-08-01T00:00:00.000000000",
          "2018-09-01T00:00:00.000000000",
          "2018-10-01T00:00:00.000000000",
          "2018-11-01T00:00:00.000000000",
          "2018-12-01T00:00:00.000000000",
          "2019-01-01T00:00:00.000000000",
          "2019-02-01T00:00:00.000000000",
          "2019-03-01T00:00:00.000000000",
          "2019-04-01T00:00:00.000000000",
          "2019-05-01T00:00:00.000000000",
          "2019-06-01T00:00:00.000000000",
          "2019-07-01T00:00:00.000000000",
          "2019-08-01T00:00:00.000000000",
          "2019-09-01T00:00:00.000000000",
          "2019-10-01T00:00:00.000000000",
          "2019-11-01T00:00:00.000000000",
          "2019-12-01T00:00:00.000000000",
          "2020-01-01T00:00:00.000000000",
          "2020-02-01T00:00:00.000000000",
          "2020-03-01T00:00:00.000000000",
          "2020-04-01T00:00:00.000000000",
          "2020-05-01T00:00:00.000000000",
          "2020-06-01T00:00:00.000000000",
          "2020-07-01T00:00:00.000000000",
          "2020-08-01T00:00:00.000000000",
          "2020-09-01T00:00:00.000000000",
          "2020-10-01T00:00:00.000000000",
          "2020-11-01T00:00:00.000000000",
          "2020-12-01T00:00:00.000000000",
          "2021-01-01T00:00:00.000000000",
          "2021-02-01T00:00:00.000000000",
          "2021-03-01T00:00:00.000000000",
          "2021-04-01T00:00:00.000000000",
          "2021-05-01T00:00:00.000000000",
          "2021-06-01T00:00:00.000000000",
          "2021-07-01T00:00:00.000000000",
          "2021-08-01T00:00:00.000000000",
          "2021-09-01T00:00:00.000000000",
          "2021-10-01T00:00:00.000000000",
          "2021-11-01T00:00:00.000000000",
          "2021-12-01T00:00:00.000000000",
          "2022-01-01T00:00:00.000000000",
          "2022-02-01T00:00:00.000000000",
          "2022-03-01T00:00:00.000000000",
          "2022-04-01T00:00:00.000000000",
          "2022-05-01T00:00:00.000000000",
          "2022-06-01T00:00:00.000000000",
          "2022-07-01T00:00:00.000000000",
          "2022-08-01T00:00:00.000000000",
          "2022-09-01T00:00:00.000000000",
          "2022-10-01T00:00:00.000000000",
          "2022-11-01T00:00:00.000000000",
          "2022-12-01T00:00:00.000000000"
         ],
         "xaxis": "x",
         "y": {
          "bdata": "ttZaa601S0CSJEmSJClQQHTOOeec81JAIiIiIiICVkBba6211ppXQERERERExF1A11prrbVWYEBjjDHGGCNdQKuqqqqqylhAMsYYY4yxVkC8u7u7u/tRQCmllFJKqU5ASimllFLKTkAAAAAAAFBSQGOMMcYYI1RARERERERkV0A655xzznlZQKuqqqqq6l5Avvfee+89YUD43nvvvfdfQM3MzMzMzFtAOuecc855V0C8u7u7u9tSQHTOOeecM1BAvvfee++9T0C3bdu2bRtUQLbWWmuttVZA7+7u7u4uWUAIIYQQQkhcQKuqqqqq6mFA11prrbU2YkC+9957731hQHd3d3d3l1xAa6211lprWkDNzMzMzKxUQL733nvvvVFACCGEEEIIUkCoEZZ7GuFUQKWUUkopJVhAMzMzMzNTWkDGGGOMMQZfQGZmZmZmBmJApZRSSimFY0CMMcYYY6xiQBERERERsV1ASimllFJKXEDe3d3d3V1WQKWUUkopZVNAY4wxxhgjU0Dbtm3btt1WQO+9995771hAzczMzMzsW0CttdZaaw1gQEREREREhGNAlVJKKaVUZUDXWmuttdZjQDMzMzMzY2BAQgghhBCCXkAREREREXFWQEIIIYQQAlNAdM4555xzVEAAAAAAAGBXQOecc845p1pAVVVVVVWVXkDXWmuttTZhQCIiIiIiUmRAvvfee++9ZkDnnHPOOSdkQDMzMzMzI2FAnXPOOefcX0BVVVVVVRVYQEIIIYQQAlVA",
          "dtype": "f8"
         },
         "yaxis": "y"
        },
        {
         "line": {
          "color": "red"
         },
         "mode": "lines",
         "name": "Trend",
         "type": "scatter",
         "x": [
          "2017-01-01T00:00:00.000000000",
          "2017-02-01T00:00:00.000000000",
          "2017-03-01T00:00:00.000000000",
          "2017-04-01T00:00:00.000000000",
          "2017-05-01T00:00:00.000000000",
          "2017-06-01T00:00:00.000000000",
          "2017-07-01T00:00:00.000000000",
          "2017-08-01T00:00:00.000000000",
          "2017-09-01T00:00:00.000000000",
          "2017-10-01T00:00:00.000000000",
          "2017-11-01T00:00:00.000000000",
          "2017-12-01T00:00:00.000000000",
          "2018-01-01T00:00:00.000000000",
          "2018-02-01T00:00:00.000000000",
          "2018-03-01T00:00:00.000000000",
          "2018-04-01T00:00:00.000000000",
          "2018-05-01T00:00:00.000000000",
          "2018-06-01T00:00:00.000000000",
          "2018-07-01T00:00:00.000000000",
          "2018-08-01T00:00:00.000000000",
          "2018-09-01T00:00:00.000000000",
          "2018-10-01T00:00:00.000000000",
          "2018-11-01T00:00:00.000000000",
          "2018-12-01T00:00:00.000000000",
          "2019-01-01T00:00:00.000000000",
          "2019-02-01T00:00:00.000000000",
          "2019-03-01T00:00:00.000000000",
          "2019-04-01T00:00:00.000000000",
          "2019-05-01T00:00:00.000000000",
          "2019-06-01T00:00:00.000000000",
          "2019-07-01T00:00:00.000000000",
          "2019-08-01T00:00:00.000000000",
          "2019-09-01T00:00:00.000000000",
          "2019-10-01T00:00:00.000000000",
          "2019-11-01T00:00:00.000000000",
          "2019-12-01T00:00:00.000000000",
          "2020-01-01T00:00:00.000000000",
          "2020-02-01T00:00:00.000000000",
          "2020-03-01T00:00:00.000000000",
          "2020-04-01T00:00:00.000000000",
          "2020-05-01T00:00:00.000000000",
          "2020-06-01T00:00:00.000000000",
          "2020-07-01T00:00:00.000000000",
          "2020-08-01T00:00:00.000000000",
          "2020-09-01T00:00:00.000000000",
          "2020-10-01T00:00:00.000000000",
          "2020-11-01T00:00:00.000000000",
          "2020-12-01T00:00:00.000000000",
          "2021-01-01T00:00:00.000000000",
          "2021-02-01T00:00:00.000000000",
          "2021-03-01T00:00:00.000000000",
          "2021-04-01T00:00:00.000000000",
          "2021-05-01T00:00:00.000000000",
          "2021-06-01T00:00:00.000000000",
          "2021-07-01T00:00:00.000000000",
          "2021-08-01T00:00:00.000000000",
          "2021-09-01T00:00:00.000000000",
          "2021-10-01T00:00:00.000000000",
          "2021-11-01T00:00:00.000000000",
          "2021-12-01T00:00:00.000000000",
          "2022-01-01T00:00:00.000000000",
          "2022-02-01T00:00:00.000000000",
          "2022-03-01T00:00:00.000000000",
          "2022-04-01T00:00:00.000000000",
          "2022-05-01T00:00:00.000000000",
          "2022-06-01T00:00:00.000000000",
          "2022-07-01T00:00:00.000000000",
          "2022-08-01T00:00:00.000000000",
          "2022-09-01T00:00:00.000000000",
          "2022-10-01T00:00:00.000000000",
          "2022-11-01T00:00:00.000000000",
          "2022-12-01T00:00:00.000000000"
         ],
         "xaxis": "x2",
         "y": {
          "bdata": "AAAAAAAA+H8AAAAAAAD4fwAAAAAAAPh/AAAAAAAA+H8AAAAAAAD4fwAAAAAAAPh/gGBz4+xMVkCy4OF4+XZWQBYnaXGSmlZAFzvKBvm1VkBXTCBwr9hWQG/go7Ho+FZAxnEcx3EYV0Cg17Mk6ElXQCgHg3IwiFdASp/0SZ+wV0AAdk+1TMJXQH5wOV3s1FdA9Emf9EnjV0DUornLgftXQCrVOToXKlhAXv83iKRYWECOE951sIlYQBR92bgR3FhAyKHBrj4lWUBkFZDoJVpZQNxHr7rDgllAOhdCW5uqWUCI1cPqYd1ZQPYXVrwwAVpA5dVNm6woWkCcI/Hm9kdaQFqSGEODX1pAHL3lmQB7WkCd35FsbaRaQD8kYGH8w1pAYGMY/iriWkCsl+lCPhdbQDmYuEsuPFtAyaOzBN9bW0D+/qhi34FbQOgw+SuNpVtAlubPhvjCW0DxcbWn8uNbQOFP5fGRAVxAqkJ9HhEbXEDXwUYRqTdcQHACJ3ACY1xAa884lXSpXEBajTB08OhcQFo0dzmwIl1AiJaqsTtbXUD04XFosHNdQD2e/CxccF1Az+UapkB6XUCcq1bes41dQJ1C1yl0pV1A7cYsxCHUXUAMhWn7QgleQPYPc/8wM15AOPDRWHRiXkB8Ax+NRYdeQFNeijr7nV5AIphx1268XkDIVIZMZdxeQPUsCXo9A19AAAAAAAAA+H8AAAAAAAD4fwAAAAAAAPh/AAAAAAAA+H8AAAAAAAD4fwAAAAAAAPh/",
          "dtype": "f8"
         },
         "yaxis": "y2"
        },
        {
         "line": {
          "color": "green"
         },
         "mode": "lines",
         "name": "Seasonal",
         "type": "scatter",
         "x": [
          "2017-01-01T00:00:00.000000000",
          "2017-02-01T00:00:00.000000000",
          "2017-03-01T00:00:00.000000000",
          "2017-04-01T00:00:00.000000000",
          "2017-05-01T00:00:00.000000000",
          "2017-06-01T00:00:00.000000000",
          "2017-07-01T00:00:00.000000000",
          "2017-08-01T00:00:00.000000000",
          "2017-09-01T00:00:00.000000000",
          "2017-10-01T00:00:00.000000000",
          "2017-11-01T00:00:00.000000000",
          "2017-12-01T00:00:00.000000000",
          "2018-01-01T00:00:00.000000000",
          "2018-02-01T00:00:00.000000000",
          "2018-03-01T00:00:00.000000000",
          "2018-04-01T00:00:00.000000000",
          "2018-05-01T00:00:00.000000000",
          "2018-06-01T00:00:00.000000000",
          "2018-07-01T00:00:00.000000000",
          "2018-08-01T00:00:00.000000000",
          "2018-09-01T00:00:00.000000000",
          "2018-10-01T00:00:00.000000000",
          "2018-11-01T00:00:00.000000000",
          "2018-12-01T00:00:00.000000000",
          "2019-01-01T00:00:00.000000000",
          "2019-02-01T00:00:00.000000000",
          "2019-03-01T00:00:00.000000000",
          "2019-04-01T00:00:00.000000000",
          "2019-05-01T00:00:00.000000000",
          "2019-06-01T00:00:00.000000000",
          "2019-07-01T00:00:00.000000000",
          "2019-08-01T00:00:00.000000000",
          "2019-09-01T00:00:00.000000000",
          "2019-10-01T00:00:00.000000000",
          "2019-11-01T00:00:00.000000000",
          "2019-12-01T00:00:00.000000000",
          "2020-01-01T00:00:00.000000000",
          "2020-02-01T00:00:00.000000000",
          "2020-03-01T00:00:00.000000000",
          "2020-04-01T00:00:00.000000000",
          "2020-05-01T00:00:00.000000000",
          "2020-06-01T00:00:00.000000000",
          "2020-07-01T00:00:00.000000000",
          "2020-08-01T00:00:00.000000000",
          "2020-09-01T00:00:00.000000000",
          "2020-10-01T00:00:00.000000000",
          "2020-11-01T00:00:00.000000000",
          "2020-12-01T00:00:00.000000000",
          "2021-01-01T00:00:00.000000000",
          "2021-02-01T00:00:00.000000000",
          "2021-03-01T00:00:00.000000000",
          "2021-04-01T00:00:00.000000000",
          "2021-05-01T00:00:00.000000000",
          "2021-06-01T00:00:00.000000000",
          "2021-07-01T00:00:00.000000000",
          "2021-08-01T00:00:00.000000000",
          "2021-09-01T00:00:00.000000000",
          "2021-10-01T00:00:00.000000000",
          "2021-11-01T00:00:00.000000000",
          "2021-12-01T00:00:00.000000000",
          "2022-01-01T00:00:00.000000000",
          "2022-02-01T00:00:00.000000000",
          "2022-03-01T00:00:00.000000000",
          "2022-04-01T00:00:00.000000000",
          "2022-05-01T00:00:00.000000000",
          "2022-06-01T00:00:00.000000000",
          "2022-07-01T00:00:00.000000000",
          "2022-08-01T00:00:00.000000000",
          "2022-09-01T00:00:00.000000000",
          "2022-10-01T00:00:00.000000000",
          "2022-11-01T00:00:00.000000000",
          "2022-12-01T00:00:00.000000000"
         ],
         "xaxis": "x3",
         "y": {
          "bdata": "gROzfCMRQsBOHgvmWZw3wBHj6Zi8uyvAsvmMj54CBcD1KTniHmEmQGOf1wbd3EFAMe/DiQNURkBXQ4JeDTlBQMLKlpmjwSRAaOAOmMjumT+eFDHT9d43wKBboP73J0LAgROzfCMRQsBOHgvmWZw3wBHj6Zi8uyvAsvmMj54CBcD1KTniHmEmQGOf1wbd3EFAMe/DiQNURkBXQ4JeDTlBQMLKlpmjwSRAaOAOmMjumT+eFDHT9d43wKBboP73J0LAgROzfCMRQsBOHgvmWZw3wBHj6Zi8uyvAsvmMj54CBcD1KTniHmEmQGOf1wbd3EFAMe/DiQNURkBXQ4JeDTlBQMLKlpmjwSRAaOAOmMjumT+eFDHT9d43wKBboP73J0LAgROzfCMRQsBOHgvmWZw3wBHj6Zi8uyvAsvmMj54CBcD1KTniHmEmQGOf1wbd3EFAMe/DiQNURkBXQ4JeDTlBQMLKlpmjwSRAaOAOmMjumT+eFDHT9d43wKBboP73J0LAgROzfCMRQsBOHgvmWZw3wBHj6Zi8uyvAsvmMj54CBcD1KTniHmEmQGOf1wbd3EFAMe/DiQNURkBXQ4JeDTlBQMLKlpmjwSRAaOAOmMjumT+eFDHT9d43wKBboP73J0LAgROzfCMRQsBOHgvmWZw3wBHj6Zi8uyvAsvmMj54CBcD1KTniHmEmQGOf1wbd3EFAMe/DiQNURkBXQ4JeDTlBQMLKlpmjwSRAaOAOmMjumT+eFDHT9d43wKBboP73J0LA",
          "dtype": "f8"
         },
         "yaxis": "y3"
        },
        {
         "line": {
          "color": "orange"
         },
         "mode": "lines",
         "name": "Residual",
         "type": "scatter",
         "x": [
          "2017-01-01T00:00:00.000000000",
          "2017-02-01T00:00:00.000000000",
          "2017-03-01T00:00:00.000000000",
          "2017-04-01T00:00:00.000000000",
          "2017-05-01T00:00:00.000000000",
          "2017-06-01T00:00:00.000000000",
          "2017-07-01T00:00:00.000000000",
          "2017-08-01T00:00:00.000000000",
          "2017-09-01T00:00:00.000000000",
          "2017-10-01T00:00:00.000000000",
          "2017-11-01T00:00:00.000000000",
          "2017-12-01T00:00:00.000000000",
          "2018-01-01T00:00:00.000000000",
          "2018-02-01T00:00:00.000000000",
          "2018-03-01T00:00:00.000000000",
          "2018-04-01T00:00:00.000000000",
          "2018-05-01T00:00:00.000000000",
          "2018-06-01T00:00:00.000000000",
          "2018-07-01T00:00:00.000000000",
          "2018-08-01T00:00:00.000000000",
          "2018-09-01T00:00:00.000000000",
          "2018-10-01T00:00:00.000000000",
          "2018-11-01T00:00:00.000000000",
          "2018-12-01T00:00:00.000000000",
          "2019-01-01T00:00:00.000000000",
          "2019-02-01T00:00:00.000000000",
          "2019-03-01T00:00:00.000000000",
          "2019-04-01T00:00:00.000000000",
          "2019-05-01T00:00:00.000000000",
          "2019-06-01T00:00:00.000000000",
          "2019-07-01T00:00:00.000000000",
          "2019-08-01T00:00:00.000000000",
          "2019-09-01T00:00:00.000000000",
          "2019-10-01T00:00:00.000000000",
          "2019-11-01T00:00:00.000000000",
          "2019-12-01T00:00:00.000000000",
          "2020-01-01T00:00:00.000000000",
          "2020-02-01T00:00:00.000000000",
          "2020-03-01T00:00:00.000000000",
          "2020-04-01T00:00:00.000000000",
          "2020-05-01T00:00:00.000000000",
          "2020-06-01T00:00:00.000000000",
          "2020-07-01T00:00:00.000000000",
          "2020-08-01T00:00:00.000000000",
          "2020-09-01T00:00:00.000000000",
          "2020-10-01T00:00:00.000000000",
          "2020-11-01T00:00:00.000000000",
          "2020-12-01T00:00:00.000000000",
          "2021-01-01T00:00:00.000000000",
          "2021-02-01T00:00:00.000000000",
          "2021-03-01T00:00:00.000000000",
          "2021-04-01T00:00:00.000000000",
          "2021-05-01T00:00:00.000000000",
          "2021-06-01T00:00:00.000000000",
          "2021-07-01T00:00:00.000000000",
          "2021-08-01T00:00:00.000000000",
          "2021-09-01T00:00:00.000000000",
          "2021-10-01T00:00:00.000000000",
          "2021-11-01T00:00:00.000000000",
          "2021-12-01T00:00:00.000000000",
          "2022-01-01T00:00:00.000000000",
          "2022-02-01T00:00:00.000000000",
          "2022-03-01T00:00:00.000000000",
          "2022-04-01T00:00:00.000000000",
          "2022-05-01T00:00:00.000000000",
          "2022-06-01T00:00:00.000000000",
          "2022-07-01T00:00:00.000000000",
          "2022-08-01T00:00:00.000000000",
          "2022-09-01T00:00:00.000000000",
          "2022-10-01T00:00:00.000000000",
          "2022-11-01T00:00:00.000000000",
          "2022-12-01T00:00:00.000000000"
         ],
         "xaxis": "x4",
         "y": {
          "bdata": "AAAAAAAA+H8AAAAAAAD4fwAAAAAAAPh/AAAAAAAA+H8AAAAAAAD4fwAAAAAAAPh/UE3Ur2kwCcCoXxcfdgYfwNBwVXwOB/q/GkzX60AuuL/ISHsGnKwRQFj/aW+H+xZA+Mn6GJRUFUBw/t2ZyqUNQCCdwcvmX9I/5DEDs3vu9j9KQJvfIUoRwEhYqV8Dix3AEEJqOJgtAsDwsNxvUQkEwKzkAfYRqBBAQSKTJKAODMBgVXuqLnLyPwDMH2zL4fo/QBROPJna7r/Q/MP5yAsFQIRnGXkoTAVASMGfFEQ05j+ob7ah7VD4v9C1bbLCtgxA8Pkiq2CoDMCANKqLYWHXP9AO/bQPEPi/Bp+Qua9E0b8AgFcyB9VcPwCeAp4z3ss/QLSjYmhU5z8gnC90U8Pzv4gzzm2kHPg/HDICQbcl+L8skV6uyQUHQLB5BlPc5QDAgBtL80hY3T9w77lSmwkLQAgF44CqFg3A/dgyz0TR5j+ALmFjQfLdPwAFwHvZItY/4FFuK4Ry/7/AdQegjxHivxxBR+yYdwfArj0sDD7LCMBQ7M2Fx37ivzBTAwS7NwVAFD6+PD8oIEBohu7TDDMYQBhOiSu5FwFA3wxYbfqJBUA47cJYRwcawCDPDuAj6SDAcADTZ7bIDMCIvsM58QIUwHhCYT520v+/EqAETG4fAEDsdCdBRpwIQLDz6NkIUwZAAAAAAAAA+H8AAAAAAAD4fwAAAAAAAPh/AAAAAAAA+H8AAAAAAAD4fwAAAAAAAPh/",
          "dtype": "f8"
         },
         "yaxis": "y4"
        },
        {
         "line": {
          "color": "blue"
         },
         "mode": "lines",
         "name": "Original",
         "type": "scatter",
         "x": [
          "2017-01-01T00:00:00.000000000",
          "2017-02-01T00:00:00.000000000",
          "2017-03-01T00:00:00.000000000",
          "2017-04-01T00:00:00.000000000",
          "2017-05-01T00:00:00.000000000",
          "2017-06-01T00:00:00.000000000",
          "2017-07-01T00:00:00.000000000",
          "2017-08-01T00:00:00.000000000",
          "2017-09-01T00:00:00.000000000",
          "2017-10-01T00:00:00.000000000",
          "2017-11-01T00:00:00.000000000",
          "2017-12-01T00:00:00.000000000",
          "2018-01-01T00:00:00.000000000",
          "2018-02-01T00:00:00.000000000",
          "2018-03-01T00:00:00.000000000",
          "2018-04-01T00:00:00.000000000",
          "2018-05-01T00:00:00.000000000",
          "2018-06-01T00:00:00.000000000",
          "2018-07-01T00:00:00.000000000",
          "2018-08-01T00:00:00.000000000",
          "2018-09-01T00:00:00.000000000",
          "2018-10-01T00:00:00.000000000",
          "2018-11-01T00:00:00.000000000",
          "2018-12-01T00:00:00.000000000",
          "2019-01-01T00:00:00.000000000",
          "2019-02-01T00:00:00.000000000",
          "2019-03-01T00:00:00.000000000",
          "2019-04-01T00:00:00.000000000",
          "2019-05-01T00:00:00.000000000",
          "2019-06-01T00:00:00.000000000",
          "2019-07-01T00:00:00.000000000",
          "2019-08-01T00:00:00.000000000",
          "2019-09-01T00:00:00.000000000",
          "2019-10-01T00:00:00.000000000",
          "2019-11-01T00:00:00.000000000",
          "2019-12-01T00:00:00.000000000",
          "2020-01-01T00:00:00.000000000",
          "2020-02-01T00:00:00.000000000",
          "2020-03-01T00:00:00.000000000",
          "2020-04-01T00:00:00.000000000",
          "2020-05-01T00:00:00.000000000",
          "2020-06-01T00:00:00.000000000",
          "2020-07-01T00:00:00.000000000",
          "2020-08-01T00:00:00.000000000",
          "2020-09-01T00:00:00.000000000",
          "2020-10-01T00:00:00.000000000",
          "2020-11-01T00:00:00.000000000",
          "2020-12-01T00:00:00.000000000",
          "2021-01-01T00:00:00.000000000",
          "2021-02-01T00:00:00.000000000",
          "2021-03-01T00:00:00.000000000",
          "2021-04-01T00:00:00.000000000",
          "2021-05-01T00:00:00.000000000",
          "2021-06-01T00:00:00.000000000",
          "2021-07-01T00:00:00.000000000",
          "2021-08-01T00:00:00.000000000",
          "2021-09-01T00:00:00.000000000",
          "2021-10-01T00:00:00.000000000",
          "2021-11-01T00:00:00.000000000",
          "2021-12-01T00:00:00.000000000",
          "2022-01-01T00:00:00.000000000",
          "2022-02-01T00:00:00.000000000",
          "2022-03-01T00:00:00.000000000",
          "2022-04-01T00:00:00.000000000",
          "2022-05-01T00:00:00.000000000",
          "2022-06-01T00:00:00.000000000",
          "2022-07-01T00:00:00.000000000",
          "2022-08-01T00:00:00.000000000",
          "2022-09-01T00:00:00.000000000",
          "2022-10-01T00:00:00.000000000",
          "2022-11-01T00:00:00.000000000",
          "2022-12-01T00:00:00.000000000"
         ],
         "xaxis": "x5",
         "y": {
          "bdata": "RlbRYKnwVkDnrjfWl41WQPwyGjNqIVZAL4j+2u6qVUB8mWr9DG1VQJcQCSo2flRACgkCPGMNVEDsBudInZZUQPRLkUkMP1VAEgqwk1+QVUBUkB9I8kZWQK7bmnrErVZAoey3S0SrVkATQ5IDMDpWQG9KkNV281VAv/UAQ1B1VUAHhbWthyRVQB/FSOaiUVRAouMvG17HU0CYTsI/5ShUQHHUnxRxylRAlncwWw1yVUA2xjnMByVWQIFAowECjFZAoknu8dKYVkD/XecPoPRVQE5O94e/j1VAHyeY190vVUBX5iW2v7dUQIDbz5sPk1NAPoK7lgh8U0D+JtGv/LNTQBl/9H/Bq1RA6pz+//T/VECO1KVOnd5VQC01OaJNUFZAdAE8zwxFVkCS2fX3sdZVQHEHvnQbWFVAVOeQRJ0DVUC0Nnntd01UQOOrBKmpilNAtrDUK8EWU0DHs5n6ZVhTQLB5imAegVRAdohJsG+3VEAPkukrC51VQIMHwvA4EFZAt8NNrDkaVkAbDZior4lVQBMXYjZ5OVVARyXIuZjFVECdEiDclCNUQGdXPoYGF1NAAwhU5GaKUkAXuNNcD/5SQBOZF/WaCVRAG6+QZHlhVED2KGj1IppVQNGhEwo6H1ZAEf398EXnVUAZDXOk9XVVQFz6B1bk9lRANpgyg45eVEDNdDZEjslTQK6JvEqv2FJAka0L4f4cUkBZHa+TreVSQClj+7J2z1NADBPzi/UsVECHLAL3gFpVQEKvmFy00VVA",
          "dtype": "f8"
         },
         "yaxis": "y5"
        },
        {
         "line": {
          "color": "red"
         },
         "mode": "lines",
         "name": "Trend",
         "type": "scatter",
         "x": [
          "2017-01-01T00:00:00.000000000",
          "2017-02-01T00:00:00.000000000",
          "2017-03-01T00:00:00.000000000",
          "2017-04-01T00:00:00.000000000",
          "2017-05-01T00:00:00.000000000",
          "2017-06-01T00:00:00.000000000",
          "2017-07-01T00:00:00.000000000",
          "2017-08-01T00:00:00.000000000",
          "2017-09-01T00:00:00.000000000",
          "2017-10-01T00:00:00.000000000",
          "2017-11-01T00:00:00.000000000",
          "2017-12-01T00:00:00.000000000",
          "2018-01-01T00:00:00.000000000",
          "2018-02-01T00:00:00.000000000",
          "2018-03-01T00:00:00.000000000",
          "2018-04-01T00:00:00.000000000",
          "2018-05-01T00:00:00.000000000",
          "2018-06-01T00:00:00.000000000",
          "2018-07-01T00:00:00.000000000",
          "2018-08-01T00:00:00.000000000",
          "2018-09-01T00:00:00.000000000",
          "2018-10-01T00:00:00.000000000",
          "2018-11-01T00:00:00.000000000",
          "2018-12-01T00:00:00.000000000",
          "2019-01-01T00:00:00.000000000",
          "2019-02-01T00:00:00.000000000",
          "2019-03-01T00:00:00.000000000",
          "2019-04-01T00:00:00.000000000",
          "2019-05-01T00:00:00.000000000",
          "2019-06-01T00:00:00.000000000",
          "2019-07-01T00:00:00.000000000",
          "2019-08-01T00:00:00.000000000",
          "2019-09-01T00:00:00.000000000",
          "2019-10-01T00:00:00.000000000",
          "2019-11-01T00:00:00.000000000",
          "2019-12-01T00:00:00.000000000",
          "2020-01-01T00:00:00.000000000",
          "2020-02-01T00:00:00.000000000",
          "2020-03-01T00:00:00.000000000",
          "2020-04-01T00:00:00.000000000",
          "2020-05-01T00:00:00.000000000",
          "2020-06-01T00:00:00.000000000",
          "2020-07-01T00:00:00.000000000",
          "2020-08-01T00:00:00.000000000",
          "2020-09-01T00:00:00.000000000",
          "2020-10-01T00:00:00.000000000",
          "2020-11-01T00:00:00.000000000",
          "2020-12-01T00:00:00.000000000",
          "2021-01-01T00:00:00.000000000",
          "2021-02-01T00:00:00.000000000",
          "2021-03-01T00:00:00.000000000",
          "2021-04-01T00:00:00.000000000",
          "2021-05-01T00:00:00.000000000",
          "2021-06-01T00:00:00.000000000",
          "2021-07-01T00:00:00.000000000",
          "2021-08-01T00:00:00.000000000",
          "2021-09-01T00:00:00.000000000",
          "2021-10-01T00:00:00.000000000",
          "2021-11-01T00:00:00.000000000",
          "2021-12-01T00:00:00.000000000",
          "2022-01-01T00:00:00.000000000",
          "2022-02-01T00:00:00.000000000",
          "2022-03-01T00:00:00.000000000",
          "2022-04-01T00:00:00.000000000",
          "2022-05-01T00:00:00.000000000",
          "2022-06-01T00:00:00.000000000",
          "2022-07-01T00:00:00.000000000",
          "2022-08-01T00:00:00.000000000",
          "2022-09-01T00:00:00.000000000",
          "2022-10-01T00:00:00.000000000",
          "2022-11-01T00:00:00.000000000",
          "2022-12-01T00:00:00.000000000"
         ],
         "xaxis": "x6",
         "y": {
          "bdata": "AAAAAAAA+H8AAAAAAAD4fwAAAAAAAPh/AAAAAAAA+H8AAAAAAAD4fwAAAAAAAPh/oSDp1ZufVUC81+v2PZlVQDk0Pyrak1VAGY9ZFbSPVUAlyFyWcopVQCbkN5CRhVVAHMqxNsuAVUA01pz/TXlVQDaUBt3fb1VAdt4ho8BpVUCa+vJwE2dVQAzBaZFBZFVAIAn3vRRiVUB0g2cFal5VQBJar2JcV1VAn/H5+k9QVUAS7YTh4khVQA6SxL5pPFVARATQYFUxVUCOHqHKUilVQARExXMsI1VArgwcHyQdVUCAeb4AdBVVQPaO3gwIEFVAegvInA0KVUBKOAHFUAVVQCbFNAPAAVVANWpHfJb9VECQlcrNUPdUQO6WpZCJ8lRANyy+rPftVEAElGdr7uVUQP4uNq1W4FRA6o0/U4rbVECgfyVZydVUQPRao2Vi0FRAJCEfEu7LVEC4oAbY78ZUQNk4dKdzwlRAarESX5e+VEApneYNQ7pUQM2iusuys1RAQFiiPAipVEBoEWqIa59UQDoIXR2tllRAeuBlYB2OVEC1HU5waYpUQBh1wXnqilRA6N1WCGuJVED2qlwgeYZUQMQJgoHgglRAB7jiNc97VEDowPLXw3NUQBhHzplqbVRAFjDboUJmVEA0+6uOr2BUQILyM04/XVRAw4nB96JYVEASDswOzFNUQMiuomfqTVRAAAAAAAAA+H8AAAAAAAD4fwAAAAAAAPh/AAAAAAAA+H8AAAAAAAD4fwAAAAAAAPh/",
          "dtype": "f8"
         },
         "yaxis": "y6"
        },
        {
         "line": {
          "color": "green"
         },
         "mode": "lines",
         "name": "Seasonal",
         "type": "scatter",
         "x": [
          "2017-01-01T00:00:00.000000000",
          "2017-02-01T00:00:00.000000000",
          "2017-03-01T00:00:00.000000000",
          "2017-04-01T00:00:00.000000000",
          "2017-05-01T00:00:00.000000000",
          "2017-06-01T00:00:00.000000000",
          "2017-07-01T00:00:00.000000000",
          "2017-08-01T00:00:00.000000000",
          "2017-09-01T00:00:00.000000000",
          "2017-10-01T00:00:00.000000000",
          "2017-11-01T00:00:00.000000000",
          "2017-12-01T00:00:00.000000000",
          "2018-01-01T00:00:00.000000000",
          "2018-02-01T00:00:00.000000000",
          "2018-03-01T00:00:00.000000000",
          "2018-04-01T00:00:00.000000000",
          "2018-05-01T00:00:00.000000000",
          "2018-06-01T00:00:00.000000000",
          "2018-07-01T00:00:00.000000000",
          "2018-08-01T00:00:00.000000000",
          "2018-09-01T00:00:00.000000000",
          "2018-10-01T00:00:00.000000000",
          "2018-11-01T00:00:00.000000000",
          "2018-12-01T00:00:00.000000000",
          "2019-01-01T00:00:00.000000000",
          "2019-02-01T00:00:00.000000000",
          "2019-03-01T00:00:00.000000000",
          "2019-04-01T00:00:00.000000000",
          "2019-05-01T00:00:00.000000000",
          "2019-06-01T00:00:00.000000000",
          "2019-07-01T00:00:00.000000000",
          "2019-08-01T00:00:00.000000000",
          "2019-09-01T00:00:00.000000000",
          "2019-10-01T00:00:00.000000000",
          "2019-11-01T00:00:00.000000000",
          "2019-12-01T00:00:00.000000000",
          "2020-01-01T00:00:00.000000000",
          "2020-02-01T00:00:00.000000000",
          "2020-03-01T00:00:00.000000000",
          "2020-04-01T00:00:00.000000000",
          "2020-05-01T00:00:00.000000000",
          "2020-06-01T00:00:00.000000000",
          "2020-07-01T00:00:00.000000000",
          "2020-08-01T00:00:00.000000000",
          "2020-09-01T00:00:00.000000000",
          "2020-10-01T00:00:00.000000000",
          "2020-11-01T00:00:00.000000000",
          "2020-12-01T00:00:00.000000000",
          "2021-01-01T00:00:00.000000000",
          "2021-02-01T00:00:00.000000000",
          "2021-03-01T00:00:00.000000000",
          "2021-04-01T00:00:00.000000000",
          "2021-05-01T00:00:00.000000000",
          "2021-06-01T00:00:00.000000000",
          "2021-07-01T00:00:00.000000000",
          "2021-08-01T00:00:00.000000000",
          "2021-09-01T00:00:00.000000000",
          "2021-10-01T00:00:00.000000000",
          "2021-11-01T00:00:00.000000000",
          "2021-12-01T00:00:00.000000000",
          "2022-01-01T00:00:00.000000000",
          "2022-02-01T00:00:00.000000000",
          "2022-03-01T00:00:00.000000000",
          "2022-04-01T00:00:00.000000000",
          "2022-05-01T00:00:00.000000000",
          "2022-06-01T00:00:00.000000000",
          "2022-07-01T00:00:00.000000000",
          "2022-08-01T00:00:00.000000000",
          "2022-09-01T00:00:00.000000000",
          "2022-10-01T00:00:00.000000000",
          "2022-11-01T00:00:00.000000000",
          "2022-12-01T00:00:00.000000000"
         ],
         "xaxis": "x7",
         "y": {
          "bdata": "e6nPSFviFUCp+JUTbZkMQO/5UxzmywBAEyipKQlz2T/VVOCllxv7v7zS41IJoxXAmF0YX7cLG8DYSstUndwUwNWeEoBTJPm/aHYV23Npb7+i6n3NG+oMQCtwoaQC/hVAe6nPSFviFUCp+JUTbZkMQO/5UxzmywBAEyipKQlz2T/VVOCllxv7v7zS41IJoxXAmF0YX7cLG8DYSstUndwUwNWeEoBTJPm/aHYV23Npb7+i6n3NG+oMQCtwoaQC/hVAe6nPSFviFUCp+JUTbZkMQO/5UxzmywBAEyipKQlz2T/VVOCllxv7v7zS41IJoxXAmF0YX7cLG8DYSstUndwUwNWeEoBTJPm/aHYV23Npb7+i6n3NG+oMQCtwoaQC/hVAe6nPSFviFUCp+JUTbZkMQO/5UxzmywBAEyipKQlz2T/VVOCllxv7v7zS41IJoxXAmF0YX7cLG8DYSstUndwUwNWeEoBTJPm/aHYV23Npb7+i6n3NG+oMQCtwoaQC/hVAe6nPSFviFUCp+JUTbZkMQO/5UxzmywBAEyipKQlz2T/VVOCllxv7v7zS41IJoxXAmF0YX7cLG8DYSstUndwUwNWeEoBTJPm/aHYV23Npb7+i6n3NG+oMQCtwoaQC/hVAe6nPSFviFUCp+JUTbZkMQO/5UxzmywBAEyipKQlz2T/VVOCllxv7v7zS41IJoxXAmF0YX7cLG8DYSstUndwUwNWeEoBTJPm/aHYV23Npb7+i6n3NG+oMQCtwoaQC/hVA",
          "dtype": "f8"
         },
         "yaxis": "y7"
        },
        {
         "line": {
          "color": "orange"
         },
         "mode": "lines",
         "name": "Residual",
         "type": "scatter",
         "x": [
          "2017-01-01T00:00:00.000000000",
          "2017-02-01T00:00:00.000000000",
          "2017-03-01T00:00:00.000000000",
          "2017-04-01T00:00:00.000000000",
          "2017-05-01T00:00:00.000000000",
          "2017-06-01T00:00:00.000000000",
          "2017-07-01T00:00:00.000000000",
          "2017-08-01T00:00:00.000000000",
          "2017-09-01T00:00:00.000000000",
          "2017-10-01T00:00:00.000000000",
          "2017-11-01T00:00:00.000000000",
          "2017-12-01T00:00:00.000000000",
          "2018-01-01T00:00:00.000000000",
          "2018-02-01T00:00:00.000000000",
          "2018-03-01T00:00:00.000000000",
          "2018-04-01T00:00:00.000000000",
          "2018-05-01T00:00:00.000000000",
          "2018-06-01T00:00:00.000000000",
          "2018-07-01T00:00:00.000000000",
          "2018-08-01T00:00:00.000000000",
          "2018-09-01T00:00:00.000000000",
          "2018-10-01T00:00:00.000000000",
          "2018-11-01T00:00:00.000000000",
          "2018-12-01T00:00:00.000000000",
          "2019-01-01T00:00:00.000000000",
          "2019-02-01T00:00:00.000000000",
          "2019-03-01T00:00:00.000000000",
          "2019-04-01T00:00:00.000000000",
          "2019-05-01T00:00:00.000000000",
          "2019-06-01T00:00:00.000000000",
          "2019-07-01T00:00:00.000000000",
          "2019-08-01T00:00:00.000000000",
          "2019-09-01T00:00:00.000000000",
          "2019-10-01T00:00:00.000000000",
          "2019-11-01T00:00:00.000000000",
          "2019-12-01T00:00:00.000000000",
          "2020-01-01T00:00:00.000000000",
          "2020-02-01T00:00:00.000000000",
          "2020-03-01T00:00:00.000000000",
          "2020-04-01T00:00:00.000000000",
          "2020-05-01T00:00:00.000000000",
          "2020-06-01T00:00:00.000000000",
          "2020-07-01T00:00:00.000000000",
          "2020-08-01T00:00:00.000000000",
          "2020-09-01T00:00:00.000000000",
          "2020-10-01T00:00:00.000000000",
          "2020-11-01T00:00:00.000000000",
          "2020-12-01T00:00:00.000000000",
          "2021-01-01T00:00:00.000000000",
          "2021-02-01T00:00:00.000000000",
          "2021-03-01T00:00:00.000000000",
          "2021-04-01T00:00:00.000000000",
          "2021-05-01T00:00:00.000000000",
          "2021-06-01T00:00:00.000000000",
          "2021-07-01T00:00:00.000000000",
          "2021-08-01T00:00:00.000000000",
          "2021-09-01T00:00:00.000000000",
          "2021-10-01T00:00:00.000000000",
          "2021-11-01T00:00:00.000000000",
          "2021-12-01T00:00:00.000000000",
          "2022-01-01T00:00:00.000000000",
          "2022-02-01T00:00:00.000000000",
          "2022-03-01T00:00:00.000000000",
          "2022-04-01T00:00:00.000000000",
          "2022-05-01T00:00:00.000000000",
          "2022-06-01T00:00:00.000000000",
          "2022-07-01T00:00:00.000000000",
          "2022-08-01T00:00:00.000000000",
          "2022-09-01T00:00:00.000000000",
          "2022-10-01T00:00:00.000000000",
          "2022-11-01T00:00:00.000000000",
          "2022-12-01T00:00:00.000000000"
         ],
         "xaxis": "x8",
         "y": {
          "bdata": "AAAAAAAA+H8AAAAAAAD4fwAAAAAAAPh/AAAAAAAA+H8AAAAAAAD4fwAAAAAAAPh/gEJuCtyC3j9g9/jRScryP6hsxKTahs8/mn0kxidKjT8Ik5NUlmjlv1i9j/Of1uu/WAlsw0/W6b8kc6FTsvThv8CzTMfCQaa/Jr4jldLGy78q4AWtTfHkP7BPUIN65PE/gFtgKtME1j+A0X+nD0XYP9aSnQcALeS/9hAejxn+4D8gYixu51fGv7CPaGvnR9C/oIyVIrmvwj9IVHBWI37Zv3iFlbAczNm/TNw6tkLlur+oVNz9J3TNPyAlO/DtY+G/wE5+8jdb4T8A9OQa/1Gsv6jcCICVJc0/Zv9G97TqpD8AQFzBQnYxv4AdxrPF4KC/wGqVPEhCvL9wkSvjR/DHP/C4jrXSNM2/2oNgT9A/zT+smMcUDePbv8Aajo/Yd9Q/AFKqY8HFsb/AIRwQBGDgvyqpRYsDnuE/TSTLhW+ju79AvOmjASOyv4BlkhUq0Kq/UN9wHrsL0z/gti9F3uK1P4gJbyLobNw/7aSbOFAI3j9Q7dilKWe2P0CF4FRes9m/4AJUhCuS87/AGB8e90/tv6w1Jmo+tNS/E8FSav4W2r94XLyEH4fvP5Tt0H7Re/Q/qDHpSs1u4T/cDzGVVj3oP4gKaPHWRdM/E7WauH2H07+s8Rf+a8/dv0Du57eHCtu/AAAAAAAA+H8AAAAAAAD4fwAAAAAAAPh/AAAAAAAA+H8AAAAAAAD4fwAAAAAAAPh/",
          "dtype": "f8"
         },
         "yaxis": "y8"
        },
        {
         "line": {
          "color": "blue"
         },
         "mode": "lines",
         "name": "Original",
         "type": "scatter",
         "x": [
          "2017-01-01T00:00:00.000000000",
          "2017-02-01T00:00:00.000000000",
          "2017-03-01T00:00:00.000000000",
          "2017-04-01T00:00:00.000000000",
          "2017-05-01T00:00:00.000000000",
          "2017-06-01T00:00:00.000000000",
          "2017-07-01T00:00:00.000000000",
          "2017-08-01T00:00:00.000000000",
          "2017-09-01T00:00:00.000000000",
          "2017-10-01T00:00:00.000000000",
          "2017-11-01T00:00:00.000000000",
          "2017-12-01T00:00:00.000000000",
          "2018-01-01T00:00:00.000000000",
          "2018-02-01T00:00:00.000000000",
          "2018-03-01T00:00:00.000000000",
          "2018-04-01T00:00:00.000000000",
          "2018-05-01T00:00:00.000000000",
          "2018-06-01T00:00:00.000000000",
          "2018-07-01T00:00:00.000000000",
          "2018-08-01T00:00:00.000000000",
          "2018-09-01T00:00:00.000000000",
          "2018-10-01T00:00:00.000000000",
          "2018-11-01T00:00:00.000000000",
          "2018-12-01T00:00:00.000000000",
          "2019-01-01T00:00:00.000000000",
          "2019-02-01T00:00:00.000000000",
          "2019-03-01T00:00:00.000000000",
          "2019-04-01T00:00:00.000000000",
          "2019-05-01T00:00:00.000000000",
          "2019-06-01T00:00:00.000000000",
          "2019-07-01T00:00:00.000000000",
          "2019-08-01T00:00:00.000000000",
          "2019-09-01T00:00:00.000000000",
          "2019-10-01T00:00:00.000000000",
          "2019-11-01T00:00:00.000000000",
          "2019-12-01T00:00:00.000000000",
          "2020-01-01T00:00:00.000000000",
          "2020-02-01T00:00:00.000000000",
          "2020-03-01T00:00:00.000000000",
          "2020-04-01T00:00:00.000000000",
          "2020-05-01T00:00:00.000000000",
          "2020-06-01T00:00:00.000000000",
          "2020-07-01T00:00:00.000000000",
          "2020-08-01T00:00:00.000000000",
          "2020-09-01T00:00:00.000000000",
          "2020-10-01T00:00:00.000000000",
          "2020-11-01T00:00:00.000000000",
          "2020-12-01T00:00:00.000000000",
          "2021-01-01T00:00:00.000000000",
          "2021-02-01T00:00:00.000000000",
          "2021-03-01T00:00:00.000000000",
          "2021-04-01T00:00:00.000000000",
          "2021-05-01T00:00:00.000000000",
          "2021-06-01T00:00:00.000000000",
          "2021-07-01T00:00:00.000000000",
          "2021-08-01T00:00:00.000000000",
          "2021-09-01T00:00:00.000000000",
          "2021-10-01T00:00:00.000000000",
          "2021-11-01T00:00:00.000000000",
          "2021-12-01T00:00:00.000000000",
          "2022-01-01T00:00:00.000000000",
          "2022-02-01T00:00:00.000000000",
          "2022-03-01T00:00:00.000000000",
          "2022-04-01T00:00:00.000000000",
          "2022-05-01T00:00:00.000000000",
          "2022-06-01T00:00:00.000000000",
          "2022-07-01T00:00:00.000000000",
          "2022-08-01T00:00:00.000000000",
          "2022-09-01T00:00:00.000000000",
          "2022-10-01T00:00:00.000000000",
          "2022-11-01T00:00:00.000000000",
          "2022-12-01T00:00:00.000000000"
         ],
         "xaxis": "x9",
         "y": {
          "bdata": "1i7Y1u3wckDilxlG/x92QFmmqB3/L3lArUnoXZo6fUBda4WFkj6AQMBQS9ilV4NAWSkEqI4KhUBd3AhvGdWDQB97xy5xi4BAP7SpDsoifkCq5PSW1qR3QM2glXA+UXRAKUA8zWJwdECVQg7B0Kl3QLssoN8p23tAzlKZH8f9fkC/3vS4pJWBQAZ1423kN4VASzvdD/P9hkD1uf5+9AaFQPI9/6F8+IFAjdcbhO0ngEBjBU+HJsd4QF6mHtZT/nVAJoT37dT7dUDSsZlDzcZ5QBSxKbpvjn1A+QsEoSWMgECYx5W+iq2CQM4E1zmBrIZAuNmTOP2LiEB+fWXFuLOGQJubwvmJHoNAE2YbBNBlgUC/FvZKhjd7QCN779tzjHdAZ5TvcBqQd0ACwR2yj8p7QP+vCfalZH9AvW1SLAEMgkD3YkYWFS+EQElHCtPQHIhAwoOCjQo2ikAHm3Ql8k+IQCLN3kVSoIRAeCGZHqqPgkDtG14R+SB9QPbx0fBB0XhA4TT9asUweUDTlv8J/N19QKhYUwxr0YBA0Nb32s8Tg0AJ241zJQCFQGXss2SXnIlA7poWqRnii0DEVGbuTtmJQFULVAL/1oVAZsJq6+C+g0ByKUjfACJ/QPejIZsZA3pAIUyDty2aekCmCfbpmjF/QKwub4ZB7YFA+vp4cuZRhEDIWwNeyZuGQEToG95nLYtAJ051SZN/jUBJzlNHr5KLQDd+7QVhAodAmqXhgCKlhEAInxGPrDyAQNeZagkZEXxA",
          "dtype": "f8"
         },
         "yaxis": "y9"
        },
        {
         "line": {
          "color": "red"
         },
         "mode": "lines",
         "name": "Trend",
         "type": "scatter",
         "x": [
          "2017-01-01T00:00:00.000000000",
          "2017-02-01T00:00:00.000000000",
          "2017-03-01T00:00:00.000000000",
          "2017-04-01T00:00:00.000000000",
          "2017-05-01T00:00:00.000000000",
          "2017-06-01T00:00:00.000000000",
          "2017-07-01T00:00:00.000000000",
          "2017-08-01T00:00:00.000000000",
          "2017-09-01T00:00:00.000000000",
          "2017-10-01T00:00:00.000000000",
          "2017-11-01T00:00:00.000000000",
          "2017-12-01T00:00:00.000000000",
          "2018-01-01T00:00:00.000000000",
          "2018-02-01T00:00:00.000000000",
          "2018-03-01T00:00:00.000000000",
          "2018-04-01T00:00:00.000000000",
          "2018-05-01T00:00:00.000000000",
          "2018-06-01T00:00:00.000000000",
          "2018-07-01T00:00:00.000000000",
          "2018-08-01T00:00:00.000000000",
          "2018-09-01T00:00:00.000000000",
          "2018-10-01T00:00:00.000000000",
          "2018-11-01T00:00:00.000000000",
          "2018-12-01T00:00:00.000000000",
          "2019-01-01T00:00:00.000000000",
          "2019-02-01T00:00:00.000000000",
          "2019-03-01T00:00:00.000000000",
          "2019-04-01T00:00:00.000000000",
          "2019-05-01T00:00:00.000000000",
          "2019-06-01T00:00:00.000000000",
          "2019-07-01T00:00:00.000000000",
          "2019-08-01T00:00:00.000000000",
          "2019-09-01T00:00:00.000000000",
          "2019-10-01T00:00:00.000000000",
          "2019-11-01T00:00:00.000000000",
          "2019-12-01T00:00:00.000000000",
          "2020-01-01T00:00:00.000000000",
          "2020-02-01T00:00:00.000000000",
          "2020-03-01T00:00:00.000000000",
          "2020-04-01T00:00:00.000000000",
          "2020-05-01T00:00:00.000000000",
          "2020-06-01T00:00:00.000000000",
          "2020-07-01T00:00:00.000000000",
          "2020-08-01T00:00:00.000000000",
          "2020-09-01T00:00:00.000000000",
          "2020-10-01T00:00:00.000000000",
          "2020-11-01T00:00:00.000000000",
          "2020-12-01T00:00:00.000000000",
          "2021-01-01T00:00:00.000000000",
          "2021-02-01T00:00:00.000000000",
          "2021-03-01T00:00:00.000000000",
          "2021-04-01T00:00:00.000000000",
          "2021-05-01T00:00:00.000000000",
          "2021-06-01T00:00:00.000000000",
          "2021-07-01T00:00:00.000000000",
          "2021-08-01T00:00:00.000000000",
          "2021-09-01T00:00:00.000000000",
          "2021-10-01T00:00:00.000000000",
          "2021-11-01T00:00:00.000000000",
          "2021-12-01T00:00:00.000000000",
          "2022-01-01T00:00:00.000000000",
          "2022-02-01T00:00:00.000000000",
          "2022-03-01T00:00:00.000000000",
          "2022-04-01T00:00:00.000000000",
          "2022-05-01T00:00:00.000000000",
          "2022-06-01T00:00:00.000000000",
          "2022-07-01T00:00:00.000000000",
          "2022-08-01T00:00:00.000000000",
          "2022-09-01T00:00:00.000000000",
          "2022-10-01T00:00:00.000000000",
          "2022-11-01T00:00:00.000000000",
          "2022-12-01T00:00:00.000000000"
         ],
         "xaxis": "x10",
         "y": {
          "bdata": "AAAAAAAA+H8AAAAAAAD4fwAAAAAAAPh/AAAAAAAA+H8AAAAAAAD4fwAAAAAAAPh/lUnEnuWxfUAV/CeOSNJ9QMwoB2Yo/31AHISDC2wufkAaLjRtz11+QBTQ9H1ron5A7eloaA70fkCOKLoHKTd/QJagqJIRb39ARtv9O7Okf0AYh2fwAch/QFxTpn775X9ANuvJPCsEgEBHZNuKrReAQFopIUIELIBA4qq7zE1AgEBcA1p4L1eAQLjdapZfcoBApZ+c4HuSgEAO2T0l77SAQHGafzYN04BAnrkniozsgEDqLztOzQaBQGCvbaIaHIFAJjRHFdIsgUB4H0/q/D+BQMTf222HVIFA0CPptFFugUBcbl6eYI6BQJyXErPJrYFAzFap5+LOgUAcP4mE0PGBQGhiYJYQE4JAnCH8r4wvgkAyNI4qKEaCQBxsytkeV4JAmGxvX5FmgkBkFM/bUXqCQN+4sXNakYJA8jexu06ogkBUwYWxAryCQDbNz1C21IJAuV+y4on2gkDCneK2wxiDQBfoxnEZNoNAYzF/l61Pg0BgeKcJAGeDQF6sKFwPeINA5HWiBvaFg0DFuI/XkJSDQL6uUMF3p4NAKzm3TIzAg0AKgCES9N6DQDxl9UDOAIRAMlcIArwihEC6g2tsWkaEQOgi8do3ZYRAfyanVkl7hEBkAIaTCIyEQPEVzBElnoRAAAAAAAAA+H8AAAAAAAD4fwAAAAAAAPh/AAAAAAAA+H8AAAAAAAD4fwAAAAAAAPh/",
          "dtype": "f8"
         },
         "yaxis": "y10"
        },
        {
         "line": {
          "color": "green"
         },
         "mode": "lines",
         "name": "Seasonal",
         "type": "scatter",
         "x": [
          "2017-01-01T00:00:00.000000000",
          "2017-02-01T00:00:00.000000000",
          "2017-03-01T00:00:00.000000000",
          "2017-04-01T00:00:00.000000000",
          "2017-05-01T00:00:00.000000000",
          "2017-06-01T00:00:00.000000000",
          "2017-07-01T00:00:00.000000000",
          "2017-08-01T00:00:00.000000000",
          "2017-09-01T00:00:00.000000000",
          "2017-10-01T00:00:00.000000000",
          "2017-11-01T00:00:00.000000000",
          "2017-12-01T00:00:00.000000000",
          "2018-01-01T00:00:00.000000000",
          "2018-02-01T00:00:00.000000000",
          "2018-03-01T00:00:00.000000000",
          "2018-04-01T00:00:00.000000000",
          "2018-05-01T00:00:00.000000000",
          "2018-06-01T00:00:00.000000000",
          "2018-07-01T00:00:00.000000000",
          "2018-08-01T00:00:00.000000000",
          "2018-09-01T00:00:00.000000000",
          "2018-10-01T00:00:00.000000000",
          "2018-11-01T00:00:00.000000000",
          "2018-12-01T00:00:00.000000000",
          "2019-01-01T00:00:00.000000000",
          "2019-02-01T00:00:00.000000000",
          "2019-03-01T00:00:00.000000000",
          "2019-04-01T00:00:00.000000000",
          "2019-05-01T00:00:00.000000000",
          "2019-06-01T00:00:00.000000000",
          "2019-07-01T00:00:00.000000000",
          "2019-08-01T00:00:00.000000000",
          "2019-09-01T00:00:00.000000000",
          "2019-10-01T00:00:00.000000000",
          "2019-11-01T00:00:00.000000000",
          "2019-12-01T00:00:00.000000000",
          "2020-01-01T00:00:00.000000000",
          "2020-02-01T00:00:00.000000000",
          "2020-03-01T00:00:00.000000000",
          "2020-04-01T00:00:00.000000000",
          "2020-05-01T00:00:00.000000000",
          "2020-06-01T00:00:00.000000000",
          "2020-07-01T00:00:00.000000000",
          "2020-08-01T00:00:00.000000000",
          "2020-09-01T00:00:00.000000000",
          "2020-10-01T00:00:00.000000000",
          "2020-11-01T00:00:00.000000000",
          "2020-12-01T00:00:00.000000000",
          "2021-01-01T00:00:00.000000000",
          "2021-02-01T00:00:00.000000000",
          "2021-03-01T00:00:00.000000000",
          "2021-04-01T00:00:00.000000000",
          "2021-05-01T00:00:00.000000000",
          "2021-06-01T00:00:00.000000000",
          "2021-07-01T00:00:00.000000000",
          "2021-08-01T00:00:00.000000000",
          "2021-09-01T00:00:00.000000000",
          "2021-10-01T00:00:00.000000000",
          "2021-11-01T00:00:00.000000000",
          "2021-12-01T00:00:00.000000000",
          "2022-01-01T00:00:00.000000000",
          "2022-02-01T00:00:00.000000000",
          "2022-03-01T00:00:00.000000000",
          "2022-04-01T00:00:00.000000000",
          "2022-05-01T00:00:00.000000000",
          "2022-06-01T00:00:00.000000000",
          "2022-07-01T00:00:00.000000000",
          "2022-08-01T00:00:00.000000000",
          "2022-09-01T00:00:00.000000000",
          "2022-10-01T00:00:00.000000000",
          "2022-11-01T00:00:00.000000000",
          "2022-12-01T00:00:00.000000000"
         ],
         "xaxis": "x11",
         "y": {
          "bdata": "S3Guo4f7Z8BQLwmlJlFgwLNp8fcSlFHA/v+Z11dnHcDx5Gguc89MQIResZpUhGdAnH7bo6JwbUABSvYD+P9lQLoy1EwVS05AXimMlYP08L/wMWckTW9fwEiWhkQP4GfAS3Guo4f7Z8BQLwmlJlFgwLNp8fcSlFHA/v+Z11dnHcDx5Gguc89MQIResZpUhGdAnH7bo6JwbUABSvYD+P9lQLoy1EwVS05AXimMlYP08L/wMWckTW9fwEiWhkQP4GfAS3Guo4f7Z8BQLwmlJlFgwLNp8fcSlFHA/v+Z11dnHcDx5Gguc89MQIResZpUhGdAnH7bo6JwbUABSvYD+P9lQLoy1EwVS05AXimMlYP08L/wMWckTW9fwEiWhkQP4GfAS3Guo4f7Z8BQLwmlJlFgwLNp8fcSlFHA/v+Z11dnHcDx5Gguc89MQIResZpUhGdAnH7bo6JwbUABSvYD+P9lQLoy1EwVS05AXimMlYP08L/wMWckTW9fwEiWhkQP4GfAS3Guo4f7Z8BQLwmlJlFgwLNp8fcSlFHA/v+Z11dnHcDx5Gguc89MQIResZpUhGdAnH7bo6JwbUABSvYD+P9lQLoy1EwVS05AXimMlYP08L/wMWckTW9fwEiWhkQP4GfAS3Guo4f7Z8BQLwmlJlFgwLNp8fcSlFHA/v+Z11dnHcDx5Gguc89MQIResZpUhGdAnH7bo6JwbUABSvYD+P9lQLoy1EwVS05AXimMlYP08L/wMWckTW9fwEiWhkQP4GfA",
          "dtype": "f8"
         },
         "yaxis": "y11"
        },
        {
         "line": {
          "color": "orange"
         },
         "mode": "lines",
         "name": "Residual",
         "type": "scatter",
         "x": [
          "2017-01-01T00:00:00.000000000",
          "2017-02-01T00:00:00.000000000",
          "2017-03-01T00:00:00.000000000",
          "2017-04-01T00:00:00.000000000",
          "2017-05-01T00:00:00.000000000",
          "2017-06-01T00:00:00.000000000",
          "2017-07-01T00:00:00.000000000",
          "2017-08-01T00:00:00.000000000",
          "2017-09-01T00:00:00.000000000",
          "2017-10-01T00:00:00.000000000",
          "2017-11-01T00:00:00.000000000",
          "2017-12-01T00:00:00.000000000",
          "2018-01-01T00:00:00.000000000",
          "2018-02-01T00:00:00.000000000",
          "2018-03-01T00:00:00.000000000",
          "2018-04-01T00:00:00.000000000",
          "2018-05-01T00:00:00.000000000",
          "2018-06-01T00:00:00.000000000",
          "2018-07-01T00:00:00.000000000",
          "2018-08-01T00:00:00.000000000",
          "2018-09-01T00:00:00.000000000",
          "2018-10-01T00:00:00.000000000",
          "2018-11-01T00:00:00.000000000",
          "2018-12-01T00:00:00.000000000",
          "2019-01-01T00:00:00.000000000",
          "2019-02-01T00:00:00.000000000",
          "2019-03-01T00:00:00.000000000",
          "2019-04-01T00:00:00.000000000",
          "2019-05-01T00:00:00.000000000",
          "2019-06-01T00:00:00.000000000",
          "2019-07-01T00:00:00.000000000",
          "2019-08-01T00:00:00.000000000",
          "2019-09-01T00:00:00.000000000",
          "2019-10-01T00:00:00.000000000",
          "2019-11-01T00:00:00.000000000",
          "2019-12-01T00:00:00.000000000",
          "2020-01-01T00:00:00.000000000",
          "2020-02-01T00:00:00.000000000",
          "2020-03-01T00:00:00.000000000",
          "2020-04-01T00:00:00.000000000",
          "2020-05-01T00:00:00.000000000",
          "2020-06-01T00:00:00.000000000",
          "2020-07-01T00:00:00.000000000",
          "2020-08-01T00:00:00.000000000",
          "2020-09-01T00:00:00.000000000",
          "2020-10-01T00:00:00.000000000",
          "2020-11-01T00:00:00.000000000",
          "2020-12-01T00:00:00.000000000",
          "2021-01-01T00:00:00.000000000",
          "2021-02-01T00:00:00.000000000",
          "2021-03-01T00:00:00.000000000",
          "2021-04-01T00:00:00.000000000",
          "2021-05-01T00:00:00.000000000",
          "2021-06-01T00:00:00.000000000",
          "2021-07-01T00:00:00.000000000",
          "2021-08-01T00:00:00.000000000",
          "2021-09-01T00:00:00.000000000",
          "2021-10-01T00:00:00.000000000",
          "2021-11-01T00:00:00.000000000",
          "2021-12-01T00:00:00.000000000",
          "2022-01-01T00:00:00.000000000",
          "2022-02-01T00:00:00.000000000",
          "2022-03-01T00:00:00.000000000",
          "2022-04-01T00:00:00.000000000",
          "2022-05-01T00:00:00.000000000",
          "2022-06-01T00:00:00.000000000",
          "2022-07-01T00:00:00.000000000",
          "2022-08-01T00:00:00.000000000",
          "2022-09-01T00:00:00.000000000",
          "2022-10-01T00:00:00.000000000",
          "2022-11-01T00:00:00.000000000",
          "2022-12-01T00:00:00.000000000"
         ],
         "xaxis": "x12",
         "y": {
          "bdata": "AAAAAAAA+H8AAAAAAAD4fwAAAAAAAPh/AAAAAAAA+H8AAAAAAAD4fwAAAAAAAPh/iLFNBc2oQsC4hRYhG4EywKgcV0IWNSbAeDHx7hpK1T/AMKgtpy0yQNC9QU6p7TlAGO6oaoOhN0DgNRZ7YWcjQDjSfF6hIypABDwQg16nCMAQHHMlclMLwCCJgQPPhTPAgOTjeDWYKMBImkeb4RYywKCTLu/0OAjAooAaqg3M/78AsmmWQMrmvyBhw7jEmTBAMLCv0h+UKkDA61J0SbAgQLCntcmCVhNAgtI8uhzMEsCIUPtF4RwTwMCMwNCjKyTAAFgvrtIT2D+A9GjOS4T4v6BUh+bIrgrAAESh3gu8bb8A+vJZUc/iv4CHywYMdABAABfBFxnP778A5LQf9wPvPxCZri6eHRfA/CCABSxDB0DwdaDRuPULQAB0fGwtYwvAwOANRyHULECwCP0pkmglQLCL6K8+IxVAUWVQTVsqAMDAj+YkQs4ewECqS9FhBC3AcD0KElHRJ8CAhIagCHwFwFAcsToDFhnAQDBpgs3wwL8I0xWA5OgZwIAZune43CBAYKyoL1//P0DYLyG7Apg4QNhahg17tSJAvD49+YE76z/ARCF8fwIowOjaLiTac0DA2Jliq2fYOsBgYsbFaSgzwGjB8WD9XCHA/HoIgctrAUA8RbPlZbIgQEBWb7S0xTVAAAAAAAAA+H8AAAAAAAD4fwAAAAAAAPh/AAAAAAAA+H8AAAAAAAD4fwAAAAAAAPh/",
          "dtype": "f8"
         },
         "yaxis": "y12"
        }
       ],
       "layout": {
        "annotations": [
         {
          "font": {
           "size": 16
          },
          "showarrow": false,
          "text": "Bookings - Original",
          "x": 0.10625,
          "xanchor": "center",
          "xref": "paper",
          "y": 1,
          "yanchor": "bottom",
          "yref": "paper"
         },
         {
          "font": {
           "size": 16
          },
          "showarrow": false,
          "text": "Bookings - Trend",
          "x": 0.36875,
          "xanchor": "center",
          "xref": "paper",
          "y": 1,
          "yanchor": "bottom",
          "yref": "paper"
         },
         {
          "font": {
           "size": 16
          },
          "showarrow": false,
          "text": "Bookings - Seasonal",
          "x": 0.6312500000000001,
          "xanchor": "center",
          "xref": "paper",
          "y": 1,
          "yanchor": "bottom",
          "yref": "paper"
         },
         {
          "font": {
           "size": 16
          },
          "showarrow": false,
          "text": "Bookings - Residual",
          "x": 0.89375,
          "xanchor": "center",
          "xref": "paper",
          "y": 1,
          "yanchor": "bottom",
          "yref": "paper"
         },
         {
          "font": {
           "size": 16
          },
          "showarrow": false,
          "text": "Occupancy - Original",
          "x": 0.10625,
          "xanchor": "center",
          "xref": "paper",
          "y": 0.6111111111111112,
          "yanchor": "bottom",
          "yref": "paper"
         },
         {
          "font": {
           "size": 16
          },
          "showarrow": false,
          "text": "Occupancy - Trend",
          "x": 0.36875,
          "xanchor": "center",
          "xref": "paper",
          "y": 0.6111111111111112,
          "yanchor": "bottom",
          "yref": "paper"
         },
         {
          "font": {
           "size": 16
          },
          "showarrow": false,
          "text": "Occupancy - Seasonal",
          "x": 0.6312500000000001,
          "xanchor": "center",
          "xref": "paper",
          "y": 0.6111111111111112,
          "yanchor": "bottom",
          "yref": "paper"
         },
         {
          "font": {
           "size": 16
          },
          "showarrow": false,
          "text": "Occupancy - Residual",
          "x": 0.89375,
          "xanchor": "center",
          "xref": "paper",
          "y": 0.6111111111111112,
          "yanchor": "bottom",
          "yref": "paper"
         },
         {
          "font": {
           "size": 16
          },
          "showarrow": false,
          "text": "Price - Original",
          "x": 0.10625,
          "xanchor": "center",
          "xref": "paper",
          "y": 0.22222222222222224,
          "yanchor": "bottom",
          "yref": "paper"
         },
         {
          "font": {
           "size": 16
          },
          "showarrow": false,
          "text": "Price - Trend",
          "x": 0.36875,
          "xanchor": "center",
          "xref": "paper",
          "y": 0.22222222222222224,
          "yanchor": "bottom",
          "yref": "paper"
         },
         {
          "font": {
           "size": 16
          },
          "showarrow": false,
          "text": "Price - Seasonal",
          "x": 0.6312500000000001,
          "xanchor": "center",
          "xref": "paper",
          "y": 0.22222222222222224,
          "yanchor": "bottom",
          "yref": "paper"
         },
         {
          "font": {
           "size": 16
          },
          "showarrow": false,
          "text": "Price - Residual",
          "x": 0.89375,
          "xanchor": "center",
          "xref": "paper",
          "y": 0.22222222222222224,
          "yanchor": "bottom",
          "yref": "paper"
         }
        ],
        "height": 900,
        "showlegend": false,
        "template": {
         "data": {
          "bar": [
           {
            "error_x": {
             "color": "#2a3f5f"
            },
            "error_y": {
             "color": "#2a3f5f"
            },
            "marker": {
             "line": {
              "color": "white",
              "width": 0.5
             },
             "pattern": {
              "fillmode": "overlay",
              "size": 10,
              "solidity": 0.2
             }
            },
            "type": "bar"
           }
          ],
          "barpolar": [
           {
            "marker": {
             "line": {
              "color": "white",
              "width": 0.5
             },
             "pattern": {
              "fillmode": "overlay",
              "size": 10,
              "solidity": 0.2
             }
            },
            "type": "barpolar"
           }
          ],
          "carpet": [
           {
            "aaxis": {
             "endlinecolor": "#2a3f5f",
             "gridcolor": "#C8D4E3",
             "linecolor": "#C8D4E3",
             "minorgridcolor": "#C8D4E3",
             "startlinecolor": "#2a3f5f"
            },
            "baxis": {
             "endlinecolor": "#2a3f5f",
             "gridcolor": "#C8D4E3",
             "linecolor": "#C8D4E3",
             "minorgridcolor": "#C8D4E3",
             "startlinecolor": "#2a3f5f"
            },
            "type": "carpet"
           }
          ],
          "choropleth": [
           {
            "colorbar": {
             "outlinewidth": 0,
             "ticks": ""
            },
            "type": "choropleth"
           }
          ],
          "contour": [
           {
            "colorbar": {
             "outlinewidth": 0,
             "ticks": ""
            },
            "colorscale": [
             [
              0,
              "#0d0887"
             ],
             [
              0.1111111111111111,
              "#46039f"
             ],
             [
              0.2222222222222222,
              "#7201a8"
             ],
             [
              0.3333333333333333,
              "#9c179e"
             ],
             [
              0.4444444444444444,
              "#bd3786"
             ],
             [
              0.5555555555555556,
              "#d8576b"
             ],
             [
              0.6666666666666666,
              "#ed7953"
             ],
             [
              0.7777777777777778,
              "#fb9f3a"
             ],
             [
              0.8888888888888888,
              "#fdca26"
             ],
             [
              1,
              "#f0f921"
             ]
            ],
            "type": "contour"
           }
          ],
          "contourcarpet": [
           {
            "colorbar": {
             "outlinewidth": 0,
             "ticks": ""
            },
            "type": "contourcarpet"
           }
          ],
          "heatmap": [
           {
            "colorbar": {
             "outlinewidth": 0,
             "ticks": ""
            },
            "colorscale": [
             [
              0,
              "#0d0887"
             ],
             [
              0.1111111111111111,
              "#46039f"
             ],
             [
              0.2222222222222222,
              "#7201a8"
             ],
             [
              0.3333333333333333,
              "#9c179e"
             ],
             [
              0.4444444444444444,
              "#bd3786"
             ],
             [
              0.5555555555555556,
              "#d8576b"
             ],
             [
              0.6666666666666666,
              "#ed7953"
             ],
             [
              0.7777777777777778,
              "#fb9f3a"
             ],
             [
              0.8888888888888888,
              "#fdca26"
             ],
             [
              1,
              "#f0f921"
             ]
            ],
            "type": "heatmap"
           }
          ],
          "histogram": [
           {
            "marker": {
             "pattern": {
              "fillmode": "overlay",
              "size": 10,
              "solidity": 0.2
             }
            },
            "type": "histogram"
           }
          ],
          "histogram2d": [
           {
            "colorbar": {
             "outlinewidth": 0,
             "ticks": ""
            },
            "colorscale": [
             [
              0,
              "#0d0887"
             ],
             [
              0.1111111111111111,
              "#46039f"
             ],
             [
              0.2222222222222222,
              "#7201a8"
             ],
             [
              0.3333333333333333,
              "#9c179e"
             ],
             [
              0.4444444444444444,
              "#bd3786"
             ],
             [
              0.5555555555555556,
              "#d8576b"
             ],
             [
              0.6666666666666666,
              "#ed7953"
             ],
             [
              0.7777777777777778,
              "#fb9f3a"
             ],
             [
              0.8888888888888888,
              "#fdca26"
             ],
             [
              1,
              "#f0f921"
             ]
            ],
            "type": "histogram2d"
           }
          ],
          "histogram2dcontour": [
           {
            "colorbar": {
             "outlinewidth": 0,
             "ticks": ""
            },
            "colorscale": [
             [
              0,
              "#0d0887"
             ],
             [
              0.1111111111111111,
              "#46039f"
             ],
             [
              0.2222222222222222,
              "#7201a8"
             ],
             [
              0.3333333333333333,
              "#9c179e"
             ],
             [
              0.4444444444444444,
              "#bd3786"
             ],
             [
              0.5555555555555556,
              "#d8576b"
             ],
             [
              0.6666666666666666,
              "#ed7953"
             ],
             [
              0.7777777777777778,
              "#fb9f3a"
             ],
             [
              0.8888888888888888,
              "#fdca26"
             ],
             [
              1,
              "#f0f921"
             ]
            ],
            "type": "histogram2dcontour"
           }
          ],
          "mesh3d": [
           {
            "colorbar": {
             "outlinewidth": 0,
             "ticks": ""
            },
            "type": "mesh3d"
           }
          ],
          "parcoords": [
           {
            "line": {
             "colorbar": {
              "outlinewidth": 0,
              "ticks": ""
             }
            },
            "type": "parcoords"
           }
          ],
          "pie": [
           {
            "automargin": true,
            "type": "pie"
           }
          ],
          "scatter": [
           {
            "fillpattern": {
             "fillmode": "overlay",
             "size": 10,
             "solidity": 0.2
            },
            "type": "scatter"
           }
          ],
          "scatter3d": [
           {
            "line": {
             "colorbar": {
              "outlinewidth": 0,
              "ticks": ""
             }
            },
            "marker": {
             "colorbar": {
              "outlinewidth": 0,
              "ticks": ""
             }
            },
            "type": "scatter3d"
           }
          ],
          "scattercarpet": [
           {
            "marker": {
             "colorbar": {
              "outlinewidth": 0,
              "ticks": ""
             }
            },
            "type": "scattercarpet"
           }
          ],
          "scattergeo": [
           {
            "marker": {
             "colorbar": {
              "outlinewidth": 0,
              "ticks": ""
             }
            },
            "type": "scattergeo"
           }
          ],
          "scattergl": [
           {
            "marker": {
             "colorbar": {
              "outlinewidth": 0,
              "ticks": ""
             }
            },
            "type": "scattergl"
           }
          ],
          "scattermap": [
           {
            "marker": {
             "colorbar": {
              "outlinewidth": 0,
              "ticks": ""
             }
            },
            "type": "scattermap"
           }
          ],
          "scattermapbox": [
           {
            "marker": {
             "colorbar": {
              "outlinewidth": 0,
              "ticks": ""
             }
            },
            "type": "scattermapbox"
           }
          ],
          "scatterpolar": [
           {
            "marker": {
             "colorbar": {
              "outlinewidth": 0,
              "ticks": ""
             }
            },
            "type": "scatterpolar"
           }
          ],
          "scatterpolargl": [
           {
            "marker": {
             "colorbar": {
              "outlinewidth": 0,
              "ticks": ""
             }
            },
            "type": "scatterpolargl"
           }
          ],
          "scatterternary": [
           {
            "marker": {
             "colorbar": {
              "outlinewidth": 0,
              "ticks": ""
             }
            },
            "type": "scatterternary"
           }
          ],
          "surface": [
           {
            "colorbar": {
             "outlinewidth": 0,
             "ticks": ""
            },
            "colorscale": [
             [
              0,
              "#0d0887"
             ],
             [
              0.1111111111111111,
              "#46039f"
             ],
             [
              0.2222222222222222,
              "#7201a8"
             ],
             [
              0.3333333333333333,
              "#9c179e"
             ],
             [
              0.4444444444444444,
              "#bd3786"
             ],
             [
              0.5555555555555556,
              "#d8576b"
             ],
             [
              0.6666666666666666,
              "#ed7953"
             ],
             [
              0.7777777777777778,
              "#fb9f3a"
             ],
             [
              0.8888888888888888,
              "#fdca26"
             ],
             [
              1,
              "#f0f921"
             ]
            ],
            "type": "surface"
           }
          ],
          "table": [
           {
            "cells": {
             "fill": {
              "color": "#EBF0F8"
             },
             "line": {
              "color": "white"
             }
            },
            "header": {
             "fill": {
              "color": "#C8D4E3"
             },
             "line": {
              "color": "white"
             }
            },
            "type": "table"
           }
          ]
         },
         "layout": {
          "annotationdefaults": {
           "arrowcolor": "#2a3f5f",
           "arrowhead": 0,
           "arrowwidth": 1
          },
          "autotypenumbers": "strict",
          "coloraxis": {
           "colorbar": {
            "outlinewidth": 0,
            "ticks": ""
           }
          },
          "colorscale": {
           "diverging": [
            [
             0,
             "#8e0152"
            ],
            [
             0.1,
             "#c51b7d"
            ],
            [
             0.2,
             "#de77ae"
            ],
            [
             0.3,
             "#f1b6da"
            ],
            [
             0.4,
             "#fde0ef"
            ],
            [
             0.5,
             "#f7f7f7"
            ],
            [
             0.6,
             "#e6f5d0"
            ],
            [
             0.7,
             "#b8e186"
            ],
            [
             0.8,
             "#7fbc41"
            ],
            [
             0.9,
             "#4d9221"
            ],
            [
             1,
             "#276419"
            ]
           ],
           "sequential": [
            [
             0,
             "#0d0887"
            ],
            [
             0.1111111111111111,
             "#46039f"
            ],
            [
             0.2222222222222222,
             "#7201a8"
            ],
            [
             0.3333333333333333,
             "#9c179e"
            ],
            [
             0.4444444444444444,
             "#bd3786"
            ],
            [
             0.5555555555555556,
             "#d8576b"
            ],
            [
             0.6666666666666666,
             "#ed7953"
            ],
            [
             0.7777777777777778,
             "#fb9f3a"
            ],
            [
             0.8888888888888888,
             "#fdca26"
            ],
            [
             1,
             "#f0f921"
            ]
           ],
           "sequentialminus": [
            [
             0,
             "#0d0887"
            ],
            [
             0.1111111111111111,
             "#46039f"
            ],
            [
             0.2222222222222222,
             "#7201a8"
            ],
            [
             0.3333333333333333,
             "#9c179e"
            ],
            [
             0.4444444444444444,
             "#bd3786"
            ],
            [
             0.5555555555555556,
             "#d8576b"
            ],
            [
             0.6666666666666666,
             "#ed7953"
            ],
            [
             0.7777777777777778,
             "#fb9f3a"
            ],
            [
             0.8888888888888888,
             "#fdca26"
            ],
            [
             1,
             "#f0f921"
            ]
           ]
          },
          "colorway": [
           "#636efa",
           "#EF553B",
           "#00cc96",
           "#ab63fa",
           "#FFA15A",
           "#19d3f3",
           "#FF6692",
           "#B6E880",
           "#FF97FF",
           "#FECB52"
          ],
          "font": {
           "color": "#2a3f5f"
          },
          "geo": {
           "bgcolor": "white",
           "lakecolor": "white",
           "landcolor": "white",
           "showlakes": true,
           "showland": true,
           "subunitcolor": "#C8D4E3"
          },
          "hoverlabel": {
           "align": "left"
          },
          "hovermode": "closest",
          "mapbox": {
           "style": "light"
          },
          "paper_bgcolor": "white",
          "plot_bgcolor": "white",
          "polar": {
           "angularaxis": {
            "gridcolor": "#EBF0F8",
            "linecolor": "#EBF0F8",
            "ticks": ""
           },
           "bgcolor": "white",
           "radialaxis": {
            "gridcolor": "#EBF0F8",
            "linecolor": "#EBF0F8",
            "ticks": ""
           }
          },
          "scene": {
           "xaxis": {
            "backgroundcolor": "white",
            "gridcolor": "#DFE8F3",
            "gridwidth": 2,
            "linecolor": "#EBF0F8",
            "showbackground": true,
            "ticks": "",
            "zerolinecolor": "#EBF0F8"
           },
           "yaxis": {
            "backgroundcolor": "white",
            "gridcolor": "#DFE8F3",
            "gridwidth": 2,
            "linecolor": "#EBF0F8",
            "showbackground": true,
            "ticks": "",
            "zerolinecolor": "#EBF0F8"
           },
           "zaxis": {
            "backgroundcolor": "white",
            "gridcolor": "#DFE8F3",
            "gridwidth": 2,
            "linecolor": "#EBF0F8",
            "showbackground": true,
            "ticks": "",
            "zerolinecolor": "#EBF0F8"
           }
          },
          "shapedefaults": {
           "line": {
            "color": "#2a3f5f"
           }
          },
          "ternary": {
           "aaxis": {
            "gridcolor": "#DFE8F3",
            "linecolor": "#A2B1C6",
            "ticks": ""
           },
           "baxis": {
            "gridcolor": "#DFE8F3",
            "linecolor": "#A2B1C6",
            "ticks": ""
           },
           "bgcolor": "white",
           "caxis": {
            "gridcolor": "#DFE8F3",
            "linecolor": "#A2B1C6",
            "ticks": ""
           }
          },
          "title": {
           "x": 0.05
          },
          "xaxis": {
           "automargin": true,
           "gridcolor": "#EBF0F8",
           "linecolor": "#EBF0F8",
           "ticks": "",
           "title": {
            "standoff": 15
           },
           "zerolinecolor": "#EBF0F8",
           "zerolinewidth": 2
          },
          "yaxis": {
           "automargin": true,
           "gridcolor": "#EBF0F8",
           "linecolor": "#EBF0F8",
           "ticks": "",
           "title": {
            "standoff": 15
           },
           "zerolinecolor": "#EBF0F8",
           "zerolinewidth": 2
          }
         }
        },
        "title": {
         "text": "Time Series Decomposition Analysis"
        },
        "xaxis": {
         "anchor": "y",
         "domain": [
          0,
          0.2125
         ]
        },
        "xaxis10": {
         "anchor": "y10",
         "domain": [
          0.2625,
          0.475
         ]
        },
        "xaxis11": {
         "anchor": "y11",
         "domain": [
          0.525,
          0.7375
         ]
        },
        "xaxis12": {
         "anchor": "y12",
         "domain": [
          0.7875,
          1
         ]
        },
        "xaxis2": {
         "anchor": "y2",
         "domain": [
          0.2625,
          0.475
         ]
        },
        "xaxis3": {
         "anchor": "y3",
         "domain": [
          0.525,
          0.7375
         ]
        },
        "xaxis4": {
         "anchor": "y4",
         "domain": [
          0.7875,
          1
         ]
        },
        "xaxis5": {
         "anchor": "y5",
         "domain": [
          0,
          0.2125
         ]
        },
        "xaxis6": {
         "anchor": "y6",
         "domain": [
          0.2625,
          0.475
         ]
        },
        "xaxis7": {
         "anchor": "y7",
         "domain": [
          0.525,
          0.7375
         ]
        },
        "xaxis8": {
         "anchor": "y8",
         "domain": [
          0.7875,
          1
         ]
        },
        "xaxis9": {
         "anchor": "y9",
         "domain": [
          0,
          0.2125
         ]
        },
        "yaxis": {
         "anchor": "x",
         "domain": [
          0.7777777777777778,
          1
         ]
        },
        "yaxis10": {
         "anchor": "x10",
         "domain": [
          0,
          0.22222222222222224
         ]
        },
        "yaxis11": {
         "anchor": "x11",
         "domain": [
          0,
          0.22222222222222224
         ]
        },
        "yaxis12": {
         "anchor": "x12",
         "domain": [
          0,
          0.22222222222222224
         ]
        },
        "yaxis2": {
         "anchor": "x2",
         "domain": [
          0.7777777777777778,
          1
         ]
        },
        "yaxis3": {
         "anchor": "x3",
         "domain": [
          0.7777777777777778,
          1
         ]
        },
        "yaxis4": {
         "anchor": "x4",
         "domain": [
          0.7777777777777778,
          1
         ]
        },
        "yaxis5": {
         "anchor": "x5",
         "domain": [
          0.3888888888888889,
          0.6111111111111112
         ]
        },
        "yaxis6": {
         "anchor": "x6",
         "domain": [
          0.3888888888888889,
          0.6111111111111112
         ]
        },
        "yaxis7": {
         "anchor": "x7",
         "domain": [
          0.3888888888888889,
          0.6111111111111112
         ]
        },
        "yaxis8": {
         "anchor": "x8",
         "domain": [
          0.3888888888888889,
          0.6111111111111112
         ]
        },
        "yaxis9": {
         "anchor": "x9",
         "domain": [
          0,
          0.22222222222222224
         ]
        }
       }
      }
     },
     "metadata": {},
     "output_type": "display_data"
    },
    {
     "name": "stdout",
     "output_type": "stream",
     "text": [
      "✅ Time series decomposition completed!\n"
     ]
    }
   ],
   "source": [
    "# Time Series Decomposition\n",
    "print(\"🔍 Performing time series decomposition...\")\n",
    "\n",
    "# Prepare data for decomposition (monthly aggregation)\n",
    "monthly_ts = ts_data.groupby(['year', 'month']).agg({\n",
    "    'bookings': 'mean',\n",
    "    'occupancy_rate': 'mean',\n",
    "    'avg_price': 'mean'\n",
    "}).reset_index()\n",
    "monthly_ts['date'] = pd.to_datetime(monthly_ts[['year', 'month']].assign(day=1))\n",
    "monthly_ts = monthly_ts.set_index('date')\n",
    "\n",
    "# Perform seasonal decomposition\n",
    "decomposition_bookings = seasonal_decompose(monthly_ts['bookings'], model='additive', period=12)\n",
    "decomposition_occupancy = seasonal_decompose(monthly_ts['occupancy_rate'], model='additive', period=12)\n",
    "decomposition_price = seasonal_decompose(monthly_ts['avg_price'], model='additive', period=12)\n",
    "\n",
    "# Create decomposition visualization\n",
    "fig = make_subplots(\n",
    "    rows=3, cols=4,\n",
    "    subplot_titles=('Bookings - Original', 'Bookings - Trend', 'Bookings - Seasonal', 'Bookings - Residual',\n",
    "                   'Occupancy - Original', 'Occupancy - Trend', 'Occupancy - Seasonal', 'Occupancy - Residual',\n",
    "                   'Price - Original', 'Price - Trend', 'Price - Seasonal', 'Price - Residual'),\n",
    "    specs=[[{\"secondary_y\": False}, {\"secondary_y\": False}, {\"secondary_y\": False}, {\"secondary_y\": False}],\n",
    "           [{\"secondary_y\": False}, {\"secondary_y\": False}, {\"secondary_y\": False}, {\"secondary_y\": False}],\n",
    "           [{\"secondary_y\": False}, {\"secondary_y\": False}, {\"secondary_y\": False}, {\"secondary_y\": False}]]\n",
    ")\n",
    "\n",
    "# Bookings decomposition\n",
    "fig.add_trace(go.Scatter(x=decomposition_bookings.observed.index, y=decomposition_bookings.observed.values, \n",
    "                        mode='lines', name='Original', line=dict(color='blue')), row=1, col=1)\n",
    "fig.add_trace(go.Scatter(x=decomposition_bookings.trend.index, y=decomposition_bookings.trend.values, \n",
    "                        mode='lines', name='Trend', line=dict(color='red')), row=1, col=2)\n",
    "fig.add_trace(go.Scatter(x=decomposition_bookings.seasonal.index, y=decomposition_bookings.seasonal.values, \n",
    "                        mode='lines', name='Seasonal', line=dict(color='green')), row=1, col=3)\n",
    "fig.add_trace(go.Scatter(x=decomposition_bookings.resid.index, y=decomposition_bookings.resid.values, \n",
    "                        mode='lines', name='Residual', line=dict(color='orange')), row=1, col=4)\n",
    "\n",
    "# Occupancy decomposition\n",
    "fig.add_trace(go.Scatter(x=decomposition_occupancy.observed.index, y=decomposition_occupancy.observed.values, \n",
    "                        mode='lines', name='Original', line=dict(color='blue')), row=2, col=1)\n",
    "fig.add_trace(go.Scatter(x=decomposition_occupancy.trend.index, y=decomposition_occupancy.trend.values, \n",
    "                        mode='lines', name='Trend', line=dict(color='red')), row=2, col=2)\n",
    "fig.add_trace(go.Scatter(x=decomposition_occupancy.seasonal.index, y=decomposition_occupancy.seasonal.values, \n",
    "                        mode='lines', name='Seasonal', line=dict(color='green')), row=2, col=3)\n",
    "fig.add_trace(go.Scatter(x=decomposition_occupancy.resid.index, y=decomposition_occupancy.resid.values, \n",
    "                        mode='lines', name='Residual', line=dict(color='orange')), row=2, col=4)\n",
    "\n",
    "# Price decomposition\n",
    "fig.add_trace(go.Scatter(x=decomposition_price.observed.index, y=decomposition_price.observed.values, \n",
    "                        mode='lines', name='Original', line=dict(color='blue')), row=3, col=1)\n",
    "fig.add_trace(go.Scatter(x=decomposition_price.trend.index, y=decomposition_price.trend.values, \n",
    "                        mode='lines', name='Trend', line=dict(color='red')), row=3, col=2)\n",
    "fig.add_trace(go.Scatter(x=decomposition_price.seasonal.index, y=decomposition_price.seasonal.values, \n",
    "                        mode='lines', name='Seasonal', line=dict(color='green')), row=3, col=3)\n",
    "fig.add_trace(go.Scatter(x=decomposition_price.resid.index, y=decomposition_price.resid.values, \n",
    "                        mode='lines', name='Residual', line=dict(color='orange')), row=3, col=4)\n",
    "\n",
    "fig.update_layout(\n",
    "    height=900,\n",
    "    title_text=\"Time Series Decomposition Analysis\",\n",
    "    showlegend=False,\n",
    "    template=\"plotly_white\"\n",
    ")\n",
    "\n",
    "fig.show()\n",
    "\n",
    "print(\"✅ Time series decomposition completed!\")\n"
   ]
  },
  {
   "cell_type": "code",
   "execution_count": 21,
   "id": "e9ffe699",
   "metadata": {},
   "outputs": [
    {
     "name": "stdout",
     "output_type": "stream",
     "text": [
      "🤖 Building forecasting models...\n",
      "📊 Training data: 57 months\n",
      "📊 Test data: 15 months\n",
      "🔄 Building ARIMA model...\n",
      "✅ ARIMA - MAE: 31.00, RMSE: 40.54\n",
      "🔄 Building SARIMA model...\n",
      "✅ SARIMA - MAE: 7.03, RMSE: 8.36\n",
      "🔄 Building Prophet model...\n",
      "❌ Prophet failed: Length mismatch: Expected axis has 4 elements, new values have 2 elements\n",
      "\n",
      "📊 Model Performance Summary:\n",
      "ARIMA: MAE=31.00, RMSE=40.54\n",
      "SARIMA: MAE=7.03, RMSE=8.36\n"
     ]
    },
    {
     "name": "stderr",
     "output_type": "stream",
     "text": [
      "/home/vanlian/.conda/envs/ml_env/lib/python3.12/site-packages/statsmodels/tsa/base/tsa_model.py:473: ValueWarning:\n",
      "\n",
      "No frequency information was provided, so inferred frequency MS will be used.\n",
      "\n",
      "/home/vanlian/.conda/envs/ml_env/lib/python3.12/site-packages/statsmodels/tsa/base/tsa_model.py:473: ValueWarning:\n",
      "\n",
      "No frequency information was provided, so inferred frequency MS will be used.\n",
      "\n",
      "/home/vanlian/.conda/envs/ml_env/lib/python3.12/site-packages/statsmodels/tsa/base/tsa_model.py:473: ValueWarning:\n",
      "\n",
      "No frequency information was provided, so inferred frequency MS will be used.\n",
      "\n",
      "/home/vanlian/.conda/envs/ml_env/lib/python3.12/site-packages/statsmodels/tsa/base/tsa_model.py:473: ValueWarning:\n",
      "\n",
      "No frequency information was provided, so inferred frequency MS will be used.\n",
      "\n",
      "/home/vanlian/.conda/envs/ml_env/lib/python3.12/site-packages/statsmodels/tsa/base/tsa_model.py:473: ValueWarning:\n",
      "\n",
      "No frequency information was provided, so inferred frequency MS will be used.\n",
      "\n"
     ]
    }
   ],
   "source": [
    "# Forecasting Models Implementation\n",
    "print(\"🤖 Building forecasting models...\")\n",
    "\n",
    "def build_forecasting_models(ts_data, target_column='bookings', forecast_periods=12):\n",
    "    \"\"\"\n",
    "    Build multiple forecasting models and compare their performance\n",
    "    \"\"\"\n",
    "    \n",
    "    # Prepare data for modeling (monthly aggregation)\n",
    "    monthly_data = ts_data.groupby(['year', 'month']).agg({\n",
    "        target_column: 'mean'\n",
    "    }).reset_index()\n",
    "    monthly_data['date'] = pd.to_datetime(monthly_data[['year', 'month']].assign(day=1))\n",
    "    monthly_data = monthly_data.set_index('date')\n",
    "    \n",
    "    # Split data into train and test sets\n",
    "    train_size = int(len(monthly_data) * 0.8)\n",
    "    train_data = monthly_data[:train_size]\n",
    "    test_data = monthly_data[train_size:]\n",
    "    \n",
    "    print(f\"📊 Training data: {len(train_data)} months\")\n",
    "    print(f\"📊 Test data: {len(test_data)} months\")\n",
    "    \n",
    "    models = {}\n",
    "    forecasts = {}\n",
    "    metrics = {}\n",
    "    \n",
    "    # 1. ARIMA Model\n",
    "    try:\n",
    "        print(\"🔄 Building ARIMA model...\")\n",
    "        arima_model = ARIMA(train_data[target_column], order=(1, 1, 1))\n",
    "        arima_fitted = arima_model.fit()\n",
    "        arima_forecast = arima_fitted.forecast(steps=len(test_data) + forecast_periods)\n",
    "        \n",
    "        models['ARIMA'] = arima_fitted\n",
    "        forecasts['ARIMA'] = arima_forecast\n",
    "        \n",
    "        # Calculate metrics for test period\n",
    "        test_forecast = arima_forecast[:len(test_data)]\n",
    "        mae = mean_absolute_error(test_data[target_column], test_forecast)\n",
    "        mse = mean_squared_error(test_data[target_column], test_forecast)\n",
    "        rmse = np.sqrt(mse)\n",
    "        \n",
    "        metrics['ARIMA'] = {'MAE': mae, 'MSE': mse, 'RMSE': rmse}\n",
    "        print(f\"✅ ARIMA - MAE: {mae:.2f}, RMSE: {rmse:.2f}\")\n",
    "        \n",
    "    except Exception as e:\n",
    "        print(f\"❌ ARIMA failed: {str(e)}\")\n",
    "    \n",
    "    # 2. SARIMA Model (Seasonal ARIMA)\n",
    "    try:\n",
    "        print(\"🔄 Building SARIMA model...\")\n",
    "        sarima_model = SARIMAX(train_data[target_column], \n",
    "                              order=(1, 1, 1), \n",
    "                              seasonal_order=(1, 1, 1, 12))\n",
    "        sarima_fitted = sarima_model.fit(disp=False)\n",
    "        sarima_forecast = sarima_fitted.forecast(steps=len(test_data) + forecast_periods)\n",
    "        \n",
    "        models['SARIMA'] = sarima_fitted\n",
    "        forecasts['SARIMA'] = sarima_forecast\n",
    "        \n",
    "        # Calculate metrics for test period\n",
    "        test_forecast = sarima_forecast[:len(test_data)]\n",
    "        mae = mean_absolute_error(test_data[target_column], test_forecast)\n",
    "        mse = mean_squared_error(test_data[target_column], test_forecast)\n",
    "        rmse = np.sqrt(mse)\n",
    "        \n",
    "        metrics['SARIMA'] = {'MAE': mae, 'MSE': mse, 'RMSE': rmse}\n",
    "        print(f\"✅ SARIMA - MAE: {mae:.2f}, RMSE: {rmse:.2f}\")\n",
    "        \n",
    "    except Exception as e:\n",
    "        print(f\"❌ SARIMA failed: {str(e)}\")\n",
    "    \n",
    "    # 3. Prophet Model (if available)\n",
    "    if PROPHET_AVAILABLE:\n",
    "        try:\n",
    "            print(\"🔄 Building Prophet model...\")\n",
    "            \n",
    "            # Prepare data for Prophet\n",
    "            prophet_data = train_data.reset_index()\n",
    "            prophet_data.columns = ['ds', 'y']\n",
    "            \n",
    "            prophet_model = Prophet(\n",
    "                yearly_seasonality=True,\n",
    "                weekly_seasonality=True,\n",
    "                daily_seasonality=False,\n",
    "                seasonality_mode='additive'\n",
    "            )\n",
    "            prophet_model.fit(prophet_data)\n",
    "            \n",
    "            # Create future dataframe\n",
    "            future = prophet_model.make_future_dataframe(periods=len(test_data) + forecast_periods, freq='M')\n",
    "            prophet_forecast = prophet_model.predict(future)\n",
    "            \n",
    "            models['Prophet'] = prophet_model\n",
    "            forecasts['Prophet'] = prophet_forecast['yhat'].iloc[-len(test_data)-forecast_periods:]\n",
    "            \n",
    "            # Calculate metrics for test period\n",
    "            test_forecast = prophet_forecast['yhat'].iloc[-len(test_data)-forecast_periods:-forecast_periods]\n",
    "            mae = mean_absolute_error(test_data[target_column], test_forecast)\n",
    "            mse = mean_squared_error(test_data[target_column], test_forecast)\n",
    "            rmse = np.sqrt(mse)\n",
    "            \n",
    "            metrics['Prophet'] = {'MAE': mae, 'MSE': mse, 'RMSE': rmse}\n",
    "            print(f\"✅ Prophet - MAE: {mae:.2f}, RMSE: {rmse:.2f}\")\n",
    "            \n",
    "        except Exception as e:\n",
    "            print(f\"❌ Prophet failed: {str(e)}\")\n",
    "    else:\n",
    "        print(\"⚠️ Prophet not available - skipping Prophet model\")\n",
    "    \n",
    "    return models, forecasts, metrics, train_data, test_data, monthly_data\n",
    "\n",
    "# Build forecasting models for bookings\n",
    "models, forecasts, metrics, train_data, test_data, monthly_data = build_forecasting_models(\n",
    "    ts_data, target_column='bookings', forecast_periods=12\n",
    ")\n",
    "\n",
    "print(\"\\n📊 Model Performance Summary:\")\n",
    "for model_name, metric in metrics.items():\n",
    "    print(f\"{model_name}: MAE={metric['MAE']:.2f}, RMSE={metric['RMSE']:.2f}\")\n"
   ]
  },
  {
   "cell_type": "code",
   "execution_count": 23,
   "id": "57c49927",
   "metadata": {},
   "outputs": [
    {
     "name": "stdout",
     "output_type": "stream",
     "text": [
      "📈 Creating forecasting visualizations...\n",
      "🏆 Best performing model: SARIMA\n"
     ]
    },
    {
     "data": {
      "application/vnd.plotly.v1+json": {
       "config": {
        "plotlyServerURL": "https://plot.ly"
       },
       "data": [
        {
         "marker": {
          "color": "#FF6B6B"
         },
         "name": "MAE",
         "type": "bar",
         "x": [
          "ARIMA",
          "SARIMA"
         ],
         "xaxis": "x",
         "y": [
          31.00351376597322,
          7.027065855694077
         ],
         "yaxis": "y"
        },
        {
         "marker": {
          "color": "#4ECDC4"
         },
         "name": "RMSE",
         "type": "bar",
         "x": [
          "ARIMA",
          "SARIMA"
         ],
         "xaxis": "x",
         "y": [
          40.543947657817704,
          8.358454161359795
         ],
         "yaxis": "y"
        },
        {
         "line": {
          "color": "blue"
         },
         "mode": "lines",
         "name": "Training Data",
         "type": "scatter",
         "x": [
          "2017-01-01T00:00:00.000000000",
          "2017-02-01T00:00:00.000000000",
          "2017-03-01T00:00:00.000000000",
          "2017-04-01T00:00:00.000000000",
          "2017-05-01T00:00:00.000000000",
          "2017-06-01T00:00:00.000000000",
          "2017-07-01T00:00:00.000000000",
          "2017-08-01T00:00:00.000000000",
          "2017-09-01T00:00:00.000000000",
          "2017-10-01T00:00:00.000000000",
          "2017-11-01T00:00:00.000000000",
          "2017-12-01T00:00:00.000000000",
          "2018-01-01T00:00:00.000000000",
          "2018-02-01T00:00:00.000000000",
          "2018-03-01T00:00:00.000000000",
          "2018-04-01T00:00:00.000000000",
          "2018-05-01T00:00:00.000000000",
          "2018-06-01T00:00:00.000000000",
          "2018-07-01T00:00:00.000000000",
          "2018-08-01T00:00:00.000000000",
          "2018-09-01T00:00:00.000000000",
          "2018-10-01T00:00:00.000000000",
          "2018-11-01T00:00:00.000000000",
          "2018-12-01T00:00:00.000000000",
          "2019-01-01T00:00:00.000000000",
          "2019-02-01T00:00:00.000000000",
          "2019-03-01T00:00:00.000000000",
          "2019-04-01T00:00:00.000000000",
          "2019-05-01T00:00:00.000000000",
          "2019-06-01T00:00:00.000000000",
          "2019-07-01T00:00:00.000000000",
          "2019-08-01T00:00:00.000000000",
          "2019-09-01T00:00:00.000000000",
          "2019-10-01T00:00:00.000000000",
          "2019-11-01T00:00:00.000000000",
          "2019-12-01T00:00:00.000000000",
          "2020-01-01T00:00:00.000000000",
          "2020-02-01T00:00:00.000000000",
          "2020-03-01T00:00:00.000000000",
          "2020-04-01T00:00:00.000000000",
          "2020-05-01T00:00:00.000000000",
          "2020-06-01T00:00:00.000000000",
          "2020-07-01T00:00:00.000000000",
          "2020-08-01T00:00:00.000000000",
          "2020-09-01T00:00:00.000000000",
          "2020-10-01T00:00:00.000000000",
          "2020-11-01T00:00:00.000000000",
          "2020-12-01T00:00:00.000000000",
          "2021-01-01T00:00:00.000000000",
          "2021-02-01T00:00:00.000000000",
          "2021-03-01T00:00:00.000000000",
          "2021-04-01T00:00:00.000000000",
          "2021-05-01T00:00:00.000000000",
          "2021-06-01T00:00:00.000000000",
          "2021-07-01T00:00:00.000000000",
          "2021-08-01T00:00:00.000000000",
          "2021-09-01T00:00:00.000000000"
         ],
         "xaxis": "x2",
         "y": {
          "bdata": "ttZaa601S0CSJEmSJClQQHTOOeec81JAIiIiIiICVkBba6211ppXQERERERExF1A11prrbVWYEBjjDHGGCNdQKuqqqqqylhAMsYYY4yxVkC8u7u7u/tRQCmllFJKqU5ASimllFLKTkAAAAAAAFBSQGOMMcYYI1RARERERERkV0A655xzznlZQKuqqqqq6l5Avvfee+89YUD43nvvvfdfQM3MzMzMzFtAOuecc855V0C8u7u7u9tSQHTOOeecM1BAvvfee++9T0C3bdu2bRtUQLbWWmuttVZA7+7u7u4uWUAIIYQQQkhcQKuqqqqq6mFA11prrbU2YkC+9957731hQHd3d3d3l1xAa6211lprWkDNzMzMzKxUQL733nvvvVFACCGEEEIIUkCoEZZ7GuFUQKWUUkopJVhAMzMzMzNTWkDGGGOMMQZfQGZmZmZmBmJApZRSSimFY0CMMcYYY6xiQBERERERsV1ASimllFJKXEDe3d3d3V1WQKWUUkopZVNAY4wxxhgjU0Dbtm3btt1WQO+9995771hAzczMzMzsW0CttdZaaw1gQEREREREhGNAlVJKKaVUZUDXWmuttdZjQDMzMzMzY2BA",
          "dtype": "f8"
         },
         "yaxis": "y2"
        },
        {
         "line": {
          "color": "green"
         },
         "mode": "lines",
         "name": "Actual Test Data",
         "type": "scatter",
         "x": [
          "2021-10-01T00:00:00.000000000",
          "2021-11-01T00:00:00.000000000",
          "2021-12-01T00:00:00.000000000",
          "2022-01-01T00:00:00.000000000",
          "2022-02-01T00:00:00.000000000",
          "2022-03-01T00:00:00.000000000",
          "2022-04-01T00:00:00.000000000",
          "2022-05-01T00:00:00.000000000",
          "2022-06-01T00:00:00.000000000",
          "2022-07-01T00:00:00.000000000",
          "2022-08-01T00:00:00.000000000",
          "2022-09-01T00:00:00.000000000",
          "2022-10-01T00:00:00.000000000",
          "2022-11-01T00:00:00.000000000",
          "2022-12-01T00:00:00.000000000"
         ],
         "xaxis": "x2",
         "y": {
          "bdata": "QgghhBCCXkAREREREXFWQEIIIYQQAlNAdM4555xzVEAAAAAAAGBXQOecc845p1pAVVVVVVWVXkDXWmuttTZhQCIiIiIiUmRAvvfee++9ZkDnnHPOOSdkQDMzMzMzI2FAnXPOOefcX0BVVVVVVRVYQEIIIYQQAlVA",
          "dtype": "f8"
         },
         "yaxis": "y2"
        },
        {
         "line": {
          "color": "red"
         },
         "mode": "lines",
         "name": "ARIMA Forecast",
         "type": "scatter",
         "x": [
          "2021-10-31T00:00:00.000000000",
          "2021-11-30T00:00:00.000000000",
          "2021-12-31T00:00:00.000000000",
          "2022-01-31T00:00:00.000000000",
          "2022-02-28T00:00:00.000000000",
          "2022-03-31T00:00:00.000000000",
          "2022-04-30T00:00:00.000000000",
          "2022-05-31T00:00:00.000000000",
          "2022-06-30T00:00:00.000000000",
          "2022-07-31T00:00:00.000000000",
          "2022-08-31T00:00:00.000000000",
          "2022-09-30T00:00:00.000000000",
          "2022-10-31T00:00:00.000000000",
          "2022-11-30T00:00:00.000000000",
          "2022-12-31T00:00:00.000000000",
          "2023-01-31T00:00:00.000000000",
          "2023-02-28T00:00:00.000000000",
          "2023-03-31T00:00:00.000000000",
          "2023-04-30T00:00:00.000000000",
          "2023-05-31T00:00:00.000000000",
          "2023-06-30T00:00:00.000000000",
          "2023-07-31T00:00:00.000000000",
          "2023-08-31T00:00:00.000000000",
          "2023-09-30T00:00:00.000000000",
          "2023-10-31T00:00:00.000000000",
          "2023-11-30T00:00:00.000000000",
          "2023-12-31T00:00:00.000000000"
         ],
         "xaxis": "x2",
         "y": {
          "bdata": "ms468txQXEDsUo/Itu9ZQOiTcqKoqlhAOzWgvjP9V0B2/vlSpKBXQGnU8e0/b1dAzoaamuRUV0BLclsV1EZXQIIiVsRSP1dAgxCsglE7V0DlvUBpLjlXQPb0jHcKOFdAn8PgrW43V0CKKSWMGzdXQL0+vy/vNldAHYG5g9c2V0An0PbhyjZXQJ/YWyTENldAzruJi8A2V0BV/SqgvjZXQBdM9pm9NldA3RcLDr02V0C5LmHDvDZXQOqUiZu8NldAA9pGhrw2V0Dmfe56vDZXQHCp4HS8NldA",
          "dtype": "f8"
         },
         "yaxis": "y2"
        },
        {
         "line": {
          "color": "orange"
         },
         "mode": "lines",
         "name": "SARIMA Forecast",
         "type": "scatter",
         "x": [
          "2021-10-31T00:00:00.000000000",
          "2021-11-30T00:00:00.000000000",
          "2021-12-31T00:00:00.000000000",
          "2022-01-31T00:00:00.000000000",
          "2022-02-28T00:00:00.000000000",
          "2022-03-31T00:00:00.000000000",
          "2022-04-30T00:00:00.000000000",
          "2022-05-31T00:00:00.000000000",
          "2022-06-30T00:00:00.000000000",
          "2022-07-31T00:00:00.000000000",
          "2022-08-31T00:00:00.000000000",
          "2022-09-30T00:00:00.000000000",
          "2022-10-31T00:00:00.000000000",
          "2022-11-30T00:00:00.000000000",
          "2022-12-31T00:00:00.000000000",
          "2023-01-31T00:00:00.000000000",
          "2023-02-28T00:00:00.000000000",
          "2023-03-31T00:00:00.000000000",
          "2023-04-30T00:00:00.000000000",
          "2023-05-31T00:00:00.000000000",
          "2023-06-30T00:00:00.000000000",
          "2023-07-31T00:00:00.000000000",
          "2023-08-31T00:00:00.000000000",
          "2023-09-30T00:00:00.000000000",
          "2023-10-31T00:00:00.000000000",
          "2023-11-30T00:00:00.000000000",
          "2023-12-31T00:00:00.000000000"
         ],
         "xaxis": "x2",
         "y": {
          "bdata": "vxNVYG8VX0BY+YdkPzlZQIQphIAQQFZAW/ldVOkpVkDetOcI/pxZQOo2F24GClxAqYu/kEnKXkDMADkulJJhQJL1aKl+vWRAm/P4uX17ZkCxUTSzvyxlQFb0X6ACm2FAmTi1DpjOYEDEs2jhz7tbQL3q4BOswlhAcbKd0GmdWEAIiYd0JilcQC/eetC3dl5AD/8l+QOmYEB54ujDuMtiQL1Mk67REGZAv0NRVifVZ0B0buiTI3ZmQDn5OM3S7mJAXjtFJz8eYkDzIu8O6FxeQJdOrm7AY1tA",
          "dtype": "f8"
         },
         "yaxis": "y2"
        },
        {
         "line": {
          "color": "red"
         },
         "mode": "lines+markers",
         "name": "ARIMA Future",
         "type": "scatter",
         "x": [
          "2023-01-31T00:00:00.000000000",
          "2023-02-28T00:00:00.000000000",
          "2023-03-31T00:00:00.000000000",
          "2023-04-30T00:00:00.000000000",
          "2023-05-31T00:00:00.000000000",
          "2023-06-30T00:00:00.000000000",
          "2023-07-31T00:00:00.000000000",
          "2023-08-31T00:00:00.000000000",
          "2023-09-30T00:00:00.000000000",
          "2023-10-31T00:00:00.000000000",
          "2023-11-30T00:00:00.000000000",
          "2023-12-31T00:00:00.000000000"
         ],
         "xaxis": "x3",
         "y": {
          "bdata": "HYG5g9c2V0An0PbhyjZXQJ/YWyTENldAzruJi8A2V0BV/SqgvjZXQBdM9pm9NldA3RcLDr02V0C5LmHDvDZXQOqUiZu8NldAA9pGhrw2V0Dmfe56vDZXQHCp4HS8NldA",
          "dtype": "f8"
         },
         "yaxis": "y3"
        },
        {
         "line": {
          "color": "orange"
         },
         "mode": "lines+markers",
         "name": "SARIMA Future",
         "type": "scatter",
         "x": [
          "2023-01-31T00:00:00.000000000",
          "2023-02-28T00:00:00.000000000",
          "2023-03-31T00:00:00.000000000",
          "2023-04-30T00:00:00.000000000",
          "2023-05-31T00:00:00.000000000",
          "2023-06-30T00:00:00.000000000",
          "2023-07-31T00:00:00.000000000",
          "2023-08-31T00:00:00.000000000",
          "2023-09-30T00:00:00.000000000",
          "2023-10-31T00:00:00.000000000",
          "2023-11-30T00:00:00.000000000",
          "2023-12-31T00:00:00.000000000"
         ],
         "xaxis": "x3",
         "y": {
          "bdata": "cbKd0GmdWEAIiYd0JilcQC/eetC3dl5AD/8l+QOmYEB54ujDuMtiQL1Mk67REGZAv0NRVifVZ0B0buiTI3ZmQDn5OM3S7mJAXjtFJz8eYkDzIu8O6FxeQJdOrm7AY1tA",
          "dtype": "f8"
         },
         "yaxis": "y3"
        },
        {
         "line": {
          "color": "rgba(0,100,80,0.3)"
         },
         "mode": "lines",
         "name": "Upper Bound",
         "type": "scatter",
         "x": [
          "2023-01-31T00:00:00.000000000",
          "2023-02-28T00:00:00.000000000",
          "2023-03-31T00:00:00.000000000",
          "2023-04-30T00:00:00.000000000",
          "2023-05-31T00:00:00.000000000",
          "2023-06-30T00:00:00.000000000",
          "2023-07-31T00:00:00.000000000",
          "2023-08-31T00:00:00.000000000",
          "2023-09-30T00:00:00.000000000",
          "2023-10-31T00:00:00.000000000",
          "2023-11-30T00:00:00.000000000",
          "2023-12-31T00:00:00.000000000"
         ],
         "xaxis": "x4",
         "y": {
          "bdata": "rP7Ca5BqY0D36be9bjBlQIuUsWs3V2ZAgiSafN/BZ0DsB11HlOdpQDByBzKtLG1AMmnF2QLxbkDnk1wX/5FtQKwerVCuCmpA0WC5qho6aUDttuuKT0pmQL9My7q7zWRA",
          "dtype": "f8"
         },
         "yaxis": "y4"
        },
        {
         "fill": "tonexty",
         "line": {
          "color": "rgba(0,100,80,0.3)"
         },
         "mode": "lines",
         "name": "Lower Bound",
         "type": "scatter",
         "x": [
          "2023-01-31T00:00:00.000000000",
          "2023-02-28T00:00:00.000000000",
          "2023-03-31T00:00:00.000000000",
          "2023-04-30T00:00:00.000000000",
          "2023-05-31T00:00:00.000000000",
          "2023-06-30T00:00:00.000000000",
          "2023-07-31T00:00:00.000000000",
          "2023-08-31T00:00:00.000000000",
          "2023-09-30T00:00:00.000000000",
          "2023-10-31T00:00:00.000000000",
          "2023-11-30T00:00:00.000000000",
          "2023-12-31T00:00:00.000000000"
         ],
         "xaxis": "x4",
         "y": {
          "bdata": "Fc9qk2XLREBDfD7b3uJLQEiTkskAP1BAOLNj61AUU0AMeumAul9XQJROPlbs6V1ATB7d0ku5YEACkuggkLReQIyniZPupVdA1iuiR8cEVkAM2AYIMSVQQGEHjM8SWEpA",
          "dtype": "f8"
         },
         "yaxis": "y4"
        },
        {
         "line": {
          "color": "rgba(0,100,80,1)"
         },
         "mode": "lines",
         "name": "SARIMA Forecast",
         "type": "scatter",
         "x": [
          "2023-01-31T00:00:00.000000000",
          "2023-02-28T00:00:00.000000000",
          "2023-03-31T00:00:00.000000000",
          "2023-04-30T00:00:00.000000000",
          "2023-05-31T00:00:00.000000000",
          "2023-06-30T00:00:00.000000000",
          "2023-07-31T00:00:00.000000000",
          "2023-08-31T00:00:00.000000000",
          "2023-09-30T00:00:00.000000000",
          "2023-10-31T00:00:00.000000000",
          "2023-11-30T00:00:00.000000000",
          "2023-12-31T00:00:00.000000000"
         ],
         "xaxis": "x4",
         "y": {
          "bdata": "cbKd0GmdWEAIiYd0JilcQC/eetC3dl5AD/8l+QOmYEB54ujDuMtiQL1Mk67REGZAv0NRVifVZ0B0buiTI3ZmQDn5OM3S7mJAXjtFJz8eYkDzIu8O6FxeQJdOrm7AY1tA",
          "dtype": "f8"
         },
         "yaxis": "y4"
        }
       ],
       "layout": {
        "annotations": [
         {
          "font": {
           "size": 16
          },
          "showarrow": false,
          "text": "Model Performance Comparison",
          "x": 0.225,
          "xanchor": "center",
          "xref": "paper",
          "y": 1,
          "yanchor": "bottom",
          "yref": "paper"
         },
         {
          "font": {
           "size": 16
          },
          "showarrow": false,
          "text": "Forecasting Results - Bookings",
          "x": 0.775,
          "xanchor": "center",
          "xref": "paper",
          "y": 1,
          "yanchor": "bottom",
          "yref": "paper"
         },
         {
          "font": {
           "size": 16
          },
          "showarrow": false,
          "text": "Seasonal Forecast by Model",
          "x": 0.225,
          "xanchor": "center",
          "xref": "paper",
          "y": 0.375,
          "yanchor": "bottom",
          "yref": "paper"
         },
         {
          "font": {
           "size": 16
          },
          "showarrow": false,
          "text": "Forecast Confidence Intervals",
          "x": 0.775,
          "xanchor": "center",
          "xref": "paper",
          "y": 0.375,
          "yanchor": "bottom",
          "yref": "paper"
         }
        ],
        "height": 800,
        "showlegend": true,
        "template": {
         "data": {
          "bar": [
           {
            "error_x": {
             "color": "#2a3f5f"
            },
            "error_y": {
             "color": "#2a3f5f"
            },
            "marker": {
             "line": {
              "color": "white",
              "width": 0.5
             },
             "pattern": {
              "fillmode": "overlay",
              "size": 10,
              "solidity": 0.2
             }
            },
            "type": "bar"
           }
          ],
          "barpolar": [
           {
            "marker": {
             "line": {
              "color": "white",
              "width": 0.5
             },
             "pattern": {
              "fillmode": "overlay",
              "size": 10,
              "solidity": 0.2
             }
            },
            "type": "barpolar"
           }
          ],
          "carpet": [
           {
            "aaxis": {
             "endlinecolor": "#2a3f5f",
             "gridcolor": "#C8D4E3",
             "linecolor": "#C8D4E3",
             "minorgridcolor": "#C8D4E3",
             "startlinecolor": "#2a3f5f"
            },
            "baxis": {
             "endlinecolor": "#2a3f5f",
             "gridcolor": "#C8D4E3",
             "linecolor": "#C8D4E3",
             "minorgridcolor": "#C8D4E3",
             "startlinecolor": "#2a3f5f"
            },
            "type": "carpet"
           }
          ],
          "choropleth": [
           {
            "colorbar": {
             "outlinewidth": 0,
             "ticks": ""
            },
            "type": "choropleth"
           }
          ],
          "contour": [
           {
            "colorbar": {
             "outlinewidth": 0,
             "ticks": ""
            },
            "colorscale": [
             [
              0,
              "#0d0887"
             ],
             [
              0.1111111111111111,
              "#46039f"
             ],
             [
              0.2222222222222222,
              "#7201a8"
             ],
             [
              0.3333333333333333,
              "#9c179e"
             ],
             [
              0.4444444444444444,
              "#bd3786"
             ],
             [
              0.5555555555555556,
              "#d8576b"
             ],
             [
              0.6666666666666666,
              "#ed7953"
             ],
             [
              0.7777777777777778,
              "#fb9f3a"
             ],
             [
              0.8888888888888888,
              "#fdca26"
             ],
             [
              1,
              "#f0f921"
             ]
            ],
            "type": "contour"
           }
          ],
          "contourcarpet": [
           {
            "colorbar": {
             "outlinewidth": 0,
             "ticks": ""
            },
            "type": "contourcarpet"
           }
          ],
          "heatmap": [
           {
            "colorbar": {
             "outlinewidth": 0,
             "ticks": ""
            },
            "colorscale": [
             [
              0,
              "#0d0887"
             ],
             [
              0.1111111111111111,
              "#46039f"
             ],
             [
              0.2222222222222222,
              "#7201a8"
             ],
             [
              0.3333333333333333,
              "#9c179e"
             ],
             [
              0.4444444444444444,
              "#bd3786"
             ],
             [
              0.5555555555555556,
              "#d8576b"
             ],
             [
              0.6666666666666666,
              "#ed7953"
             ],
             [
              0.7777777777777778,
              "#fb9f3a"
             ],
             [
              0.8888888888888888,
              "#fdca26"
             ],
             [
              1,
              "#f0f921"
             ]
            ],
            "type": "heatmap"
           }
          ],
          "histogram": [
           {
            "marker": {
             "pattern": {
              "fillmode": "overlay",
              "size": 10,
              "solidity": 0.2
             }
            },
            "type": "histogram"
           }
          ],
          "histogram2d": [
           {
            "colorbar": {
             "outlinewidth": 0,
             "ticks": ""
            },
            "colorscale": [
             [
              0,
              "#0d0887"
             ],
             [
              0.1111111111111111,
              "#46039f"
             ],
             [
              0.2222222222222222,
              "#7201a8"
             ],
             [
              0.3333333333333333,
              "#9c179e"
             ],
             [
              0.4444444444444444,
              "#bd3786"
             ],
             [
              0.5555555555555556,
              "#d8576b"
             ],
             [
              0.6666666666666666,
              "#ed7953"
             ],
             [
              0.7777777777777778,
              "#fb9f3a"
             ],
             [
              0.8888888888888888,
              "#fdca26"
             ],
             [
              1,
              "#f0f921"
             ]
            ],
            "type": "histogram2d"
           }
          ],
          "histogram2dcontour": [
           {
            "colorbar": {
             "outlinewidth": 0,
             "ticks": ""
            },
            "colorscale": [
             [
              0,
              "#0d0887"
             ],
             [
              0.1111111111111111,
              "#46039f"
             ],
             [
              0.2222222222222222,
              "#7201a8"
             ],
             [
              0.3333333333333333,
              "#9c179e"
             ],
             [
              0.4444444444444444,
              "#bd3786"
             ],
             [
              0.5555555555555556,
              "#d8576b"
             ],
             [
              0.6666666666666666,
              "#ed7953"
             ],
             [
              0.7777777777777778,
              "#fb9f3a"
             ],
             [
              0.8888888888888888,
              "#fdca26"
             ],
             [
              1,
              "#f0f921"
             ]
            ],
            "type": "histogram2dcontour"
           }
          ],
          "mesh3d": [
           {
            "colorbar": {
             "outlinewidth": 0,
             "ticks": ""
            },
            "type": "mesh3d"
           }
          ],
          "parcoords": [
           {
            "line": {
             "colorbar": {
              "outlinewidth": 0,
              "ticks": ""
             }
            },
            "type": "parcoords"
           }
          ],
          "pie": [
           {
            "automargin": true,
            "type": "pie"
           }
          ],
          "scatter": [
           {
            "fillpattern": {
             "fillmode": "overlay",
             "size": 10,
             "solidity": 0.2
            },
            "type": "scatter"
           }
          ],
          "scatter3d": [
           {
            "line": {
             "colorbar": {
              "outlinewidth": 0,
              "ticks": ""
             }
            },
            "marker": {
             "colorbar": {
              "outlinewidth": 0,
              "ticks": ""
             }
            },
            "type": "scatter3d"
           }
          ],
          "scattercarpet": [
           {
            "marker": {
             "colorbar": {
              "outlinewidth": 0,
              "ticks": ""
             }
            },
            "type": "scattercarpet"
           }
          ],
          "scattergeo": [
           {
            "marker": {
             "colorbar": {
              "outlinewidth": 0,
              "ticks": ""
             }
            },
            "type": "scattergeo"
           }
          ],
          "scattergl": [
           {
            "marker": {
             "colorbar": {
              "outlinewidth": 0,
              "ticks": ""
             }
            },
            "type": "scattergl"
           }
          ],
          "scattermap": [
           {
            "marker": {
             "colorbar": {
              "outlinewidth": 0,
              "ticks": ""
             }
            },
            "type": "scattermap"
           }
          ],
          "scattermapbox": [
           {
            "marker": {
             "colorbar": {
              "outlinewidth": 0,
              "ticks": ""
             }
            },
            "type": "scattermapbox"
           }
          ],
          "scatterpolar": [
           {
            "marker": {
             "colorbar": {
              "outlinewidth": 0,
              "ticks": ""
             }
            },
            "type": "scatterpolar"
           }
          ],
          "scatterpolargl": [
           {
            "marker": {
             "colorbar": {
              "outlinewidth": 0,
              "ticks": ""
             }
            },
            "type": "scatterpolargl"
           }
          ],
          "scatterternary": [
           {
            "marker": {
             "colorbar": {
              "outlinewidth": 0,
              "ticks": ""
             }
            },
            "type": "scatterternary"
           }
          ],
          "surface": [
           {
            "colorbar": {
             "outlinewidth": 0,
             "ticks": ""
            },
            "colorscale": [
             [
              0,
              "#0d0887"
             ],
             [
              0.1111111111111111,
              "#46039f"
             ],
             [
              0.2222222222222222,
              "#7201a8"
             ],
             [
              0.3333333333333333,
              "#9c179e"
             ],
             [
              0.4444444444444444,
              "#bd3786"
             ],
             [
              0.5555555555555556,
              "#d8576b"
             ],
             [
              0.6666666666666666,
              "#ed7953"
             ],
             [
              0.7777777777777778,
              "#fb9f3a"
             ],
             [
              0.8888888888888888,
              "#fdca26"
             ],
             [
              1,
              "#f0f921"
             ]
            ],
            "type": "surface"
           }
          ],
          "table": [
           {
            "cells": {
             "fill": {
              "color": "#EBF0F8"
             },
             "line": {
              "color": "white"
             }
            },
            "header": {
             "fill": {
              "color": "#C8D4E3"
             },
             "line": {
              "color": "white"
             }
            },
            "type": "table"
           }
          ]
         },
         "layout": {
          "annotationdefaults": {
           "arrowcolor": "#2a3f5f",
           "arrowhead": 0,
           "arrowwidth": 1
          },
          "autotypenumbers": "strict",
          "coloraxis": {
           "colorbar": {
            "outlinewidth": 0,
            "ticks": ""
           }
          },
          "colorscale": {
           "diverging": [
            [
             0,
             "#8e0152"
            ],
            [
             0.1,
             "#c51b7d"
            ],
            [
             0.2,
             "#de77ae"
            ],
            [
             0.3,
             "#f1b6da"
            ],
            [
             0.4,
             "#fde0ef"
            ],
            [
             0.5,
             "#f7f7f7"
            ],
            [
             0.6,
             "#e6f5d0"
            ],
            [
             0.7,
             "#b8e186"
            ],
            [
             0.8,
             "#7fbc41"
            ],
            [
             0.9,
             "#4d9221"
            ],
            [
             1,
             "#276419"
            ]
           ],
           "sequential": [
            [
             0,
             "#0d0887"
            ],
            [
             0.1111111111111111,
             "#46039f"
            ],
            [
             0.2222222222222222,
             "#7201a8"
            ],
            [
             0.3333333333333333,
             "#9c179e"
            ],
            [
             0.4444444444444444,
             "#bd3786"
            ],
            [
             0.5555555555555556,
             "#d8576b"
            ],
            [
             0.6666666666666666,
             "#ed7953"
            ],
            [
             0.7777777777777778,
             "#fb9f3a"
            ],
            [
             0.8888888888888888,
             "#fdca26"
            ],
            [
             1,
             "#f0f921"
            ]
           ],
           "sequentialminus": [
            [
             0,
             "#0d0887"
            ],
            [
             0.1111111111111111,
             "#46039f"
            ],
            [
             0.2222222222222222,
             "#7201a8"
            ],
            [
             0.3333333333333333,
             "#9c179e"
            ],
            [
             0.4444444444444444,
             "#bd3786"
            ],
            [
             0.5555555555555556,
             "#d8576b"
            ],
            [
             0.6666666666666666,
             "#ed7953"
            ],
            [
             0.7777777777777778,
             "#fb9f3a"
            ],
            [
             0.8888888888888888,
             "#fdca26"
            ],
            [
             1,
             "#f0f921"
            ]
           ]
          },
          "colorway": [
           "#636efa",
           "#EF553B",
           "#00cc96",
           "#ab63fa",
           "#FFA15A",
           "#19d3f3",
           "#FF6692",
           "#B6E880",
           "#FF97FF",
           "#FECB52"
          ],
          "font": {
           "color": "#2a3f5f"
          },
          "geo": {
           "bgcolor": "white",
           "lakecolor": "white",
           "landcolor": "white",
           "showlakes": true,
           "showland": true,
           "subunitcolor": "#C8D4E3"
          },
          "hoverlabel": {
           "align": "left"
          },
          "hovermode": "closest",
          "mapbox": {
           "style": "light"
          },
          "paper_bgcolor": "white",
          "plot_bgcolor": "white",
          "polar": {
           "angularaxis": {
            "gridcolor": "#EBF0F8",
            "linecolor": "#EBF0F8",
            "ticks": ""
           },
           "bgcolor": "white",
           "radialaxis": {
            "gridcolor": "#EBF0F8",
            "linecolor": "#EBF0F8",
            "ticks": ""
           }
          },
          "scene": {
           "xaxis": {
            "backgroundcolor": "white",
            "gridcolor": "#DFE8F3",
            "gridwidth": 2,
            "linecolor": "#EBF0F8",
            "showbackground": true,
            "ticks": "",
            "zerolinecolor": "#EBF0F8"
           },
           "yaxis": {
            "backgroundcolor": "white",
            "gridcolor": "#DFE8F3",
            "gridwidth": 2,
            "linecolor": "#EBF0F8",
            "showbackground": true,
            "ticks": "",
            "zerolinecolor": "#EBF0F8"
           },
           "zaxis": {
            "backgroundcolor": "white",
            "gridcolor": "#DFE8F3",
            "gridwidth": 2,
            "linecolor": "#EBF0F8",
            "showbackground": true,
            "ticks": "",
            "zerolinecolor": "#EBF0F8"
           }
          },
          "shapedefaults": {
           "line": {
            "color": "#2a3f5f"
           }
          },
          "ternary": {
           "aaxis": {
            "gridcolor": "#DFE8F3",
            "linecolor": "#A2B1C6",
            "ticks": ""
           },
           "baxis": {
            "gridcolor": "#DFE8F3",
            "linecolor": "#A2B1C6",
            "ticks": ""
           },
           "bgcolor": "white",
           "caxis": {
            "gridcolor": "#DFE8F3",
            "linecolor": "#A2B1C6",
            "ticks": ""
           }
          },
          "title": {
           "x": 0.05
          },
          "xaxis": {
           "automargin": true,
           "gridcolor": "#EBF0F8",
           "linecolor": "#EBF0F8",
           "ticks": "",
           "title": {
            "standoff": 15
           },
           "zerolinecolor": "#EBF0F8",
           "zerolinewidth": 2
          },
          "yaxis": {
           "automargin": true,
           "gridcolor": "#EBF0F8",
           "linecolor": "#EBF0F8",
           "ticks": "",
           "title": {
            "standoff": 15
           },
           "zerolinecolor": "#EBF0F8",
           "zerolinewidth": 2
          }
         }
        },
        "title": {
         "text": "Time Series Forecasting Analysis"
        },
        "xaxis": {
         "anchor": "y",
         "domain": [
          0,
          0.45
         ],
         "title": {
          "text": "Model"
         }
        },
        "xaxis2": {
         "anchor": "y2",
         "domain": [
          0.55,
          1
         ],
         "title": {
          "text": "Date"
         }
        },
        "xaxis3": {
         "anchor": "y3",
         "domain": [
          0,
          0.45
         ],
         "title": {
          "text": "Date"
         }
        },
        "xaxis4": {
         "anchor": "y4",
         "domain": [
          0.55,
          1
         ],
         "title": {
          "text": "Date"
         }
        },
        "yaxis": {
         "anchor": "x",
         "domain": [
          0.625,
          1
         ],
         "title": {
          "text": "Error Value"
         }
        },
        "yaxis2": {
         "anchor": "x2",
         "domain": [
          0.625,
          1
         ],
         "title": {
          "text": "Bookings"
         }
        },
        "yaxis3": {
         "anchor": "x3",
         "domain": [
          0,
          0.375
         ],
         "title": {
          "text": "Forecasted Bookings"
         }
        },
        "yaxis4": {
         "anchor": "x4",
         "domain": [
          0,
          0.375
         ],
         "title": {
          "text": "Bookings with Confidence"
         }
        }
       }
      }
     },
     "metadata": {},
     "output_type": "display_data"
    },
    {
     "name": "stdout",
     "output_type": "stream",
     "text": [
      "✅ Forecasting visualization completed!\n"
     ]
    }
   ],
   "source": [
    "# Forecasting Visualization and Comparison\n",
    "print(\"📈 Creating forecasting visualizations...\")\n",
    "\n",
    "# Create comprehensive forecasting plot\n",
    "fig = make_subplots(\n",
    "    rows=2, cols=2,\n",
    "    subplot_titles=('Model Performance Comparison', 'Forecasting Results - Bookings',\n",
    "                   'Seasonal Forecast by Model', 'Forecast Confidence Intervals'),\n",
    "    specs=[[{\"secondary_y\": False}, {\"secondary_y\": False}],\n",
    "           [{\"secondary_y\": False}, {\"secondary_y\": False}]]\n",
    ")\n",
    "\n",
    "# 1. Model Performance Comparison\n",
    "model_names = list(metrics.keys())\n",
    "mae_values = [metrics[name]['MAE'] for name in model_names]\n",
    "rmse_values = [metrics[name]['RMSE'] for name in model_names]\n",
    "\n",
    "fig.add_trace(\n",
    "    go.Bar(x=model_names, y=mae_values, name='MAE', marker_color='#FF6B6B'),\n",
    "    row=1, col=1\n",
    ")\n",
    "\n",
    "fig.add_trace(\n",
    "    go.Bar(x=model_names, y=rmse_values, name='RMSE', marker_color='#4ECDC4'),\n",
    "    row=1, col=1\n",
    ")\n",
    "\n",
    "# 2. Forecasting Results\n",
    "# Plot actual data\n",
    "fig.add_trace(\n",
    "    go.Scatter(x=train_data.index, y=train_data['bookings'], \n",
    "               mode='lines', name='Training Data', line=dict(color='blue')),\n",
    "    row=1, col=2\n",
    ")\n",
    "\n",
    "fig.add_trace(\n",
    "    go.Scatter(x=test_data.index, y=test_data['bookings'], \n",
    "               mode='lines', name='Actual Test Data', line=dict(color='green')),\n",
    "    row=1, col=2\n",
    ")\n",
    "\n",
    "# Plot forecasts\n",
    "colors = ['red', 'orange', 'purple']\n",
    "for i, (model_name, forecast) in enumerate(forecasts.items()):\n",
    "    if model_name in ['ARIMA', 'SARIMA']:\n",
    "        # For ARIMA/SARIMA forecasts\n",
    "        forecast_dates = pd.date_range(start=test_data.index[0], periods=len(forecast), freq='M')\n",
    "        fig.add_trace(\n",
    "            go.Scatter(x=forecast_dates, y=forecast, \n",
    "                       mode='lines', name=f'{model_name} Forecast', \n",
    "                       line=dict(color=colors[i % len(colors)])),\n",
    "            row=1, col=2\n",
    "        )\n",
    "    elif model_name == 'Prophet':\n",
    "        # For Prophet forecasts\n",
    "        forecast_dates = pd.date_range(start=test_data.index[0], periods=len(forecast), freq='M')\n",
    "        fig.add_trace(\n",
    "            go.Scatter(x=forecast_dates, y=forecast, \n",
    "                       mode='lines', name=f'{model_name} Forecast', \n",
    "                       line=dict(color=colors[i % len(colors)])),\n",
    "            row=1, col=2\n",
    "        )\n",
    "\n",
    "# 3. Seasonal Forecast Analysis\n",
    "# Create future dates for forecasting\n",
    "future_dates = pd.date_range(start=monthly_data.index[-1], periods=13, freq='M')[1:]\n",
    "\n",
    "# Get the best performing model\n",
    "best_model = min(metrics.keys(), key=lambda x: metrics[x]['RMSE'])\n",
    "print(f\"🏆 Best performing model: {best_model}\")\n",
    "\n",
    "# Create seasonal analysis\n",
    "seasonal_forecast = {}\n",
    "for model_name, forecast in forecasts.items():\n",
    "    if len(forecast) >= 12:\n",
    "        future_forecast = forecast[-12:]  # Last 12 months\n",
    "        seasonal_forecast[model_name] = future_forecast\n",
    "\n",
    "# Plot seasonal forecasts\n",
    "for i, (model_name, forecast) in enumerate(seasonal_forecast.items()):\n",
    "    fig.add_trace(\n",
    "        go.Scatter(x=future_dates, y=forecast, \n",
    "                   mode='lines+markers', name=f'{model_name} Future',\n",
    "                   line=dict(color=colors[i % len(colors)])),\n",
    "        row=2, col=1\n",
    "    )\n",
    "\n",
    "# 4. Confidence Intervals (simplified)\n",
    "# Create confidence intervals for the best model\n",
    "if best_model in forecasts:\n",
    "    best_forecast = forecasts[best_model]\n",
    "    if len(best_forecast) >= 12:\n",
    "        future_forecast = best_forecast[-12:]\n",
    "        \n",
    "        # Simple confidence interval calculation\n",
    "        std_dev = np.std(train_data['bookings'])\n",
    "        upper_bound = future_forecast + 1.96 * std_dev\n",
    "        lower_bound = future_forecast - 1.96 * std_dev\n",
    "        \n",
    "        # Add upper bound\n",
    "        fig.add_trace(\n",
    "            go.Scatter(x=future_dates, y=upper_bound, \n",
    "                       mode='lines', name='Upper Bound', \n",
    "                       line=dict(color='rgba(0,100,80,0.3)')),\n",
    "            row=2, col=2\n",
    "        )\n",
    "        \n",
    "        # Add lower bound with fill\n",
    "        fig.add_trace(\n",
    "            go.Scatter(x=future_dates, y=lower_bound, \n",
    "                       mode='lines', name='Lower Bound', \n",
    "                       line=dict(color='rgba(0,100,80,0.3)'),\n",
    "                       fill='tonexty'),\n",
    "            row=2, col=2\n",
    "        )\n",
    "        \n",
    "        # Add forecast line\n",
    "        fig.add_trace(\n",
    "            go.Scatter(x=future_dates, y=future_forecast, \n",
    "                       mode='lines', name=f'{best_model} Forecast',\n",
    "                       line=dict(color='rgba(0,100,80,1)')),\n",
    "            row=2, col=2\n",
    "        )\n",
    "\n",
    "# Update layout\n",
    "fig.update_layout(\n",
    "    height=800,\n",
    "    title_text=\"Time Series Forecasting Analysis\",\n",
    "    showlegend=True,\n",
    "    template=\"plotly_white\"\n",
    ")\n",
    "\n",
    "# Update axes labels\n",
    "fig.update_xaxes(title_text=\"Model\", row=1, col=1)\n",
    "fig.update_xaxes(title_text=\"Date\", row=1, col=2)\n",
    "fig.update_xaxes(title_text=\"Date\", row=2, col=1)\n",
    "fig.update_xaxes(title_text=\"Date\", row=2, col=2)\n",
    "\n",
    "fig.update_yaxes(title_text=\"Error Value\", row=1, col=1)\n",
    "fig.update_yaxes(title_text=\"Bookings\", row=1, col=2)\n",
    "fig.update_yaxes(title_text=\"Forecasted Bookings\", row=2, col=1)\n",
    "fig.update_yaxes(title_text=\"Bookings with Confidence\", row=2, col=2)\n",
    "\n",
    "fig.show()\n",
    "\n",
    "print(\"✅ Forecasting visualization completed!\")\n"
   ]
  },
  {
   "cell_type": "code",
   "execution_count": 24,
   "id": "474aa850",
   "metadata": {},
   "outputs": [
    {
     "name": "stdout",
     "output_type": "stream",
     "text": [
      "🌍 Creating seasonal filters for detailed analysis...\n",
      "📊 Seasonal Analysis Summary:\n",
      "==================================================\n",
      "\n",
      "🌿 SPRING SEASON:\n",
      "   📈 Average Bookings: 104.0\n",
      "   🏠 Average Occupancy: 84.3%\n",
      "   💰 Average Price: $555\n",
      "   📅 Peak Month: 5\n",
      "   📉 Lowest Month: 3\n",
      "   🎉 Weekend Boost: 1.53x\n",
      "\n",
      "🌿 SUMMER SEASON:\n",
      "   📈 Average Bookings: 145.9\n",
      "   🏠 Average Occupancy: 77.9%\n",
      "   💰 Average Price: $771\n",
      "   📅 Peak Month: 7\n",
      "   📉 Lowest Month: 6\n",
      "   🎉 Weekend Boost: 1.52x\n",
      "\n",
      "🌿 FALL SEASON:\n",
      "   📈 Average Bookings: 104.0\n",
      "   🏠 Average Occupancy: 84.3%\n",
      "   💰 Average Price: $553\n",
      "   📅 Peak Month: 9\n",
      "   📉 Lowest Month: 11\n",
      "   🎉 Weekend Boost: 1.55x\n",
      "\n",
      "🌿 WINTER SEASON:\n",
      "   📈 Average Bookings: 73.8\n",
      "   🏠 Average Occupancy: 88.8%\n",
      "   💰 Average Price: $392\n",
      "   📅 Peak Month: 2\n",
      "   📉 Lowest Month: 1\n",
      "   🎉 Weekend Boost: 1.55x\n"
     ]
    },
    {
     "data": {
      "application/vnd.plotly.v1+json": {
       "config": {
        "plotlyServerURL": "https://plot.ly"
       },
       "data": [
        {
         "marker": {
          "color": [
           "#FF6B6B",
           "#4ECDC4",
           "#45B7D1",
           "#96CEB4"
          ]
         },
         "name": "Avg Bookings",
         "type": "bar",
         "x": [
          "Spring",
          "Summer",
          "Fall",
          "Winter"
         ],
         "xaxis": "x",
         "y": [
          103.97463768115942,
          145.92210144927537,
          103.96153846153847,
          73.75231053604436
         ],
         "yaxis": "y"
        },
        {
         "marker": {
          "color": [
           "#FF6B6B",
           "#4ECDC4",
           "#45B7D1",
           "#96CEB4"
          ]
         },
         "name": "Avg Occupancy %",
         "type": "bar",
         "x": [
          "Spring",
          "Summer",
          "Fall",
          "Winter"
         ],
         "xaxis": "x2",
         "y": [
          84.25714764440343,
          77.90586098911126,
          84.25913100385593,
          88.83312544725081
         ],
         "yaxis": "y2"
        },
        {
         "marker": {
          "color": [
           "#FF6B6B",
           "#4ECDC4",
           "#45B7D1",
           "#96CEB4"
          ]
         },
         "name": "Avg Price $",
         "type": "bar",
         "x": [
          "Spring",
          "Summer",
          "Fall",
          "Winter"
         ],
         "xaxis": "x3",
         "y": [
          554.9178621477992,
          771.1076748234688,
          552.8904990166501,
          391.72505156198065
         ],
         "yaxis": "y3"
        },
        {
         "line": {
          "width": 3
         },
         "mode": "lines+markers",
         "name": "Spring",
         "type": "scatter",
         "x": {
          "bdata": "AwAAAAQAAAAFAAAA",
          "dtype": "i4"
         },
         "xaxis": "x4",
         "y": {
          "bdata": "LLDAAgvsVkByHMdxHOdZQOecc845J11A",
          "dtype": "f8"
         },
         "yaxis": "y4"
        },
        {
         "line": {
          "width": 3
         },
         "mode": "lines+markers",
         "name": "Summer",
         "type": "scatter",
         "x": {
          "bdata": "BgAAAAcAAAAIAAAA",
          "dtype": "i4"
         },
         "xaxis": "x4",
         "y": {
          "bdata": "fdInfdKvYUC77LLLLjtjQMkjjzzyyGFA",
          "dtype": "f8"
         },
         "yaxis": "y4"
        },
        {
         "line": {
          "width": 3
         },
         "mode": "lines+markers",
         "name": "Fall",
         "type": "scatter",
         "x": {
          "bdata": "CQAAAAoAAAALAAAA",
          "dtype": "i4"
         },
         "xaxis": "x4",
         "y": {
          "bdata": "d3d3d3enXUBVVVVVVTVbQBdswRZsEVVA",
          "dtype": "f8"
         },
         "yaxis": "y4"
        },
        {
         "line": {
          "width": 3
         },
         "mode": "lines+markers",
         "name": "Winter",
         "type": "scatter",
         "x": {
          "bdata": "AQAAAAIAAAAMAAAA",
          "dtype": "i4"
         },
         "xaxis": "x4",
         "y": {
          "bdata": "9dNPP/0UUUDT7Surd0lUQP30008/HVJA",
          "dtype": "f8"
         },
         "yaxis": "y4"
        }
       ],
       "layout": {
        "annotations": [
         {
          "font": {
           "size": 16
          },
          "showarrow": false,
          "text": "Bookings by Season",
          "x": 0.225,
          "xanchor": "center",
          "xref": "paper",
          "y": 1,
          "yanchor": "bottom",
          "yref": "paper"
         },
         {
          "font": {
           "size": 16
          },
          "showarrow": false,
          "text": "Occupancy Rate by Season",
          "x": 0.775,
          "xanchor": "center",
          "xref": "paper",
          "y": 1,
          "yanchor": "bottom",
          "yref": "paper"
         },
         {
          "font": {
           "size": 16
          },
          "showarrow": false,
          "text": "Price Trends by Season",
          "x": 0.225,
          "xanchor": "center",
          "xref": "paper",
          "y": 0.375,
          "yanchor": "bottom",
          "yref": "paper"
         },
         {
          "font": {
           "size": 16
          },
          "showarrow": false,
          "text": "Seasonal Patterns",
          "x": 0.775,
          "xanchor": "center",
          "xref": "paper",
          "y": 0.375,
          "yanchor": "bottom",
          "yref": "paper"
         }
        ],
        "height": 800,
        "showlegend": true,
        "template": {
         "data": {
          "bar": [
           {
            "error_x": {
             "color": "#2a3f5f"
            },
            "error_y": {
             "color": "#2a3f5f"
            },
            "marker": {
             "line": {
              "color": "white",
              "width": 0.5
             },
             "pattern": {
              "fillmode": "overlay",
              "size": 10,
              "solidity": 0.2
             }
            },
            "type": "bar"
           }
          ],
          "barpolar": [
           {
            "marker": {
             "line": {
              "color": "white",
              "width": 0.5
             },
             "pattern": {
              "fillmode": "overlay",
              "size": 10,
              "solidity": 0.2
             }
            },
            "type": "barpolar"
           }
          ],
          "carpet": [
           {
            "aaxis": {
             "endlinecolor": "#2a3f5f",
             "gridcolor": "#C8D4E3",
             "linecolor": "#C8D4E3",
             "minorgridcolor": "#C8D4E3",
             "startlinecolor": "#2a3f5f"
            },
            "baxis": {
             "endlinecolor": "#2a3f5f",
             "gridcolor": "#C8D4E3",
             "linecolor": "#C8D4E3",
             "minorgridcolor": "#C8D4E3",
             "startlinecolor": "#2a3f5f"
            },
            "type": "carpet"
           }
          ],
          "choropleth": [
           {
            "colorbar": {
             "outlinewidth": 0,
             "ticks": ""
            },
            "type": "choropleth"
           }
          ],
          "contour": [
           {
            "colorbar": {
             "outlinewidth": 0,
             "ticks": ""
            },
            "colorscale": [
             [
              0,
              "#0d0887"
             ],
             [
              0.1111111111111111,
              "#46039f"
             ],
             [
              0.2222222222222222,
              "#7201a8"
             ],
             [
              0.3333333333333333,
              "#9c179e"
             ],
             [
              0.4444444444444444,
              "#bd3786"
             ],
             [
              0.5555555555555556,
              "#d8576b"
             ],
             [
              0.6666666666666666,
              "#ed7953"
             ],
             [
              0.7777777777777778,
              "#fb9f3a"
             ],
             [
              0.8888888888888888,
              "#fdca26"
             ],
             [
              1,
              "#f0f921"
             ]
            ],
            "type": "contour"
           }
          ],
          "contourcarpet": [
           {
            "colorbar": {
             "outlinewidth": 0,
             "ticks": ""
            },
            "type": "contourcarpet"
           }
          ],
          "heatmap": [
           {
            "colorbar": {
             "outlinewidth": 0,
             "ticks": ""
            },
            "colorscale": [
             [
              0,
              "#0d0887"
             ],
             [
              0.1111111111111111,
              "#46039f"
             ],
             [
              0.2222222222222222,
              "#7201a8"
             ],
             [
              0.3333333333333333,
              "#9c179e"
             ],
             [
              0.4444444444444444,
              "#bd3786"
             ],
             [
              0.5555555555555556,
              "#d8576b"
             ],
             [
              0.6666666666666666,
              "#ed7953"
             ],
             [
              0.7777777777777778,
              "#fb9f3a"
             ],
             [
              0.8888888888888888,
              "#fdca26"
             ],
             [
              1,
              "#f0f921"
             ]
            ],
            "type": "heatmap"
           }
          ],
          "histogram": [
           {
            "marker": {
             "pattern": {
              "fillmode": "overlay",
              "size": 10,
              "solidity": 0.2
             }
            },
            "type": "histogram"
           }
          ],
          "histogram2d": [
           {
            "colorbar": {
             "outlinewidth": 0,
             "ticks": ""
            },
            "colorscale": [
             [
              0,
              "#0d0887"
             ],
             [
              0.1111111111111111,
              "#46039f"
             ],
             [
              0.2222222222222222,
              "#7201a8"
             ],
             [
              0.3333333333333333,
              "#9c179e"
             ],
             [
              0.4444444444444444,
              "#bd3786"
             ],
             [
              0.5555555555555556,
              "#d8576b"
             ],
             [
              0.6666666666666666,
              "#ed7953"
             ],
             [
              0.7777777777777778,
              "#fb9f3a"
             ],
             [
              0.8888888888888888,
              "#fdca26"
             ],
             [
              1,
              "#f0f921"
             ]
            ],
            "type": "histogram2d"
           }
          ],
          "histogram2dcontour": [
           {
            "colorbar": {
             "outlinewidth": 0,
             "ticks": ""
            },
            "colorscale": [
             [
              0,
              "#0d0887"
             ],
             [
              0.1111111111111111,
              "#46039f"
             ],
             [
              0.2222222222222222,
              "#7201a8"
             ],
             [
              0.3333333333333333,
              "#9c179e"
             ],
             [
              0.4444444444444444,
              "#bd3786"
             ],
             [
              0.5555555555555556,
              "#d8576b"
             ],
             [
              0.6666666666666666,
              "#ed7953"
             ],
             [
              0.7777777777777778,
              "#fb9f3a"
             ],
             [
              0.8888888888888888,
              "#fdca26"
             ],
             [
              1,
              "#f0f921"
             ]
            ],
            "type": "histogram2dcontour"
           }
          ],
          "mesh3d": [
           {
            "colorbar": {
             "outlinewidth": 0,
             "ticks": ""
            },
            "type": "mesh3d"
           }
          ],
          "parcoords": [
           {
            "line": {
             "colorbar": {
              "outlinewidth": 0,
              "ticks": ""
             }
            },
            "type": "parcoords"
           }
          ],
          "pie": [
           {
            "automargin": true,
            "type": "pie"
           }
          ],
          "scatter": [
           {
            "fillpattern": {
             "fillmode": "overlay",
             "size": 10,
             "solidity": 0.2
            },
            "type": "scatter"
           }
          ],
          "scatter3d": [
           {
            "line": {
             "colorbar": {
              "outlinewidth": 0,
              "ticks": ""
             }
            },
            "marker": {
             "colorbar": {
              "outlinewidth": 0,
              "ticks": ""
             }
            },
            "type": "scatter3d"
           }
          ],
          "scattercarpet": [
           {
            "marker": {
             "colorbar": {
              "outlinewidth": 0,
              "ticks": ""
             }
            },
            "type": "scattercarpet"
           }
          ],
          "scattergeo": [
           {
            "marker": {
             "colorbar": {
              "outlinewidth": 0,
              "ticks": ""
             }
            },
            "type": "scattergeo"
           }
          ],
          "scattergl": [
           {
            "marker": {
             "colorbar": {
              "outlinewidth": 0,
              "ticks": ""
             }
            },
            "type": "scattergl"
           }
          ],
          "scattermap": [
           {
            "marker": {
             "colorbar": {
              "outlinewidth": 0,
              "ticks": ""
             }
            },
            "type": "scattermap"
           }
          ],
          "scattermapbox": [
           {
            "marker": {
             "colorbar": {
              "outlinewidth": 0,
              "ticks": ""
             }
            },
            "type": "scattermapbox"
           }
          ],
          "scatterpolar": [
           {
            "marker": {
             "colorbar": {
              "outlinewidth": 0,
              "ticks": ""
             }
            },
            "type": "scatterpolar"
           }
          ],
          "scatterpolargl": [
           {
            "marker": {
             "colorbar": {
              "outlinewidth": 0,
              "ticks": ""
             }
            },
            "type": "scatterpolargl"
           }
          ],
          "scatterternary": [
           {
            "marker": {
             "colorbar": {
              "outlinewidth": 0,
              "ticks": ""
             }
            },
            "type": "scatterternary"
           }
          ],
          "surface": [
           {
            "colorbar": {
             "outlinewidth": 0,
             "ticks": ""
            },
            "colorscale": [
             [
              0,
              "#0d0887"
             ],
             [
              0.1111111111111111,
              "#46039f"
             ],
             [
              0.2222222222222222,
              "#7201a8"
             ],
             [
              0.3333333333333333,
              "#9c179e"
             ],
             [
              0.4444444444444444,
              "#bd3786"
             ],
             [
              0.5555555555555556,
              "#d8576b"
             ],
             [
              0.6666666666666666,
              "#ed7953"
             ],
             [
              0.7777777777777778,
              "#fb9f3a"
             ],
             [
              0.8888888888888888,
              "#fdca26"
             ],
             [
              1,
              "#f0f921"
             ]
            ],
            "type": "surface"
           }
          ],
          "table": [
           {
            "cells": {
             "fill": {
              "color": "#EBF0F8"
             },
             "line": {
              "color": "white"
             }
            },
            "header": {
             "fill": {
              "color": "#C8D4E3"
             },
             "line": {
              "color": "white"
             }
            },
            "type": "table"
           }
          ]
         },
         "layout": {
          "annotationdefaults": {
           "arrowcolor": "#2a3f5f",
           "arrowhead": 0,
           "arrowwidth": 1
          },
          "autotypenumbers": "strict",
          "coloraxis": {
           "colorbar": {
            "outlinewidth": 0,
            "ticks": ""
           }
          },
          "colorscale": {
           "diverging": [
            [
             0,
             "#8e0152"
            ],
            [
             0.1,
             "#c51b7d"
            ],
            [
             0.2,
             "#de77ae"
            ],
            [
             0.3,
             "#f1b6da"
            ],
            [
             0.4,
             "#fde0ef"
            ],
            [
             0.5,
             "#f7f7f7"
            ],
            [
             0.6,
             "#e6f5d0"
            ],
            [
             0.7,
             "#b8e186"
            ],
            [
             0.8,
             "#7fbc41"
            ],
            [
             0.9,
             "#4d9221"
            ],
            [
             1,
             "#276419"
            ]
           ],
           "sequential": [
            [
             0,
             "#0d0887"
            ],
            [
             0.1111111111111111,
             "#46039f"
            ],
            [
             0.2222222222222222,
             "#7201a8"
            ],
            [
             0.3333333333333333,
             "#9c179e"
            ],
            [
             0.4444444444444444,
             "#bd3786"
            ],
            [
             0.5555555555555556,
             "#d8576b"
            ],
            [
             0.6666666666666666,
             "#ed7953"
            ],
            [
             0.7777777777777778,
             "#fb9f3a"
            ],
            [
             0.8888888888888888,
             "#fdca26"
            ],
            [
             1,
             "#f0f921"
            ]
           ],
           "sequentialminus": [
            [
             0,
             "#0d0887"
            ],
            [
             0.1111111111111111,
             "#46039f"
            ],
            [
             0.2222222222222222,
             "#7201a8"
            ],
            [
             0.3333333333333333,
             "#9c179e"
            ],
            [
             0.4444444444444444,
             "#bd3786"
            ],
            [
             0.5555555555555556,
             "#d8576b"
            ],
            [
             0.6666666666666666,
             "#ed7953"
            ],
            [
             0.7777777777777778,
             "#fb9f3a"
            ],
            [
             0.8888888888888888,
             "#fdca26"
            ],
            [
             1,
             "#f0f921"
            ]
           ]
          },
          "colorway": [
           "#636efa",
           "#EF553B",
           "#00cc96",
           "#ab63fa",
           "#FFA15A",
           "#19d3f3",
           "#FF6692",
           "#B6E880",
           "#FF97FF",
           "#FECB52"
          ],
          "font": {
           "color": "#2a3f5f"
          },
          "geo": {
           "bgcolor": "white",
           "lakecolor": "white",
           "landcolor": "white",
           "showlakes": true,
           "showland": true,
           "subunitcolor": "#C8D4E3"
          },
          "hoverlabel": {
           "align": "left"
          },
          "hovermode": "closest",
          "mapbox": {
           "style": "light"
          },
          "paper_bgcolor": "white",
          "plot_bgcolor": "white",
          "polar": {
           "angularaxis": {
            "gridcolor": "#EBF0F8",
            "linecolor": "#EBF0F8",
            "ticks": ""
           },
           "bgcolor": "white",
           "radialaxis": {
            "gridcolor": "#EBF0F8",
            "linecolor": "#EBF0F8",
            "ticks": ""
           }
          },
          "scene": {
           "xaxis": {
            "backgroundcolor": "white",
            "gridcolor": "#DFE8F3",
            "gridwidth": 2,
            "linecolor": "#EBF0F8",
            "showbackground": true,
            "ticks": "",
            "zerolinecolor": "#EBF0F8"
           },
           "yaxis": {
            "backgroundcolor": "white",
            "gridcolor": "#DFE8F3",
            "gridwidth": 2,
            "linecolor": "#EBF0F8",
            "showbackground": true,
            "ticks": "",
            "zerolinecolor": "#EBF0F8"
           },
           "zaxis": {
            "backgroundcolor": "white",
            "gridcolor": "#DFE8F3",
            "gridwidth": 2,
            "linecolor": "#EBF0F8",
            "showbackground": true,
            "ticks": "",
            "zerolinecolor": "#EBF0F8"
           }
          },
          "shapedefaults": {
           "line": {
            "color": "#2a3f5f"
           }
          },
          "ternary": {
           "aaxis": {
            "gridcolor": "#DFE8F3",
            "linecolor": "#A2B1C6",
            "ticks": ""
           },
           "baxis": {
            "gridcolor": "#DFE8F3",
            "linecolor": "#A2B1C6",
            "ticks": ""
           },
           "bgcolor": "white",
           "caxis": {
            "gridcolor": "#DFE8F3",
            "linecolor": "#A2B1C6",
            "ticks": ""
           }
          },
          "title": {
           "x": 0.05
          },
          "xaxis": {
           "automargin": true,
           "gridcolor": "#EBF0F8",
           "linecolor": "#EBF0F8",
           "ticks": "",
           "title": {
            "standoff": 15
           },
           "zerolinecolor": "#EBF0F8",
           "zerolinewidth": 2
          },
          "yaxis": {
           "automargin": true,
           "gridcolor": "#EBF0F8",
           "linecolor": "#EBF0F8",
           "ticks": "",
           "title": {
            "standoff": 15
           },
           "zerolinecolor": "#EBF0F8",
           "zerolinewidth": 2
          }
         }
        },
        "title": {
         "text": "Seasonal Filters Analysis"
        },
        "xaxis": {
         "anchor": "y",
         "domain": [
          0,
          0.45
         ],
         "title": {
          "text": "Season"
         }
        },
        "xaxis2": {
         "anchor": "y2",
         "domain": [
          0.55,
          1
         ],
         "title": {
          "text": "Season"
         }
        },
        "xaxis3": {
         "anchor": "y3",
         "domain": [
          0,
          0.45
         ],
         "title": {
          "text": "Season"
         }
        },
        "xaxis4": {
         "anchor": "y4",
         "domain": [
          0.55,
          1
         ],
         "title": {
          "text": "Month"
         }
        },
        "yaxis": {
         "anchor": "x",
         "domain": [
          0.625,
          1
         ],
         "title": {
          "text": "Average Bookings"
         }
        },
        "yaxis2": {
         "anchor": "x2",
         "domain": [
          0.625,
          1
         ],
         "title": {
          "text": "Occupancy Rate %"
         }
        },
        "yaxis3": {
         "anchor": "x3",
         "domain": [
          0,
          0.375
         ],
         "title": {
          "text": "Average Price $"
         }
        },
        "yaxis4": {
         "anchor": "x4",
         "domain": [
          0,
          0.375
         ],
         "title": {
          "text": "Bookings"
         }
        }
       }
      }
     },
     "metadata": {},
     "output_type": "display_data"
    },
    {
     "name": "stdout",
     "output_type": "stream",
     "text": [
      "✅ Seasonal filters created successfully!\n"
     ]
    }
   ],
   "source": [
    "# Seasonal Filters Implementation\n",
    "print(\"🌍 Creating seasonal filters for detailed analysis...\")\n",
    "\n",
    "def create_seasonal_filters(ts_data):\n",
    "    \"\"\"\n",
    "    Create detailed seasonal analysis with filters for each season\n",
    "    \"\"\"\n",
    "    \n",
    "    seasonal_filters = {}\n",
    "    \n",
    "    for season in ['Spring', 'Summer', 'Fall', 'Winter']:\n",
    "        # Filter data for specific season\n",
    "        season_data = ts_data[ts_data['season'] == season].copy()\n",
    "        \n",
    "        # Calculate season-specific statistics\n",
    "        seasonal_stats = {\n",
    "            'avg_bookings': season_data['bookings'].mean(),\n",
    "            'std_bookings': season_data['bookings'].std(),\n",
    "            'avg_occupancy': season_data['occupancy_rate'].mean(),\n",
    "            'avg_price': season_data['avg_price'].mean(),\n",
    "            'peak_month': season_data.groupby('month')['bookings'].mean().idxmax(),\n",
    "            'lowest_month': season_data.groupby('month')['bookings'].mean().idxmin(),\n",
    "            'weekend_boost': season_data[season_data['day_of_week'].isin([5, 6])]['bookings'].mean() / \n",
    "                           season_data[season_data['day_of_week'].isin([0, 1, 2, 3, 4])]['bookings'].mean()\n",
    "        }\n",
    "        \n",
    "        seasonal_filters[season] = {\n",
    "            'data': season_data,\n",
    "            'stats': seasonal_stats\n",
    "        }\n",
    "    \n",
    "    return seasonal_filters\n",
    "\n",
    "# Create seasonal filters\n",
    "seasonal_filters = create_seasonal_filters(ts_data)\n",
    "\n",
    "# Display seasonal insights\n",
    "print(\"📊 Seasonal Analysis Summary:\")\n",
    "print(\"=\" * 50)\n",
    "\n",
    "for season, data in seasonal_filters.items():\n",
    "    stats = data['stats']\n",
    "    print(f\"\\n🌿 {season.upper()} SEASON:\")\n",
    "    print(f\"   📈 Average Bookings: {stats['avg_bookings']:.1f}\")\n",
    "    print(f\"   🏠 Average Occupancy: {stats['avg_occupancy']:.1f}%\")\n",
    "    print(f\"   💰 Average Price: ${stats['avg_price']:.0f}\")\n",
    "    print(f\"   📅 Peak Month: {stats['peak_month']}\")\n",
    "    print(f\"   📉 Lowest Month: {stats['lowest_month']}\")\n",
    "    print(f\"   🎉 Weekend Boost: {stats['weekend_boost']:.2f}x\")\n",
    "\n",
    "# Create seasonal comparison visualization\n",
    "fig = make_subplots(\n",
    "    rows=2, cols=2,\n",
    "    subplot_titles=('Bookings by Season', 'Occupancy Rate by Season', \n",
    "                   'Price Trends by Season', 'Seasonal Patterns'),\n",
    "    specs=[[{\"secondary_y\": False}, {\"secondary_y\": False}],\n",
    "           [{\"secondary_y\": False}, {\"secondary_y\": False}]]\n",
    ")\n",
    "\n",
    "# 1. Bookings by Season\n",
    "seasons = list(seasonal_filters.keys())\n",
    "avg_bookings = [seasonal_filters[s]['stats']['avg_bookings'] for s in seasons]\n",
    "fig.add_trace(\n",
    "    go.Bar(x=seasons, y=avg_bookings, name='Avg Bookings', \n",
    "           marker_color=['#FF6B6B', '#4ECDC4', '#45B7D1', '#96CEB4']),\n",
    "    row=1, col=1\n",
    ")\n",
    "\n",
    "# 2. Occupancy Rate by Season\n",
    "avg_occupancy = [seasonal_filters[s]['stats']['avg_occupancy'] for s in seasons]\n",
    "fig.add_trace(\n",
    "    go.Bar(x=seasons, y=avg_occupancy, name='Avg Occupancy %', \n",
    "           marker_color=['#FF6B6B', '#4ECDC4', '#45B7D1', '#96CEB4']),\n",
    "    row=1, col=2\n",
    ")\n",
    "\n",
    "# 3. Price Trends by Season\n",
    "avg_prices = [seasonal_filters[s]['stats']['avg_price'] for s in seasons]\n",
    "fig.add_trace(\n",
    "    go.Bar(x=seasons, y=avg_prices, name='Avg Price $', \n",
    "           marker_color=['#FF6B6B', '#4ECDC4', '#45B7D1', '#96CEB4']),\n",
    "    row=2, col=1\n",
    ")\n",
    "\n",
    "# 4. Seasonal Patterns (monthly breakdown)\n",
    "monthly_seasonal = ts_data.groupby(['month', 'season'])['bookings'].mean().reset_index()\n",
    "for season in seasons:\n",
    "    season_monthly = monthly_seasonal[monthly_seasonal['season'] == season]\n",
    "    fig.add_trace(\n",
    "        go.Scatter(x=season_monthly['month'], y=season_monthly['bookings'], \n",
    "                   mode='lines+markers', name=season,\n",
    "                   line=dict(width=3)),\n",
    "        row=2, col=2\n",
    "    )\n",
    "\n",
    "# Update layout\n",
    "fig.update_layout(\n",
    "    height=800,\n",
    "    title_text=\"Seasonal Filters Analysis\",\n",
    "    showlegend=True,\n",
    "    template=\"plotly_white\"\n",
    ")\n",
    "\n",
    "# Update axes labels\n",
    "fig.update_xaxes(title_text=\"Season\", row=1, col=1)\n",
    "fig.update_xaxes(title_text=\"Season\", row=1, col=2)\n",
    "fig.update_xaxes(title_text=\"Season\", row=2, col=1)\n",
    "fig.update_xaxes(title_text=\"Month\", row=2, col=2)\n",
    "\n",
    "fig.update_yaxes(title_text=\"Average Bookings\", row=1, col=1)\n",
    "fig.update_yaxes(title_text=\"Occupancy Rate %\", row=1, col=2)\n",
    "fig.update_yaxes(title_text=\"Average Price $\", row=2, col=1)\n",
    "fig.update_yaxes(title_text=\"Bookings\", row=2, col=2)\n",
    "\n",
    "fig.show()\n",
    "\n",
    "print(\"✅ Seasonal filters created successfully!\")\n"
   ]
  },
  {
   "cell_type": "code",
   "execution_count": 25,
   "id": "48fb9cdc",
   "metadata": {},
   "outputs": [
    {
     "name": "stdout",
     "output_type": "stream",
     "text": [
      "🔮 Generating future forecasts and business recommendations...\n",
      "📋 BUSINESS RECOMMENDATIONS BY SEASON:\n",
      "============================================================\n",
      "\n",
      "🌿 SPRING SEASON RECOMMENDATIONS:\n",
      "   💰 Pricing Strategy: Gradual price increase as demand grows\n",
      "   📢 Marketing Focus: Promote spring activities and events\n",
      "   📊 Capacity Planning: Moderate capacity (104 bookings)\n",
      "   💵 Revenue Optimization: Target weekend getaways and events\n",
      "\n",
      "🌿 SUMMER SEASON RECOMMENDATIONS:\n",
      "   💰 Pricing Strategy: Increase prices by 15-20% (avg: $771)\n",
      "   📢 Marketing Focus: Focus on tourist attractions and outdoor activities\n",
      "   📊 Capacity Planning: Prepare for peak demand (146 bookings)\n",
      "   💵 Revenue Optimization: Maximize weekend bookings (1.2x boost)\n",
      "\n",
      "🌿 FALL SEASON RECOMMENDATIONS:\n",
      "   💰 Pricing Strategy: Maintain competitive pricing ($553)\n",
      "   📢 Marketing Focus: Focus on business travelers and conferences\n",
      "   📊 Capacity Planning: Stable capacity (104 bookings)\n",
      "   💵 Revenue Optimization: Balance leisure and business travelers\n",
      "\n",
      "🌿 WINTER SEASON RECOMMENDATIONS:\n",
      "   💰 Pricing Strategy: Reduce prices by 10-15% to maintain occupancy\n",
      "   📢 Marketing Focus: Target business travelers and holiday events\n",
      "   📊 Capacity Planning: Lower capacity expectations (74 bookings)\n",
      "   💵 Revenue Optimization: Focus on longer stays and corporate bookings\n"
     ]
    },
    {
     "data": {
      "application/vnd.plotly.v1+json": {
       "config": {
        "plotlyServerURL": "https://plot.ly"
       },
       "data": [
        {
         "line": {
          "color": "blue"
         },
         "mode": "lines",
         "name": "Historical Data",
         "type": "scatter",
         "x": [
          "2017-01-01T00:00:00.000000000",
          "2017-02-01T00:00:00.000000000",
          "2017-03-01T00:00:00.000000000",
          "2017-04-01T00:00:00.000000000",
          "2017-05-01T00:00:00.000000000",
          "2017-06-01T00:00:00.000000000",
          "2017-07-01T00:00:00.000000000",
          "2017-08-01T00:00:00.000000000",
          "2017-09-01T00:00:00.000000000",
          "2017-10-01T00:00:00.000000000",
          "2017-11-01T00:00:00.000000000",
          "2017-12-01T00:00:00.000000000",
          "2018-01-01T00:00:00.000000000",
          "2018-02-01T00:00:00.000000000",
          "2018-03-01T00:00:00.000000000",
          "2018-04-01T00:00:00.000000000",
          "2018-05-01T00:00:00.000000000",
          "2018-06-01T00:00:00.000000000",
          "2018-07-01T00:00:00.000000000",
          "2018-08-01T00:00:00.000000000",
          "2018-09-01T00:00:00.000000000",
          "2018-10-01T00:00:00.000000000",
          "2018-11-01T00:00:00.000000000",
          "2018-12-01T00:00:00.000000000",
          "2019-01-01T00:00:00.000000000",
          "2019-02-01T00:00:00.000000000",
          "2019-03-01T00:00:00.000000000",
          "2019-04-01T00:00:00.000000000",
          "2019-05-01T00:00:00.000000000",
          "2019-06-01T00:00:00.000000000",
          "2019-07-01T00:00:00.000000000",
          "2019-08-01T00:00:00.000000000",
          "2019-09-01T00:00:00.000000000",
          "2019-10-01T00:00:00.000000000",
          "2019-11-01T00:00:00.000000000",
          "2019-12-01T00:00:00.000000000",
          "2020-01-01T00:00:00.000000000",
          "2020-02-01T00:00:00.000000000",
          "2020-03-01T00:00:00.000000000",
          "2020-04-01T00:00:00.000000000",
          "2020-05-01T00:00:00.000000000",
          "2020-06-01T00:00:00.000000000",
          "2020-07-01T00:00:00.000000000",
          "2020-08-01T00:00:00.000000000",
          "2020-09-01T00:00:00.000000000",
          "2020-10-01T00:00:00.000000000",
          "2020-11-01T00:00:00.000000000",
          "2020-12-01T00:00:00.000000000",
          "2021-01-01T00:00:00.000000000",
          "2021-02-01T00:00:00.000000000",
          "2021-03-01T00:00:00.000000000",
          "2021-04-01T00:00:00.000000000",
          "2021-05-01T00:00:00.000000000",
          "2021-06-01T00:00:00.000000000",
          "2021-07-01T00:00:00.000000000",
          "2021-08-01T00:00:00.000000000",
          "2021-09-01T00:00:00.000000000",
          "2021-10-01T00:00:00.000000000",
          "2021-11-01T00:00:00.000000000",
          "2021-12-01T00:00:00.000000000",
          "2022-01-01T00:00:00.000000000",
          "2022-02-01T00:00:00.000000000",
          "2022-03-01T00:00:00.000000000",
          "2022-04-01T00:00:00.000000000",
          "2022-05-01T00:00:00.000000000",
          "2022-06-01T00:00:00.000000000",
          "2022-07-01T00:00:00.000000000",
          "2022-08-01T00:00:00.000000000",
          "2022-09-01T00:00:00.000000000",
          "2022-10-01T00:00:00.000000000",
          "2022-11-01T00:00:00.000000000",
          "2022-12-01T00:00:00.000000000"
         ],
         "xaxis": "x",
         "y": {
          "bdata": "ttZaa601S0CSJEmSJClQQHTOOeec81JAIiIiIiICVkBba6211ppXQERERERExF1A11prrbVWYEBjjDHGGCNdQKuqqqqqylhAMsYYY4yxVkC8u7u7u/tRQCmllFJKqU5ASimllFLKTkAAAAAAAFBSQGOMMcYYI1RARERERERkV0A655xzznlZQKuqqqqq6l5Avvfee+89YUD43nvvvfdfQM3MzMzMzFtAOuecc855V0C8u7u7u9tSQHTOOeecM1BAvvfee++9T0C3bdu2bRtUQLbWWmuttVZA7+7u7u4uWUAIIYQQQkhcQKuqqqqq6mFA11prrbU2YkC+9957731hQHd3d3d3l1xAa6211lprWkDNzMzMzKxUQL733nvvvVFACCGEEEIIUkCoEZZ7GuFUQKWUUkopJVhAMzMzMzNTWkDGGGOMMQZfQGZmZmZmBmJApZRSSimFY0CMMcYYY6xiQBERERERsV1ASimllFJKXEDe3d3d3V1WQKWUUkopZVNAY4wxxhgjU0Dbtm3btt1WQO+9995771hAzczMzMzsW0CttdZaaw1gQEREREREhGNAlVJKKaVUZUDXWmuttdZjQDMzMzMzY2BAQgghhBCCXkAREREREXFWQEIIIYQQAlNAdM4555xzVEAAAAAAAGBXQOecc845p1pAVVVVVVWVXkDXWmuttTZhQCIiIiIiUmRAvvfee++9ZkDnnHPOOSdkQDMzMzMzI2FAnXPOOefcX0BVVVVVVRVYQEIIIYQQAlVA",
          "dtype": "f8"
         },
         "yaxis": "y"
        },
        {
         "line": {
          "color": "red",
          "dash": "dash"
         },
         "mode": "lines+markers",
         "name": "Future Forecast",
         "type": "scatter",
         "x": [
          "2023-01-31T00:00:00.000000000",
          "2023-02-28T00:00:00.000000000",
          "2023-03-31T00:00:00.000000000",
          "2023-04-30T00:00:00.000000000",
          "2023-05-31T00:00:00.000000000",
          "2023-06-30T00:00:00.000000000",
          "2023-07-31T00:00:00.000000000",
          "2023-08-31T00:00:00.000000000",
          "2023-09-30T00:00:00.000000000",
          "2023-10-31T00:00:00.000000000",
          "2023-11-30T00:00:00.000000000",
          "2023-12-31T00:00:00.000000000"
         ],
         "xaxis": "x",
         "y": {
          "bdata": "cbKd0GmdWEAIiYd0JilcQC/eetC3dl5AD/8l+QOmYEB54ujDuMtiQL1Mk67REGZAv0NRVifVZ0B0buiTI3ZmQDn5OM3S7mJAXjtFJz8eYkDzIu8O6FxeQJdOrm7AY1tA",
          "dtype": "f8"
         },
         "yaxis": "y"
        },
        {
         "marker": {
          "color": [
           "#FF6B6B",
           "#4ECDC4",
           "#45B7D1",
           "#96CEB4"
          ]
         },
         "name": "Projected Revenue",
         "type": "bar",
         "x": [
          "Spring",
          "Summer",
          "Fall",
          "Winter"
         ],
         "xaxis": "x2",
         "y": [
          57697.38365962099,
          112521.65235390505,
          57479.346878538665,
          28890.627647547186
         ],
         "yaxis": "y2"
        },
        {
         "marker": {
          "color": "lightblue"
         },
         "name": "RMSE",
         "type": "bar",
         "x": [
          "ARIMA",
          "SARIMA"
         ],
         "xaxis": "x3",
         "y": [
          40.543947657817704,
          8.358454161359795
         ],
         "yaxis": "y3"
        },
        {
         "marker": {
          "color": "lightgreen"
         },
         "name": "Priority Score",
         "type": "bar",
         "x": [
          "Pricing",
          "Marketing",
          "Capacity",
          "Revenue"
         ],
         "xaxis": "x4",
         "y": [
          4,
          3,
          4,
          3
         ],
         "yaxis": "y4"
        }
       ],
       "layout": {
        "annotations": [
         {
          "font": {
           "size": 16
          },
          "showarrow": false,
          "text": "12-Month Future Forecast",
          "x": 0.225,
          "xanchor": "center",
          "xref": "paper",
          "y": 1,
          "yanchor": "bottom",
          "yref": "paper"
         },
         {
          "font": {
           "size": 16
          },
          "showarrow": false,
          "text": "Seasonal Revenue Projections",
          "x": 0.775,
          "xanchor": "center",
          "xref": "paper",
          "y": 1,
          "yanchor": "bottom",
          "yref": "paper"
         },
         {
          "font": {
           "size": 16
          },
          "showarrow": false,
          "text": "Forecasting Model Performance",
          "x": 0.225,
          "xanchor": "center",
          "xref": "paper",
          "y": 0.375,
          "yanchor": "bottom",
          "yref": "paper"
         },
         {
          "font": {
           "size": 16
          },
          "showarrow": false,
          "text": "Business Recommendations Summary",
          "x": 0.775,
          "xanchor": "center",
          "xref": "paper",
          "y": 0.375,
          "yanchor": "bottom",
          "yref": "paper"
         }
        ],
        "height": 800,
        "showlegend": true,
        "template": {
         "data": {
          "bar": [
           {
            "error_x": {
             "color": "#2a3f5f"
            },
            "error_y": {
             "color": "#2a3f5f"
            },
            "marker": {
             "line": {
              "color": "white",
              "width": 0.5
             },
             "pattern": {
              "fillmode": "overlay",
              "size": 10,
              "solidity": 0.2
             }
            },
            "type": "bar"
           }
          ],
          "barpolar": [
           {
            "marker": {
             "line": {
              "color": "white",
              "width": 0.5
             },
             "pattern": {
              "fillmode": "overlay",
              "size": 10,
              "solidity": 0.2
             }
            },
            "type": "barpolar"
           }
          ],
          "carpet": [
           {
            "aaxis": {
             "endlinecolor": "#2a3f5f",
             "gridcolor": "#C8D4E3",
             "linecolor": "#C8D4E3",
             "minorgridcolor": "#C8D4E3",
             "startlinecolor": "#2a3f5f"
            },
            "baxis": {
             "endlinecolor": "#2a3f5f",
             "gridcolor": "#C8D4E3",
             "linecolor": "#C8D4E3",
             "minorgridcolor": "#C8D4E3",
             "startlinecolor": "#2a3f5f"
            },
            "type": "carpet"
           }
          ],
          "choropleth": [
           {
            "colorbar": {
             "outlinewidth": 0,
             "ticks": ""
            },
            "type": "choropleth"
           }
          ],
          "contour": [
           {
            "colorbar": {
             "outlinewidth": 0,
             "ticks": ""
            },
            "colorscale": [
             [
              0,
              "#0d0887"
             ],
             [
              0.1111111111111111,
              "#46039f"
             ],
             [
              0.2222222222222222,
              "#7201a8"
             ],
             [
              0.3333333333333333,
              "#9c179e"
             ],
             [
              0.4444444444444444,
              "#bd3786"
             ],
             [
              0.5555555555555556,
              "#d8576b"
             ],
             [
              0.6666666666666666,
              "#ed7953"
             ],
             [
              0.7777777777777778,
              "#fb9f3a"
             ],
             [
              0.8888888888888888,
              "#fdca26"
             ],
             [
              1,
              "#f0f921"
             ]
            ],
            "type": "contour"
           }
          ],
          "contourcarpet": [
           {
            "colorbar": {
             "outlinewidth": 0,
             "ticks": ""
            },
            "type": "contourcarpet"
           }
          ],
          "heatmap": [
           {
            "colorbar": {
             "outlinewidth": 0,
             "ticks": ""
            },
            "colorscale": [
             [
              0,
              "#0d0887"
             ],
             [
              0.1111111111111111,
              "#46039f"
             ],
             [
              0.2222222222222222,
              "#7201a8"
             ],
             [
              0.3333333333333333,
              "#9c179e"
             ],
             [
              0.4444444444444444,
              "#bd3786"
             ],
             [
              0.5555555555555556,
              "#d8576b"
             ],
             [
              0.6666666666666666,
              "#ed7953"
             ],
             [
              0.7777777777777778,
              "#fb9f3a"
             ],
             [
              0.8888888888888888,
              "#fdca26"
             ],
             [
              1,
              "#f0f921"
             ]
            ],
            "type": "heatmap"
           }
          ],
          "histogram": [
           {
            "marker": {
             "pattern": {
              "fillmode": "overlay",
              "size": 10,
              "solidity": 0.2
             }
            },
            "type": "histogram"
           }
          ],
          "histogram2d": [
           {
            "colorbar": {
             "outlinewidth": 0,
             "ticks": ""
            },
            "colorscale": [
             [
              0,
              "#0d0887"
             ],
             [
              0.1111111111111111,
              "#46039f"
             ],
             [
              0.2222222222222222,
              "#7201a8"
             ],
             [
              0.3333333333333333,
              "#9c179e"
             ],
             [
              0.4444444444444444,
              "#bd3786"
             ],
             [
              0.5555555555555556,
              "#d8576b"
             ],
             [
              0.6666666666666666,
              "#ed7953"
             ],
             [
              0.7777777777777778,
              "#fb9f3a"
             ],
             [
              0.8888888888888888,
              "#fdca26"
             ],
             [
              1,
              "#f0f921"
             ]
            ],
            "type": "histogram2d"
           }
          ],
          "histogram2dcontour": [
           {
            "colorbar": {
             "outlinewidth": 0,
             "ticks": ""
            },
            "colorscale": [
             [
              0,
              "#0d0887"
             ],
             [
              0.1111111111111111,
              "#46039f"
             ],
             [
              0.2222222222222222,
              "#7201a8"
             ],
             [
              0.3333333333333333,
              "#9c179e"
             ],
             [
              0.4444444444444444,
              "#bd3786"
             ],
             [
              0.5555555555555556,
              "#d8576b"
             ],
             [
              0.6666666666666666,
              "#ed7953"
             ],
             [
              0.7777777777777778,
              "#fb9f3a"
             ],
             [
              0.8888888888888888,
              "#fdca26"
             ],
             [
              1,
              "#f0f921"
             ]
            ],
            "type": "histogram2dcontour"
           }
          ],
          "mesh3d": [
           {
            "colorbar": {
             "outlinewidth": 0,
             "ticks": ""
            },
            "type": "mesh3d"
           }
          ],
          "parcoords": [
           {
            "line": {
             "colorbar": {
              "outlinewidth": 0,
              "ticks": ""
             }
            },
            "type": "parcoords"
           }
          ],
          "pie": [
           {
            "automargin": true,
            "type": "pie"
           }
          ],
          "scatter": [
           {
            "fillpattern": {
             "fillmode": "overlay",
             "size": 10,
             "solidity": 0.2
            },
            "type": "scatter"
           }
          ],
          "scatter3d": [
           {
            "line": {
             "colorbar": {
              "outlinewidth": 0,
              "ticks": ""
             }
            },
            "marker": {
             "colorbar": {
              "outlinewidth": 0,
              "ticks": ""
             }
            },
            "type": "scatter3d"
           }
          ],
          "scattercarpet": [
           {
            "marker": {
             "colorbar": {
              "outlinewidth": 0,
              "ticks": ""
             }
            },
            "type": "scattercarpet"
           }
          ],
          "scattergeo": [
           {
            "marker": {
             "colorbar": {
              "outlinewidth": 0,
              "ticks": ""
             }
            },
            "type": "scattergeo"
           }
          ],
          "scattergl": [
           {
            "marker": {
             "colorbar": {
              "outlinewidth": 0,
              "ticks": ""
             }
            },
            "type": "scattergl"
           }
          ],
          "scattermap": [
           {
            "marker": {
             "colorbar": {
              "outlinewidth": 0,
              "ticks": ""
             }
            },
            "type": "scattermap"
           }
          ],
          "scattermapbox": [
           {
            "marker": {
             "colorbar": {
              "outlinewidth": 0,
              "ticks": ""
             }
            },
            "type": "scattermapbox"
           }
          ],
          "scatterpolar": [
           {
            "marker": {
             "colorbar": {
              "outlinewidth": 0,
              "ticks": ""
             }
            },
            "type": "scatterpolar"
           }
          ],
          "scatterpolargl": [
           {
            "marker": {
             "colorbar": {
              "outlinewidth": 0,
              "ticks": ""
             }
            },
            "type": "scatterpolargl"
           }
          ],
          "scatterternary": [
           {
            "marker": {
             "colorbar": {
              "outlinewidth": 0,
              "ticks": ""
             }
            },
            "type": "scatterternary"
           }
          ],
          "surface": [
           {
            "colorbar": {
             "outlinewidth": 0,
             "ticks": ""
            },
            "colorscale": [
             [
              0,
              "#0d0887"
             ],
             [
              0.1111111111111111,
              "#46039f"
             ],
             [
              0.2222222222222222,
              "#7201a8"
             ],
             [
              0.3333333333333333,
              "#9c179e"
             ],
             [
              0.4444444444444444,
              "#bd3786"
             ],
             [
              0.5555555555555556,
              "#d8576b"
             ],
             [
              0.6666666666666666,
              "#ed7953"
             ],
             [
              0.7777777777777778,
              "#fb9f3a"
             ],
             [
              0.8888888888888888,
              "#fdca26"
             ],
             [
              1,
              "#f0f921"
             ]
            ],
            "type": "surface"
           }
          ],
          "table": [
           {
            "cells": {
             "fill": {
              "color": "#EBF0F8"
             },
             "line": {
              "color": "white"
             }
            },
            "header": {
             "fill": {
              "color": "#C8D4E3"
             },
             "line": {
              "color": "white"
             }
            },
            "type": "table"
           }
          ]
         },
         "layout": {
          "annotationdefaults": {
           "arrowcolor": "#2a3f5f",
           "arrowhead": 0,
           "arrowwidth": 1
          },
          "autotypenumbers": "strict",
          "coloraxis": {
           "colorbar": {
            "outlinewidth": 0,
            "ticks": ""
           }
          },
          "colorscale": {
           "diverging": [
            [
             0,
             "#8e0152"
            ],
            [
             0.1,
             "#c51b7d"
            ],
            [
             0.2,
             "#de77ae"
            ],
            [
             0.3,
             "#f1b6da"
            ],
            [
             0.4,
             "#fde0ef"
            ],
            [
             0.5,
             "#f7f7f7"
            ],
            [
             0.6,
             "#e6f5d0"
            ],
            [
             0.7,
             "#b8e186"
            ],
            [
             0.8,
             "#7fbc41"
            ],
            [
             0.9,
             "#4d9221"
            ],
            [
             1,
             "#276419"
            ]
           ],
           "sequential": [
            [
             0,
             "#0d0887"
            ],
            [
             0.1111111111111111,
             "#46039f"
            ],
            [
             0.2222222222222222,
             "#7201a8"
            ],
            [
             0.3333333333333333,
             "#9c179e"
            ],
            [
             0.4444444444444444,
             "#bd3786"
            ],
            [
             0.5555555555555556,
             "#d8576b"
            ],
            [
             0.6666666666666666,
             "#ed7953"
            ],
            [
             0.7777777777777778,
             "#fb9f3a"
            ],
            [
             0.8888888888888888,
             "#fdca26"
            ],
            [
             1,
             "#f0f921"
            ]
           ],
           "sequentialminus": [
            [
             0,
             "#0d0887"
            ],
            [
             0.1111111111111111,
             "#46039f"
            ],
            [
             0.2222222222222222,
             "#7201a8"
            ],
            [
             0.3333333333333333,
             "#9c179e"
            ],
            [
             0.4444444444444444,
             "#bd3786"
            ],
            [
             0.5555555555555556,
             "#d8576b"
            ],
            [
             0.6666666666666666,
             "#ed7953"
            ],
            [
             0.7777777777777778,
             "#fb9f3a"
            ],
            [
             0.8888888888888888,
             "#fdca26"
            ],
            [
             1,
             "#f0f921"
            ]
           ]
          },
          "colorway": [
           "#636efa",
           "#EF553B",
           "#00cc96",
           "#ab63fa",
           "#FFA15A",
           "#19d3f3",
           "#FF6692",
           "#B6E880",
           "#FF97FF",
           "#FECB52"
          ],
          "font": {
           "color": "#2a3f5f"
          },
          "geo": {
           "bgcolor": "white",
           "lakecolor": "white",
           "landcolor": "white",
           "showlakes": true,
           "showland": true,
           "subunitcolor": "#C8D4E3"
          },
          "hoverlabel": {
           "align": "left"
          },
          "hovermode": "closest",
          "mapbox": {
           "style": "light"
          },
          "paper_bgcolor": "white",
          "plot_bgcolor": "white",
          "polar": {
           "angularaxis": {
            "gridcolor": "#EBF0F8",
            "linecolor": "#EBF0F8",
            "ticks": ""
           },
           "bgcolor": "white",
           "radialaxis": {
            "gridcolor": "#EBF0F8",
            "linecolor": "#EBF0F8",
            "ticks": ""
           }
          },
          "scene": {
           "xaxis": {
            "backgroundcolor": "white",
            "gridcolor": "#DFE8F3",
            "gridwidth": 2,
            "linecolor": "#EBF0F8",
            "showbackground": true,
            "ticks": "",
            "zerolinecolor": "#EBF0F8"
           },
           "yaxis": {
            "backgroundcolor": "white",
            "gridcolor": "#DFE8F3",
            "gridwidth": 2,
            "linecolor": "#EBF0F8",
            "showbackground": true,
            "ticks": "",
            "zerolinecolor": "#EBF0F8"
           },
           "zaxis": {
            "backgroundcolor": "white",
            "gridcolor": "#DFE8F3",
            "gridwidth": 2,
            "linecolor": "#EBF0F8",
            "showbackground": true,
            "ticks": "",
            "zerolinecolor": "#EBF0F8"
           }
          },
          "shapedefaults": {
           "line": {
            "color": "#2a3f5f"
           }
          },
          "ternary": {
           "aaxis": {
            "gridcolor": "#DFE8F3",
            "linecolor": "#A2B1C6",
            "ticks": ""
           },
           "baxis": {
            "gridcolor": "#DFE8F3",
            "linecolor": "#A2B1C6",
            "ticks": ""
           },
           "bgcolor": "white",
           "caxis": {
            "gridcolor": "#DFE8F3",
            "linecolor": "#A2B1C6",
            "ticks": ""
           }
          },
          "title": {
           "x": 0.05
          },
          "xaxis": {
           "automargin": true,
           "gridcolor": "#EBF0F8",
           "linecolor": "#EBF0F8",
           "ticks": "",
           "title": {
            "standoff": 15
           },
           "zerolinecolor": "#EBF0F8",
           "zerolinewidth": 2
          },
          "yaxis": {
           "automargin": true,
           "gridcolor": "#EBF0F8",
           "linecolor": "#EBF0F8",
           "ticks": "",
           "title": {
            "standoff": 15
           },
           "zerolinecolor": "#EBF0F8",
           "zerolinewidth": 2
          }
         }
        },
        "title": {
         "text": "Airbnb Seasonal Demand Forecasting Dashboard"
        },
        "xaxis": {
         "anchor": "y",
         "domain": [
          0,
          0.45
         ],
         "title": {
          "text": "Date"
         }
        },
        "xaxis2": {
         "anchor": "y2",
         "domain": [
          0.55,
          1
         ],
         "title": {
          "text": "Season"
         }
        },
        "xaxis3": {
         "anchor": "y3",
         "domain": [
          0,
          0.45
         ],
         "title": {
          "text": "Model"
         }
        },
        "xaxis4": {
         "anchor": "y4",
         "domain": [
          0.55,
          1
         ],
         "title": {
          "text": "Category"
         }
        },
        "yaxis": {
         "anchor": "x",
         "domain": [
          0.625,
          1
         ],
         "title": {
          "text": "Bookings"
         }
        },
        "yaxis2": {
         "anchor": "x2",
         "domain": [
          0.625,
          1
         ],
         "title": {
          "text": "Revenue ($)"
         }
        },
        "yaxis3": {
         "anchor": "x3",
         "domain": [
          0,
          0.375
         ],
         "title": {
          "text": "RMSE"
         }
        },
        "yaxis4": {
         "anchor": "x4",
         "domain": [
          0,
          0.375
         ],
         "title": {
          "text": "Priority Score"
         }
        }
       }
      }
     },
     "metadata": {},
     "output_type": "display_data"
    },
    {
     "name": "stdout",
     "output_type": "stream",
     "text": [
      "\n",
      "🎯 KEY INSIGHTS:\n",
      "   🏆 Best Forecasting Model: SARIMA\n",
      "   📈 Expected Future Bookings: 140.9 avg/month\n",
      "   💰 Highest Revenue Season: Summer\n",
      "   📊 Forecast Accuracy: RMSE = 8.36\n",
      "\n",
      "✅ Time series forecasting analysis completed successfully!\n",
      "🚀 Ready for integration with Streamlit dashboard!\n"
     ]
    }
   ],
   "source": [
    "# Future Forecasting and Recommendations\n",
    "print(\"🔮 Generating future forecasts and business recommendations...\")\n",
    "\n",
    "def generate_forecasting_recommendations(seasonal_filters, models, forecasts, metrics):\n",
    "    \"\"\"\n",
    "    Generate actionable business recommendations based on forecasting results\n",
    "    \"\"\"\n",
    "    \n",
    "    recommendations = {}\n",
    "    \n",
    "    # Get the best performing model\n",
    "    best_model = min(metrics.keys(), key=lambda x: metrics[x]['RMSE'])\n",
    "    best_forecast = forecasts[best_model]\n",
    "    \n",
    "    # Future 12-month forecast\n",
    "    future_months = pd.date_range(start=monthly_data.index[-1], periods=13, freq='M')[1:]\n",
    "    future_forecast_values = best_forecast[-12:] if len(best_forecast) >= 12 else best_forecast\n",
    "    \n",
    "    # Seasonal recommendations\n",
    "    for season, data in seasonal_filters.items():\n",
    "        stats = data['stats']\n",
    "        \n",
    "        recommendations[season] = {\n",
    "            'pricing_strategy': '',\n",
    "            'marketing_focus': '',\n",
    "            'capacity_planning': '',\n",
    "            'revenue_optimization': ''\n",
    "        }\n",
    "        \n",
    "        # Generate season-specific recommendations\n",
    "        if season == 'Summer':\n",
    "            recommendations[season]['pricing_strategy'] = f\"Increase prices by 15-20% (avg: ${stats['avg_price']:.0f})\"\n",
    "            recommendations[season]['marketing_focus'] = \"Focus on tourist attractions and outdoor activities\"\n",
    "            recommendations[season]['capacity_planning'] = f\"Prepare for peak demand ({stats['avg_bookings']:.0f} bookings)\"\n",
    "            recommendations[season]['revenue_optimization'] = \"Maximize weekend bookings (1.2x boost)\"\n",
    "            \n",
    "        elif season == 'Winter':\n",
    "            recommendations[season]['pricing_strategy'] = f\"Reduce prices by 10-15% to maintain occupancy\"\n",
    "            recommendations[season]['marketing_focus'] = \"Target business travelers and holiday events\"\n",
    "            recommendations[season]['capacity_planning'] = f\"Lower capacity expectations ({stats['avg_bookings']:.0f} bookings)\"\n",
    "            recommendations[season]['revenue_optimization'] = \"Focus on longer stays and corporate bookings\"\n",
    "            \n",
    "        elif season == 'Spring':\n",
    "            recommendations[season]['pricing_strategy'] = f\"Gradual price increase as demand grows\"\n",
    "            recommendations[season]['marketing_focus'] = \"Promote spring activities and events\"\n",
    "            recommendations[season]['capacity_planning'] = f\"Moderate capacity ({stats['avg_bookings']:.0f} bookings)\"\n",
    "            recommendations[season]['revenue_optimization'] = \"Target weekend getaways and events\"\n",
    "            \n",
    "        elif season == 'Fall':\n",
    "            recommendations[season]['pricing_strategy'] = f\"Maintain competitive pricing (${stats['avg_price']:.0f})\"\n",
    "            recommendations[season]['marketing_focus'] = \"Focus on business travelers and conferences\"\n",
    "            recommendations[season]['capacity_planning'] = f\"Stable capacity ({stats['avg_bookings']:.0f} bookings)\"\n",
    "            recommendations[season]['revenue_optimization'] = \"Balance leisure and business travelers\"\n",
    "    \n",
    "    return recommendations, future_months, future_forecast_values\n",
    "\n",
    "# Generate recommendations\n",
    "recommendations, future_months, future_forecast_values = generate_forecasting_recommendations(\n",
    "    seasonal_filters, models, forecasts, metrics\n",
    ")\n",
    "\n",
    "# Display recommendations\n",
    "print(\"📋 BUSINESS RECOMMENDATIONS BY SEASON:\")\n",
    "print(\"=\" * 60)\n",
    "\n",
    "for season, recs in recommendations.items():\n",
    "    print(f\"\\n🌿 {season.upper()} SEASON RECOMMENDATIONS:\")\n",
    "    print(f\"   💰 Pricing Strategy: {recs['pricing_strategy']}\")\n",
    "    print(f\"   📢 Marketing Focus: {recs['marketing_focus']}\")\n",
    "    print(f\"   📊 Capacity Planning: {recs['capacity_planning']}\")\n",
    "    print(f\"   💵 Revenue Optimization: {recs['revenue_optimization']}\")\n",
    "\n",
    "# Create final forecasting dashboard\n",
    "fig = make_subplots(\n",
    "    rows=2, cols=2,\n",
    "    subplot_titles=('12-Month Future Forecast', 'Seasonal Revenue Projections',\n",
    "                   'Forecasting Model Performance', 'Business Recommendations Summary'),\n",
    "    specs=[[{\"secondary_y\": False}, {\"secondary_y\": False}],\n",
    "           [{\"secondary_y\": False}, {\"secondary_y\": False}]]\n",
    ")\n",
    "\n",
    "# 1. Future Forecast\n",
    "fig.add_trace(\n",
    "    go.Scatter(x=monthly_data.index, y=monthly_data['bookings'], \n",
    "               mode='lines', name='Historical Data', line=dict(color='blue')),\n",
    "    row=1, col=1\n",
    ")\n",
    "\n",
    "fig.add_trace(\n",
    "    go.Scatter(x=future_months, y=future_forecast_values, \n",
    "               mode='lines+markers', name='Future Forecast', \n",
    "               line=dict(color='red', dash='dash')),\n",
    "    row=1, col=1\n",
    ")\n",
    "\n",
    "# 2. Seasonal Revenue Projections\n",
    "seasonal_revenue = {}\n",
    "for season, data in seasonal_filters.items():\n",
    "    avg_bookings = data['stats']['avg_bookings']\n",
    "    avg_price = data['stats']['avg_price']\n",
    "    seasonal_revenue[season] = avg_bookings * avg_price\n",
    "\n",
    "seasons = list(seasonal_revenue.keys())\n",
    "revenues = list(seasonal_revenue.values())\n",
    "\n",
    "fig.add_trace(\n",
    "    go.Bar(x=seasons, y=revenues, name='Projected Revenue', \n",
    "           marker_color=['#FF6B6B', '#4ECDC4', '#45B7D1', '#96CEB4']),\n",
    "    row=1, col=2\n",
    ")\n",
    "\n",
    "# 3. Model Performance\n",
    "model_names = list(metrics.keys())\n",
    "rmse_values = [metrics[name]['RMSE'] for name in model_names]\n",
    "\n",
    "fig.add_trace(\n",
    "    go.Bar(x=model_names, y=rmse_values, name='RMSE', \n",
    "           marker_color='lightblue'),\n",
    "    row=2, col=1\n",
    ")\n",
    "\n",
    "# 4. Recommendations Summary (simplified visualization)\n",
    "recommendation_categories = ['Pricing', 'Marketing', 'Capacity', 'Revenue']\n",
    "recommendation_scores = [4, 3, 4, 3]  # Simplified scoring\n",
    "\n",
    "fig.add_trace(\n",
    "    go.Bar(x=recommendation_categories, y=recommendation_scores, \n",
    "           name='Priority Score', marker_color='lightgreen'),\n",
    "    row=2, col=2\n",
    ")\n",
    "\n",
    "# Update layout\n",
    "fig.update_layout(\n",
    "    height=800,\n",
    "    title_text=\"Airbnb Seasonal Demand Forecasting Dashboard\",\n",
    "    showlegend=True,\n",
    "    template=\"plotly_white\"\n",
    ")\n",
    "\n",
    "# Update axes labels\n",
    "fig.update_xaxes(title_text=\"Date\", row=1, col=1)\n",
    "fig.update_xaxes(title_text=\"Season\", row=1, col=2)\n",
    "fig.update_xaxes(title_text=\"Model\", row=2, col=1)\n",
    "fig.update_xaxes(title_text=\"Category\", row=2, col=2)\n",
    "\n",
    "fig.update_yaxes(title_text=\"Bookings\", row=1, col=1)\n",
    "fig.update_yaxes(title_text=\"Revenue ($)\", row=1, col=2)\n",
    "fig.update_yaxes(title_text=\"RMSE\", row=2, col=1)\n",
    "fig.update_yaxes(title_text=\"Priority Score\", row=2, col=2)\n",
    "\n",
    "fig.show()\n",
    "\n",
    "print(\"\\n🎯 KEY INSIGHTS:\")\n",
    "print(f\"   🏆 Best Forecasting Model: {best_model}\")\n",
    "print(f\"   📈 Expected Future Bookings: {future_forecast_values.mean():.1f} avg/month\")\n",
    "print(f\"   💰 Highest Revenue Season: {max(seasonal_revenue, key=seasonal_revenue.get)}\")\n",
    "print(f\"   📊 Forecast Accuracy: RMSE = {metrics[best_model]['RMSE']:.2f}\")\n",
    "\n",
    "print(\"\\n✅ Time series forecasting analysis completed successfully!\")\n",
    "print(\"🚀 Ready for integration with Streamlit dashboard!\")\n"
   ]
  },
  {
   "cell_type": "code",
   "execution_count": null,
   "id": "8e97e496",
   "metadata": {},
   "outputs": [],
   "source": []
  }
 ],
 "metadata": {
  "kernelspec": {
   "display_name": "ml_env",
   "language": "python",
   "name": "python3"
  },
  "language_info": {
   "codemirror_mode": {
    "name": "ipython",
    "version": 3
   },
   "file_extension": ".py",
   "mimetype": "text/x-python",
   "name": "python",
   "nbconvert_exporter": "python",
   "pygments_lexer": "ipython3",
   "version": "3.12.11"
  }
 },
 "nbformat": 4,
 "nbformat_minor": 5
}
